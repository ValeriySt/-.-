{
 "cells": [
  {
   "cell_type": "markdown",
   "metadata": {},
   "source": [
    "# Описание проекта\n",
    "\n",
    "**Контекст**\n",
    "\n",
    "Вы — аналитик крупного интернет-магазина. Вместе с отделом маркетинга вы подготовили список гипотез для увеличения выручки.\n",
    "Приоритизируйте гипотезы, запустите A/B-тест и проанализируйте результаты.\n",
    "\n",
    "**Часть 1. Приоритизация гипотез.**\n",
    "\n",
    "В файле **/datasets/hypothesis.csv** 9 гипотез по увеличению выручки интернет-магазина с указанными параметрами **Reach**, **Impact**, **Confidence**, **Effort**.\n",
    "\n",
    "**Задача**\n",
    "\n",
    "   * Примените фреймворк ICE для приоритизации гипотез. Отсортируйте их по убыванию приоритета.\n",
    "   * Примените фреймворк RICE для приоритизации гипотез. Отсортируйте их по убыванию приоритета.\n",
    "   * Укажите, как изменилась приоритизация гипотез при применении RICE вместо ICE. Объясните, почему так произошло.\n",
    "    \n",
    "**Часть 2. Анализ A/B-теста**\n",
    "\n",
    "Вы провели A/B-тест и получили результаты, которые описаны в файлах /datasets/orders.csv и /datasets/visitors.csv.\n",
    "\n",
    "**Задача**\n",
    "\n",
    "Проанализируйте A/B-тест:\n",
    "\n",
    "\n",
    "    - Постройте график кумулятивной выручки по группам. Сделайте выводы и предположения.\n",
    "    - Постройте график кумулятивного среднего чека по группам. Сделайте выводы и предположения.\n",
    "    - Постройте график относительного изменения кумулятивного среднего чека группы B к группе A. Сделайте выводы и предположения.\n",
    "    - Постройте график кумулятивной конверсии по группам. Сделайте выводы и предположения.\n",
    "    - Постройте график относительного изменения кумулятивной конверсии группы B к группе A. Сделайте выводы и предположения.\n",
    "    - Постройте точечный график количества заказов по пользователям. Сделайте выводы и предположения.\n",
    "    - Посчитайте 95-й и 99-й перцентили количества заказов на пользователя. Выберите границу для определения аномальных пользователей.\n",
    "    - Постройте точечный график стоимостей заказов. Сделайте выводы и предположения.\n",
    "    - Посчитайте 95-й и 99-й перцентили стоимости заказов. Выберите границу для определения аномальных заказов.\n",
    "    - Посчитайте статистическую значимость различий в конверсии между группами по «сырым» данным. Сделайте выводы и предположения.\n",
    "    - Посчитайте статистическую значимость различий в среднем чеке заказа между группами по «сырым» данным. Сделайте выводы и предположения.\n",
    "    - Посчитайте статистическую значимость различий в конверсии между группами по «очищенным» данным. Сделайте выводы и предположения.\n",
    "    - Посчитайте статистическую значимость различий в среднем чеке заказа между группами по «очищенным» данным. Сделайте выводы и предположения.\n",
    "    - Примите решение по результатам теста и объясните его. Варианты решений:\n",
    "        - 1. Остановить тест, зафиксировать победу одной из групп. \n",
    "        - 2. Остановить тест, зафиксировать отсутствие различий между группами. \n",
    "        - 3. Продолжить тест.\n",
    "\n",
    "\n",
    "# Описание данных\n",
    "\n",
    "**Данные для первой части**\n",
    "\n",
    "Файл /datasets/hypothesis.csv. \n",
    "\n",
    "* Hypothesis — краткое описание гипотезы;\n",
    "* Reach — охват пользователей по 10-балльной шкале;\n",
    "* Impact — влияние на пользователей по 10-балльной шкале;\n",
    "* Confidence — уверенность в гипотезе по 10-балльной шкале;\n",
    "* Efforts — затраты ресурсов на проверку гипотезы по 10-балльной шкале. Чем больше значение Efforts, тем дороже проверка гипотезы.\n",
    "\n",
    "**Данные для второй части**\n",
    "\n",
    "Файл /datasets/orders.csv. \n",
    "\n",
    "* transactionId — идентификатор заказа;\n",
    "* visitorId — идентификатор пользователя, совершившего заказ;\n",
    "* date — дата, когда был совершён заказ;\n",
    "* revenue — выручка заказа;\n",
    "* group — группа A/B-теста, в которую попал заказ.\n",
    "\n",
    "Файл /datasets/visitors.csv.\n",
    "\n",
    "* date — дата;\n",
    "* group — группа A/B-теста;\n",
    "* visitors — количество пользователей в указанную дату в указанной группе A/B-теста"
   ]
  },
  {
   "cell_type": "markdown",
   "metadata": {},
   "source": [
    "# <a name=\"contents\">Задачи исследования — Сборный проект</a>\n",
    "# [1. Загрузите данные и подготовьте их к анализу](#stage_1)\n",
    "\n",
    "    - Файл /datasets/hypothesis.csv.\n",
    "    - Файл /datasets/orders.csv.\n",
    "    - Файл /datasets/visitors.csv.\n",
    "\n",
    "# [2. Приоритизация гипотез.](#stage_2)\n",
    "\n",
    "    - Применим фреймворк ICE для приоритизации гипотез. Отсортируем их по убыванию приоритета.\n",
    "    - Применим фреймворк RICE для приоритизации гипотез. Отсортируем их по убыванию приоритета.\n",
    "    - Укажем, как изменилась приоритизация гипотез при применении RICE вместо ICE. Объясним, почему так произошло.\n",
    "\n",
    "\n",
    "# [3. Анализ A/B-теста](#stage_3)\n",
    "\n",
    "\n",
    "#### [Постройте график кумулятивной выручки по группам. Сделайте выводы и предположения.](#stage_99)\n",
    "#### [Постройте график кумулятивного среднего чека по группам. Сделайте выводы и предположения.](#stage_98)\n",
    "#### [Постройте график относительного изменения кумулятивного среднего чека группы B к группе A. Сделайте выводы и предположения.](#stage_97)\n",
    "#### [Постройте график кумулятивной конверсии по группам. Сделайте выводы и предположения.](#stage_96)\n",
    "#### [Постройте график относительного изменения кумулятивной конверсии группы B к группе A. Сделайте выводы и предположения.](#stage_95)\n",
    "#### [Постройте точечный график количества заказов по пользователям. Сделайте выводы и предположения.](#stage_94)\n",
    "#### [Посчитайте 95-й и 99-й перцентили количества заказов на пользователя. Выберите границу для определения аномальных пользователей.](#stage_93)\n",
    "#### [Постройте точечный график стоимостей заказов. Сделайте выводы и предположения.](#stage_92)\n",
    "#### [Посчитайте 95-й и 99-й перцентили стоимости заказов. Выберите границу для определения аномальных заказов.](#stage_91)\n",
    "#### [Посчитайте статистическую значимость различий в конверсии между группами по «сырым» данным. Сделайте выводы и предположения.](#stage_90)\n",
    "#### [Посчитайте статистическую значимость различий в среднем чеке заказа между группами по «сырым» данным. Сделайте выводы и предположения.](#stage_89)\n",
    "#### [Посчитайте статистическую значимость различий в конверсии между группами по «очищенным» данным. Сделайте выводы и предположения.](#stage_88)\n",
    "#### [Посчитайте статистическую значимость различий в среднем чеке заказа между группами по «очищенным» данным. Сделайте выводы и предположения.](#stage_87)\n",
    "#### [Примите решение по результатам теста и объясните его. Варианты решений: ](#stage_86)\n",
    "    - 1. Остановить тест, зафиксировать победу одной из групп. \n",
    "    - 2. Остановить тест, зафиксировать отсутствие различий между группами. \n",
    "    - 3. Продолжить тест.\n",
    "\n",
    "# [3. Сформулируйте выводы и рекомендации](#stage_4)\n",
    "\n",
    "\n"
   ]
  },
  {
   "cell_type": "markdown",
   "metadata": {},
   "source": [
    "<a name=\"stage_1\"></a>\n",
    "# Шаг 1. Загрузите данные и подготовьте их к анализу"
   ]
  },
  {
   "cell_type": "code",
   "execution_count": 1,
   "metadata": {},
   "outputs": [],
   "source": [
    "import pandas as pd\n",
    "import numpy as np\n",
    "import matplotlib.pyplot as plt\n",
    "import math\n",
    "import seaborn as sns \n",
    "import scipy.stats as stats\n",
    "import copy\n",
    "import warnings\n",
    "import plotly.express as px"
   ]
  },
  {
   "cell_type": "code",
   "execution_count": 3,
   "metadata": {},
   "outputs": [],
   "source": [
    "# Подгрузим датасеты\n",
    "hypothesis = pd.read_csv('/datasets/hypothesis.csv')\n",
    "orders = pd.read_csv('/datasets/orders.csv')\n",
    "visitors = pd.read_csv('/datasets/visitors.csv')"
   ]
  },
  {
   "cell_type": "code",
   "execution_count": 4,
   "metadata": {},
   "outputs": [
    {
     "data": {
      "text/html": [
       "<div>\n",
       "<style scoped>\n",
       "    .dataframe tbody tr th:only-of-type {\n",
       "        vertical-align: middle;\n",
       "    }\n",
       "\n",
       "    .dataframe tbody tr th {\n",
       "        vertical-align: top;\n",
       "    }\n",
       "\n",
       "    .dataframe thead th {\n",
       "        text-align: right;\n",
       "    }\n",
       "</style>\n",
       "<table border=\"1\" class=\"dataframe\">\n",
       "  <thead>\n",
       "    <tr style=\"text-align: right;\">\n",
       "      <th></th>\n",
       "      <th>Hypothesis</th>\n",
       "      <th>Reach</th>\n",
       "      <th>Impact</th>\n",
       "      <th>Confidence</th>\n",
       "      <th>Efforts</th>\n",
       "    </tr>\n",
       "  </thead>\n",
       "  <tbody>\n",
       "    <tr>\n",
       "      <td>0</td>\n",
       "      <td>Добавить два новых канала привлечения трафика,...</td>\n",
       "      <td>3</td>\n",
       "      <td>10</td>\n",
       "      <td>8</td>\n",
       "      <td>6</td>\n",
       "    </tr>\n",
       "    <tr>\n",
       "      <td>1</td>\n",
       "      <td>Запустить собственную службу доставки, что сок...</td>\n",
       "      <td>2</td>\n",
       "      <td>5</td>\n",
       "      <td>4</td>\n",
       "      <td>10</td>\n",
       "    </tr>\n",
       "    <tr>\n",
       "      <td>2</td>\n",
       "      <td>Добавить блоки рекомендаций товаров на сайт ин...</td>\n",
       "      <td>8</td>\n",
       "      <td>3</td>\n",
       "      <td>7</td>\n",
       "      <td>3</td>\n",
       "    </tr>\n",
       "    <tr>\n",
       "      <td>3</td>\n",
       "      <td>Изменить структура категорий, что увеличит кон...</td>\n",
       "      <td>8</td>\n",
       "      <td>3</td>\n",
       "      <td>3</td>\n",
       "      <td>8</td>\n",
       "    </tr>\n",
       "    <tr>\n",
       "      <td>4</td>\n",
       "      <td>Изменить цвет фона главной страницы, чтобы уве...</td>\n",
       "      <td>3</td>\n",
       "      <td>1</td>\n",
       "      <td>1</td>\n",
       "      <td>1</td>\n",
       "    </tr>\n",
       "    <tr>\n",
       "      <td>5</td>\n",
       "      <td>Добавить страницу отзывов клиентов о магазине,...</td>\n",
       "      <td>3</td>\n",
       "      <td>2</td>\n",
       "      <td>2</td>\n",
       "      <td>3</td>\n",
       "    </tr>\n",
       "    <tr>\n",
       "      <td>6</td>\n",
       "      <td>Показать на главной странице баннеры с актуаль...</td>\n",
       "      <td>5</td>\n",
       "      <td>3</td>\n",
       "      <td>8</td>\n",
       "      <td>3</td>\n",
       "    </tr>\n",
       "    <tr>\n",
       "      <td>7</td>\n",
       "      <td>Добавить форму подписки на все основные страни...</td>\n",
       "      <td>10</td>\n",
       "      <td>7</td>\n",
       "      <td>8</td>\n",
       "      <td>5</td>\n",
       "    </tr>\n",
       "    <tr>\n",
       "      <td>8</td>\n",
       "      <td>Запустить акцию, дающую скидку на товар в день...</td>\n",
       "      <td>1</td>\n",
       "      <td>9</td>\n",
       "      <td>9</td>\n",
       "      <td>5</td>\n",
       "    </tr>\n",
       "  </tbody>\n",
       "</table>\n",
       "</div>"
      ],
      "text/plain": [
       "                                          Hypothesis  Reach  Impact  \\\n",
       "0  Добавить два новых канала привлечения трафика,...      3      10   \n",
       "1  Запустить собственную службу доставки, что сок...      2       5   \n",
       "2  Добавить блоки рекомендаций товаров на сайт ин...      8       3   \n",
       "3  Изменить структура категорий, что увеличит кон...      8       3   \n",
       "4  Изменить цвет фона главной страницы, чтобы уве...      3       1   \n",
       "5  Добавить страницу отзывов клиентов о магазине,...      3       2   \n",
       "6  Показать на главной странице баннеры с актуаль...      5       3   \n",
       "7  Добавить форму подписки на все основные страни...     10       7   \n",
       "8  Запустить акцию, дающую скидку на товар в день...      1       9   \n",
       "\n",
       "   Confidence  Efforts  \n",
       "0           8        6  \n",
       "1           4       10  \n",
       "2           7        3  \n",
       "3           3        8  \n",
       "4           1        1  \n",
       "5           2        3  \n",
       "6           8        3  \n",
       "7           8        5  \n",
       "8           9        5  "
      ]
     },
     "execution_count": 4,
     "metadata": {},
     "output_type": "execute_result"
    }
   ],
   "source": [
    "# Откроем датасет\n",
    "hypothesis"
   ]
  },
  {
   "cell_type": "markdown",
   "metadata": {},
   "source": [
    "Датасет необьемный, данные выглядят хорошо"
   ]
  },
  {
   "cell_type": "code",
   "execution_count": 5,
   "metadata": {},
   "outputs": [
    {
     "name": "stdout",
     "output_type": "stream",
     "text": [
      "<class 'pandas.core.frame.DataFrame'>\n",
      "RangeIndex: 9 entries, 0 to 8\n",
      "Data columns (total 5 columns):\n",
      "Hypothesis    9 non-null object\n",
      "Reach         9 non-null int64\n",
      "Impact        9 non-null int64\n",
      "Confidence    9 non-null int64\n",
      "Efforts       9 non-null int64\n",
      "dtypes: int64(4), object(1)\n",
      "memory usage: 488.0+ bytes\n"
     ]
    }
   ],
   "source": [
    "# Посмотрим общую информацию\n",
    "hypothesis.info()"
   ]
  },
  {
   "cell_type": "code",
   "execution_count": 6,
   "metadata": {},
   "outputs": [
    {
     "data": {
      "text/plain": [
       "0"
      ]
     },
     "execution_count": 6,
     "metadata": {},
     "output_type": "execute_result"
    }
   ],
   "source": [
    "# Проверим дубликаты \n",
    "hypothesis.duplicated().sum()"
   ]
  },
  {
   "cell_type": "markdown",
   "metadata": {},
   "source": [
    "Дубликатов нет"
   ]
  },
  {
   "cell_type": "code",
   "execution_count": 7,
   "metadata": {},
   "outputs": [
    {
     "data": {
      "text/plain": [
       "Hypothesis    0\n",
       "Reach         0\n",
       "Impact        0\n",
       "Confidence    0\n",
       "Efforts       0\n",
       "dtype: int64"
      ]
     },
     "execution_count": 7,
     "metadata": {},
     "output_type": "execute_result"
    }
   ],
   "source": [
    "# Проверим пропущеные значения \n",
    "hypothesis.isna().sum()"
   ]
  },
  {
   "cell_type": "markdown",
   "metadata": {},
   "source": [
    "Пропущеных значений нет "
   ]
  },
  {
   "cell_type": "code",
   "execution_count": 8,
   "metadata": {},
   "outputs": [
    {
     "data": {
      "text/html": [
       "<div>\n",
       "<style scoped>\n",
       "    .dataframe tbody tr th:only-of-type {\n",
       "        vertical-align: middle;\n",
       "    }\n",
       "\n",
       "    .dataframe tbody tr th {\n",
       "        vertical-align: top;\n",
       "    }\n",
       "\n",
       "    .dataframe thead th {\n",
       "        text-align: right;\n",
       "    }\n",
       "</style>\n",
       "<table border=\"1\" class=\"dataframe\">\n",
       "  <thead>\n",
       "    <tr style=\"text-align: right;\">\n",
       "      <th></th>\n",
       "      <th>Reach</th>\n",
       "      <th>Impact</th>\n",
       "      <th>Confidence</th>\n",
       "      <th>Efforts</th>\n",
       "    </tr>\n",
       "  </thead>\n",
       "  <tbody>\n",
       "    <tr>\n",
       "      <td>count</td>\n",
       "      <td>9.000000</td>\n",
       "      <td>9.000000</td>\n",
       "      <td>9.000000</td>\n",
       "      <td>9.000000</td>\n",
       "    </tr>\n",
       "    <tr>\n",
       "      <td>mean</td>\n",
       "      <td>4.777778</td>\n",
       "      <td>4.777778</td>\n",
       "      <td>5.555556</td>\n",
       "      <td>4.888889</td>\n",
       "    </tr>\n",
       "    <tr>\n",
       "      <td>std</td>\n",
       "      <td>3.153481</td>\n",
       "      <td>3.192874</td>\n",
       "      <td>3.045944</td>\n",
       "      <td>2.803767</td>\n",
       "    </tr>\n",
       "    <tr>\n",
       "      <td>min</td>\n",
       "      <td>1.000000</td>\n",
       "      <td>1.000000</td>\n",
       "      <td>1.000000</td>\n",
       "      <td>1.000000</td>\n",
       "    </tr>\n",
       "    <tr>\n",
       "      <td>25%</td>\n",
       "      <td>3.000000</td>\n",
       "      <td>3.000000</td>\n",
       "      <td>3.000000</td>\n",
       "      <td>3.000000</td>\n",
       "    </tr>\n",
       "    <tr>\n",
       "      <td>50%</td>\n",
       "      <td>3.000000</td>\n",
       "      <td>3.000000</td>\n",
       "      <td>7.000000</td>\n",
       "      <td>5.000000</td>\n",
       "    </tr>\n",
       "    <tr>\n",
       "      <td>75%</td>\n",
       "      <td>8.000000</td>\n",
       "      <td>7.000000</td>\n",
       "      <td>8.000000</td>\n",
       "      <td>6.000000</td>\n",
       "    </tr>\n",
       "    <tr>\n",
       "      <td>max</td>\n",
       "      <td>10.000000</td>\n",
       "      <td>10.000000</td>\n",
       "      <td>9.000000</td>\n",
       "      <td>10.000000</td>\n",
       "    </tr>\n",
       "  </tbody>\n",
       "</table>\n",
       "</div>"
      ],
      "text/plain": [
       "           Reach     Impact  Confidence    Efforts\n",
       "count   9.000000   9.000000    9.000000   9.000000\n",
       "mean    4.777778   4.777778    5.555556   4.888889\n",
       "std     3.153481   3.192874    3.045944   2.803767\n",
       "min     1.000000   1.000000    1.000000   1.000000\n",
       "25%     3.000000   3.000000    3.000000   3.000000\n",
       "50%     3.000000   3.000000    7.000000   5.000000\n",
       "75%     8.000000   7.000000    8.000000   6.000000\n",
       "max    10.000000  10.000000    9.000000  10.000000"
      ]
     },
     "execution_count": 8,
     "metadata": {},
     "output_type": "execute_result"
    }
   ],
   "source": [
    "# Посмотрим статистические сведения о датафрейме\n",
    "hypothesis.describe()"
   ]
  },
  {
   "cell_type": "code",
   "execution_count": 9,
   "metadata": {},
   "outputs": [],
   "source": [
    "# Преобразуем все символы в нижний регистр\n",
    "hypothesis.columns = hypothesis.columns.str.lower()"
   ]
  },
  {
   "cell_type": "code",
   "execution_count": 10,
   "metadata": {},
   "outputs": [
    {
     "data": {
      "text/html": [
       "<div>\n",
       "<style scoped>\n",
       "    .dataframe tbody tr th:only-of-type {\n",
       "        vertical-align: middle;\n",
       "    }\n",
       "\n",
       "    .dataframe tbody tr th {\n",
       "        vertical-align: top;\n",
       "    }\n",
       "\n",
       "    .dataframe thead th {\n",
       "        text-align: right;\n",
       "    }\n",
       "</style>\n",
       "<table border=\"1\" class=\"dataframe\">\n",
       "  <thead>\n",
       "    <tr style=\"text-align: right;\">\n",
       "      <th></th>\n",
       "      <th>hypothesis</th>\n",
       "      <th>reach</th>\n",
       "      <th>impact</th>\n",
       "      <th>confidence</th>\n",
       "      <th>efforts</th>\n",
       "    </tr>\n",
       "  </thead>\n",
       "  <tbody>\n",
       "    <tr>\n",
       "      <td>0</td>\n",
       "      <td>Добавить два новых канала привлечения трафика,...</td>\n",
       "      <td>3</td>\n",
       "      <td>10</td>\n",
       "      <td>8</td>\n",
       "      <td>6</td>\n",
       "    </tr>\n",
       "    <tr>\n",
       "      <td>1</td>\n",
       "      <td>Запустить собственную службу доставки, что сок...</td>\n",
       "      <td>2</td>\n",
       "      <td>5</td>\n",
       "      <td>4</td>\n",
       "      <td>10</td>\n",
       "    </tr>\n",
       "    <tr>\n",
       "      <td>2</td>\n",
       "      <td>Добавить блоки рекомендаций товаров на сайт ин...</td>\n",
       "      <td>8</td>\n",
       "      <td>3</td>\n",
       "      <td>7</td>\n",
       "      <td>3</td>\n",
       "    </tr>\n",
       "    <tr>\n",
       "      <td>3</td>\n",
       "      <td>Изменить структура категорий, что увеличит кон...</td>\n",
       "      <td>8</td>\n",
       "      <td>3</td>\n",
       "      <td>3</td>\n",
       "      <td>8</td>\n",
       "    </tr>\n",
       "    <tr>\n",
       "      <td>4</td>\n",
       "      <td>Изменить цвет фона главной страницы, чтобы уве...</td>\n",
       "      <td>3</td>\n",
       "      <td>1</td>\n",
       "      <td>1</td>\n",
       "      <td>1</td>\n",
       "    </tr>\n",
       "    <tr>\n",
       "      <td>5</td>\n",
       "      <td>Добавить страницу отзывов клиентов о магазине,...</td>\n",
       "      <td>3</td>\n",
       "      <td>2</td>\n",
       "      <td>2</td>\n",
       "      <td>3</td>\n",
       "    </tr>\n",
       "    <tr>\n",
       "      <td>6</td>\n",
       "      <td>Показать на главной странице баннеры с актуаль...</td>\n",
       "      <td>5</td>\n",
       "      <td>3</td>\n",
       "      <td>8</td>\n",
       "      <td>3</td>\n",
       "    </tr>\n",
       "    <tr>\n",
       "      <td>7</td>\n",
       "      <td>Добавить форму подписки на все основные страни...</td>\n",
       "      <td>10</td>\n",
       "      <td>7</td>\n",
       "      <td>8</td>\n",
       "      <td>5</td>\n",
       "    </tr>\n",
       "    <tr>\n",
       "      <td>8</td>\n",
       "      <td>Запустить акцию, дающую скидку на товар в день...</td>\n",
       "      <td>1</td>\n",
       "      <td>9</td>\n",
       "      <td>9</td>\n",
       "      <td>5</td>\n",
       "    </tr>\n",
       "  </tbody>\n",
       "</table>\n",
       "</div>"
      ],
      "text/plain": [
       "                                          hypothesis  reach  impact  \\\n",
       "0  Добавить два новых канала привлечения трафика,...      3      10   \n",
       "1  Запустить собственную службу доставки, что сок...      2       5   \n",
       "2  Добавить блоки рекомендаций товаров на сайт ин...      8       3   \n",
       "3  Изменить структура категорий, что увеличит кон...      8       3   \n",
       "4  Изменить цвет фона главной страницы, чтобы уве...      3       1   \n",
       "5  Добавить страницу отзывов клиентов о магазине,...      3       2   \n",
       "6  Показать на главной странице баннеры с актуаль...      5       3   \n",
       "7  Добавить форму подписки на все основные страни...     10       7   \n",
       "8  Запустить акцию, дающую скидку на товар в день...      1       9   \n",
       "\n",
       "   confidence  efforts  \n",
       "0           8        6  \n",
       "1           4       10  \n",
       "2           7        3  \n",
       "3           3        8  \n",
       "4           1        1  \n",
       "5           2        3  \n",
       "6           8        3  \n",
       "7           8        5  \n",
       "8           9        5  "
      ]
     },
     "execution_count": 10,
     "metadata": {},
     "output_type": "execute_result"
    }
   ],
   "source": [
    "hypothesis"
   ]
  },
  {
   "cell_type": "markdown",
   "metadata": {},
   "source": [
    "    * Выборка файла состоит из 5-ти столбцов и 9-ти строк.\n",
    "    * Тип данных соответветствует.\n",
    "    * Преобразовали все символы в нижний регистр\n",
    "    * Датасет необьемный, статистические сведения хорошие \n",
    "    * Дубликатов нет\n",
    "    * Пропущеных значений нет"
   ]
  },
  {
   "cell_type": "markdown",
   "metadata": {},
   "source": [
    "*** "
   ]
  },
  {
   "cell_type": "code",
   "execution_count": 11,
   "metadata": {},
   "outputs": [
    {
     "data": {
      "text/html": [
       "<div>\n",
       "<style scoped>\n",
       "    .dataframe tbody tr th:only-of-type {\n",
       "        vertical-align: middle;\n",
       "    }\n",
       "\n",
       "    .dataframe tbody tr th {\n",
       "        vertical-align: top;\n",
       "    }\n",
       "\n",
       "    .dataframe thead th {\n",
       "        text-align: right;\n",
       "    }\n",
       "</style>\n",
       "<table border=\"1\" class=\"dataframe\">\n",
       "  <thead>\n",
       "    <tr style=\"text-align: right;\">\n",
       "      <th></th>\n",
       "      <th>transactionId</th>\n",
       "      <th>visitorId</th>\n",
       "      <th>date</th>\n",
       "      <th>revenue</th>\n",
       "      <th>group</th>\n",
       "    </tr>\n",
       "  </thead>\n",
       "  <tbody>\n",
       "    <tr>\n",
       "      <td>0</td>\n",
       "      <td>3667963787</td>\n",
       "      <td>3312258926</td>\n",
       "      <td>2019-08-15</td>\n",
       "      <td>1650</td>\n",
       "      <td>B</td>\n",
       "    </tr>\n",
       "    <tr>\n",
       "      <td>1</td>\n",
       "      <td>2804400009</td>\n",
       "      <td>3642806036</td>\n",
       "      <td>2019-08-15</td>\n",
       "      <td>730</td>\n",
       "      <td>B</td>\n",
       "    </tr>\n",
       "    <tr>\n",
       "      <td>2</td>\n",
       "      <td>2961555356</td>\n",
       "      <td>4069496402</td>\n",
       "      <td>2019-08-15</td>\n",
       "      <td>400</td>\n",
       "      <td>A</td>\n",
       "    </tr>\n",
       "    <tr>\n",
       "      <td>3</td>\n",
       "      <td>3797467345</td>\n",
       "      <td>1196621759</td>\n",
       "      <td>2019-08-15</td>\n",
       "      <td>9759</td>\n",
       "      <td>B</td>\n",
       "    </tr>\n",
       "    <tr>\n",
       "      <td>4</td>\n",
       "      <td>2282983706</td>\n",
       "      <td>2322279887</td>\n",
       "      <td>2019-08-15</td>\n",
       "      <td>2308</td>\n",
       "      <td>B</td>\n",
       "    </tr>\n",
       "    <tr>\n",
       "      <td>...</td>\n",
       "      <td>...</td>\n",
       "      <td>...</td>\n",
       "      <td>...</td>\n",
       "      <td>...</td>\n",
       "      <td>...</td>\n",
       "    </tr>\n",
       "    <tr>\n",
       "      <td>1192</td>\n",
       "      <td>2662137336</td>\n",
       "      <td>3733762160</td>\n",
       "      <td>2019-08-14</td>\n",
       "      <td>6490</td>\n",
       "      <td>B</td>\n",
       "    </tr>\n",
       "    <tr>\n",
       "      <td>1193</td>\n",
       "      <td>2203539145</td>\n",
       "      <td>370388673</td>\n",
       "      <td>2019-08-14</td>\n",
       "      <td>3190</td>\n",
       "      <td>A</td>\n",
       "    </tr>\n",
       "    <tr>\n",
       "      <td>1194</td>\n",
       "      <td>1807773912</td>\n",
       "      <td>573423106</td>\n",
       "      <td>2019-08-14</td>\n",
       "      <td>10550</td>\n",
       "      <td>A</td>\n",
       "    </tr>\n",
       "    <tr>\n",
       "      <td>1195</td>\n",
       "      <td>1947021204</td>\n",
       "      <td>1614305549</td>\n",
       "      <td>2019-08-14</td>\n",
       "      <td>100</td>\n",
       "      <td>A</td>\n",
       "    </tr>\n",
       "    <tr>\n",
       "      <td>1196</td>\n",
       "      <td>3936777065</td>\n",
       "      <td>2108080724</td>\n",
       "      <td>2019-08-15</td>\n",
       "      <td>202740</td>\n",
       "      <td>B</td>\n",
       "    </tr>\n",
       "  </tbody>\n",
       "</table>\n",
       "<p>1197 rows × 5 columns</p>\n",
       "</div>"
      ],
      "text/plain": [
       "      transactionId   visitorId        date  revenue group\n",
       "0        3667963787  3312258926  2019-08-15     1650     B\n",
       "1        2804400009  3642806036  2019-08-15      730     B\n",
       "2        2961555356  4069496402  2019-08-15      400     A\n",
       "3        3797467345  1196621759  2019-08-15     9759     B\n",
       "4        2282983706  2322279887  2019-08-15     2308     B\n",
       "...             ...         ...         ...      ...   ...\n",
       "1192     2662137336  3733762160  2019-08-14     6490     B\n",
       "1193     2203539145   370388673  2019-08-14     3190     A\n",
       "1194     1807773912   573423106  2019-08-14    10550     A\n",
       "1195     1947021204  1614305549  2019-08-14      100     A\n",
       "1196     3936777065  2108080724  2019-08-15   202740     B\n",
       "\n",
       "[1197 rows x 5 columns]"
      ]
     },
     "execution_count": 11,
     "metadata": {},
     "output_type": "execute_result"
    }
   ],
   "source": [
    "# Откроем датасет\n",
    "orders"
   ]
  },
  {
   "cell_type": "markdown",
   "metadata": {},
   "source": [
    "Относительно обьемный дтасет"
   ]
  },
  {
   "cell_type": "code",
   "execution_count": 12,
   "metadata": {},
   "outputs": [
    {
     "name": "stdout",
     "output_type": "stream",
     "text": [
      "<class 'pandas.core.frame.DataFrame'>\n",
      "RangeIndex: 1197 entries, 0 to 1196\n",
      "Data columns (total 5 columns):\n",
      "transactionId    1197 non-null int64\n",
      "visitorId        1197 non-null int64\n",
      "date             1197 non-null object\n",
      "revenue          1197 non-null int64\n",
      "group            1197 non-null object\n",
      "dtypes: int64(3), object(2)\n",
      "memory usage: 46.9+ KB\n"
     ]
    }
   ],
   "source": [
    "# Посмотрим общую информацию\n",
    "orders.info()"
   ]
  },
  {
   "cell_type": "markdown",
   "metadata": {},
   "source": [
    "Столбец date не соответствует типу данных object, изменим "
   ]
  },
  {
   "cell_type": "code",
   "execution_count": 13,
   "metadata": {},
   "outputs": [],
   "source": [
    "orders['date'] = pd.to_datetime(orders['date'], format = '%Y-%m-%d %H:%M:%S')"
   ]
  },
  {
   "cell_type": "code",
   "execution_count": 14,
   "metadata": {},
   "outputs": [
    {
     "name": "stdout",
     "output_type": "stream",
     "text": [
      "<class 'pandas.core.frame.DataFrame'>\n",
      "RangeIndex: 1197 entries, 0 to 1196\n",
      "Data columns (total 5 columns):\n",
      "transactionId    1197 non-null int64\n",
      "visitorId        1197 non-null int64\n",
      "date             1197 non-null datetime64[ns]\n",
      "revenue          1197 non-null int64\n",
      "group            1197 non-null object\n",
      "dtypes: datetime64[ns](1), int64(3), object(1)\n",
      "memory usage: 46.9+ KB\n"
     ]
    }
   ],
   "source": [
    "# Проверим \n",
    "orders.info()"
   ]
  },
  {
   "cell_type": "code",
   "execution_count": 15,
   "metadata": {},
   "outputs": [
    {
     "data": {
      "text/plain": [
       "0"
      ]
     },
     "execution_count": 15,
     "metadata": {},
     "output_type": "execute_result"
    }
   ],
   "source": [
    "# Проверим дубликаты \n",
    "orders.duplicated().sum()"
   ]
  },
  {
   "cell_type": "markdown",
   "metadata": {},
   "source": [
    "Дубликатов нет"
   ]
  },
  {
   "cell_type": "code",
   "execution_count": 16,
   "metadata": {},
   "outputs": [
    {
     "data": {
      "text/plain": [
       "transactionId    0\n",
       "visitorId        0\n",
       "date             0\n",
       "revenue          0\n",
       "group            0\n",
       "dtype: int64"
      ]
     },
     "execution_count": 16,
     "metadata": {},
     "output_type": "execute_result"
    }
   ],
   "source": [
    "# Проверим пропущеные значения \n",
    "orders.isna().sum()"
   ]
  },
  {
   "cell_type": "markdown",
   "metadata": {},
   "source": [
    "Пропущеных значений нет"
   ]
  },
  {
   "cell_type": "code",
   "execution_count": 17,
   "metadata": {},
   "outputs": [
    {
     "data": {
      "text/html": [
       "<div>\n",
       "<style scoped>\n",
       "    .dataframe tbody tr th:only-of-type {\n",
       "        vertical-align: middle;\n",
       "    }\n",
       "\n",
       "    .dataframe tbody tr th {\n",
       "        vertical-align: top;\n",
       "    }\n",
       "\n",
       "    .dataframe thead th {\n",
       "        text-align: right;\n",
       "    }\n",
       "</style>\n",
       "<table border=\"1\" class=\"dataframe\">\n",
       "  <thead>\n",
       "    <tr style=\"text-align: right;\">\n",
       "      <th></th>\n",
       "      <th>transactionId</th>\n",
       "      <th>visitorId</th>\n",
       "      <th>revenue</th>\n",
       "    </tr>\n",
       "  </thead>\n",
       "  <tbody>\n",
       "    <tr>\n",
       "      <td>count</td>\n",
       "      <td>1.197000e+03</td>\n",
       "      <td>1.197000e+03</td>\n",
       "      <td>1.197000e+03</td>\n",
       "    </tr>\n",
       "    <tr>\n",
       "      <td>mean</td>\n",
       "      <td>2.155621e+09</td>\n",
       "      <td>2.165960e+09</td>\n",
       "      <td>8.348006e+03</td>\n",
       "    </tr>\n",
       "    <tr>\n",
       "      <td>std</td>\n",
       "      <td>1.229085e+09</td>\n",
       "      <td>1.236014e+09</td>\n",
       "      <td>3.919113e+04</td>\n",
       "    </tr>\n",
       "    <tr>\n",
       "      <td>min</td>\n",
       "      <td>1.062393e+06</td>\n",
       "      <td>5.114589e+06</td>\n",
       "      <td>5.000000e+01</td>\n",
       "    </tr>\n",
       "    <tr>\n",
       "      <td>25%</td>\n",
       "      <td>1.166776e+09</td>\n",
       "      <td>1.111826e+09</td>\n",
       "      <td>1.220000e+03</td>\n",
       "    </tr>\n",
       "    <tr>\n",
       "      <td>50%</td>\n",
       "      <td>2.145194e+09</td>\n",
       "      <td>2.217985e+09</td>\n",
       "      <td>2.978000e+03</td>\n",
       "    </tr>\n",
       "    <tr>\n",
       "      <td>75%</td>\n",
       "      <td>3.237740e+09</td>\n",
       "      <td>3.177606e+09</td>\n",
       "      <td>8.290000e+03</td>\n",
       "    </tr>\n",
       "    <tr>\n",
       "      <td>max</td>\n",
       "      <td>4.293856e+09</td>\n",
       "      <td>4.283872e+09</td>\n",
       "      <td>1.294500e+06</td>\n",
       "    </tr>\n",
       "  </tbody>\n",
       "</table>\n",
       "</div>"
      ],
      "text/plain": [
       "       transactionId     visitorId       revenue\n",
       "count   1.197000e+03  1.197000e+03  1.197000e+03\n",
       "mean    2.155621e+09  2.165960e+09  8.348006e+03\n",
       "std     1.229085e+09  1.236014e+09  3.919113e+04\n",
       "min     1.062393e+06  5.114589e+06  5.000000e+01\n",
       "25%     1.166776e+09  1.111826e+09  1.220000e+03\n",
       "50%     2.145194e+09  2.217985e+09  2.978000e+03\n",
       "75%     3.237740e+09  3.177606e+09  8.290000e+03\n",
       "max     4.293856e+09  4.283872e+09  1.294500e+06"
      ]
     },
     "execution_count": 17,
     "metadata": {},
     "output_type": "execute_result"
    }
   ],
   "source": [
    "# Посмотрим статистические сведения о датафрейме\n",
    "orders.describe()"
   ]
  },
  {
   "cell_type": "markdown",
   "metadata": {},
   "source": [
    "    * Выборка файла состоит из 5-ти столбцов и 1197-ти строк.\n",
    "    * Тип данных столбца date не соответствует типу данных object, изменили \n",
    "    * Датасет обьемный, статистические сведения хорошие \n",
    "    * Дубликатов нет\n",
    "    * Пропущеных значений нет"
   ]
  },
  {
   "cell_type": "markdown",
   "metadata": {},
   "source": [
    "***"
   ]
  },
  {
   "cell_type": "code",
   "execution_count": 18,
   "metadata": {},
   "outputs": [
    {
     "data": {
      "text/html": [
       "<div>\n",
       "<style scoped>\n",
       "    .dataframe tbody tr th:only-of-type {\n",
       "        vertical-align: middle;\n",
       "    }\n",
       "\n",
       "    .dataframe tbody tr th {\n",
       "        vertical-align: top;\n",
       "    }\n",
       "\n",
       "    .dataframe thead th {\n",
       "        text-align: right;\n",
       "    }\n",
       "</style>\n",
       "<table border=\"1\" class=\"dataframe\">\n",
       "  <thead>\n",
       "    <tr style=\"text-align: right;\">\n",
       "      <th></th>\n",
       "      <th>date</th>\n",
       "      <th>group</th>\n",
       "      <th>visitors</th>\n",
       "    </tr>\n",
       "  </thead>\n",
       "  <tbody>\n",
       "    <tr>\n",
       "      <td>0</td>\n",
       "      <td>2019-08-01</td>\n",
       "      <td>A</td>\n",
       "      <td>719</td>\n",
       "    </tr>\n",
       "    <tr>\n",
       "      <td>1</td>\n",
       "      <td>2019-08-02</td>\n",
       "      <td>A</td>\n",
       "      <td>619</td>\n",
       "    </tr>\n",
       "    <tr>\n",
       "      <td>2</td>\n",
       "      <td>2019-08-03</td>\n",
       "      <td>A</td>\n",
       "      <td>507</td>\n",
       "    </tr>\n",
       "    <tr>\n",
       "      <td>3</td>\n",
       "      <td>2019-08-04</td>\n",
       "      <td>A</td>\n",
       "      <td>717</td>\n",
       "    </tr>\n",
       "    <tr>\n",
       "      <td>4</td>\n",
       "      <td>2019-08-05</td>\n",
       "      <td>A</td>\n",
       "      <td>756</td>\n",
       "    </tr>\n",
       "    <tr>\n",
       "      <td>...</td>\n",
       "      <td>...</td>\n",
       "      <td>...</td>\n",
       "      <td>...</td>\n",
       "    </tr>\n",
       "    <tr>\n",
       "      <td>57</td>\n",
       "      <td>2019-08-27</td>\n",
       "      <td>B</td>\n",
       "      <td>720</td>\n",
       "    </tr>\n",
       "    <tr>\n",
       "      <td>58</td>\n",
       "      <td>2019-08-28</td>\n",
       "      <td>B</td>\n",
       "      <td>654</td>\n",
       "    </tr>\n",
       "    <tr>\n",
       "      <td>59</td>\n",
       "      <td>2019-08-29</td>\n",
       "      <td>B</td>\n",
       "      <td>531</td>\n",
       "    </tr>\n",
       "    <tr>\n",
       "      <td>60</td>\n",
       "      <td>2019-08-30</td>\n",
       "      <td>B</td>\n",
       "      <td>490</td>\n",
       "    </tr>\n",
       "    <tr>\n",
       "      <td>61</td>\n",
       "      <td>2019-08-31</td>\n",
       "      <td>B</td>\n",
       "      <td>718</td>\n",
       "    </tr>\n",
       "  </tbody>\n",
       "</table>\n",
       "<p>62 rows × 3 columns</p>\n",
       "</div>"
      ],
      "text/plain": [
       "          date group  visitors\n",
       "0   2019-08-01     A       719\n",
       "1   2019-08-02     A       619\n",
       "2   2019-08-03     A       507\n",
       "3   2019-08-04     A       717\n",
       "4   2019-08-05     A       756\n",
       "..         ...   ...       ...\n",
       "57  2019-08-27     B       720\n",
       "58  2019-08-28     B       654\n",
       "59  2019-08-29     B       531\n",
       "60  2019-08-30     B       490\n",
       "61  2019-08-31     B       718\n",
       "\n",
       "[62 rows x 3 columns]"
      ]
     },
     "execution_count": 18,
     "metadata": {},
     "output_type": "execute_result"
    }
   ],
   "source": [
    "# Откроем датасет\n",
    "visitors"
   ]
  },
  {
   "cell_type": "markdown",
   "metadata": {},
   "source": [
    "Датасет необьемный, состоит из 3-х столбцов и 62 строк"
   ]
  },
  {
   "cell_type": "code",
   "execution_count": 19,
   "metadata": {},
   "outputs": [
    {
     "name": "stdout",
     "output_type": "stream",
     "text": [
      "<class 'pandas.core.frame.DataFrame'>\n",
      "RangeIndex: 62 entries, 0 to 61\n",
      "Data columns (total 3 columns):\n",
      "date        62 non-null object\n",
      "group       62 non-null object\n",
      "visitors    62 non-null int64\n",
      "dtypes: int64(1), object(2)\n",
      "memory usage: 1.6+ KB\n"
     ]
    }
   ],
   "source": [
    "# Посмотрим общую информацию\n",
    "visitors.info()"
   ]
  },
  {
   "cell_type": "markdown",
   "metadata": {},
   "source": [
    "Столбец date  не соответствует типу данных object, изменим "
   ]
  },
  {
   "cell_type": "code",
   "execution_count": 20,
   "metadata": {},
   "outputs": [],
   "source": [
    "visitors['date'] = pd.to_datetime(visitors['date'], format = '%Y-%m-%d %H:%M:%S')"
   ]
  },
  {
   "cell_type": "code",
   "execution_count": 21,
   "metadata": {},
   "outputs": [
    {
     "name": "stdout",
     "output_type": "stream",
     "text": [
      "<class 'pandas.core.frame.DataFrame'>\n",
      "RangeIndex: 62 entries, 0 to 61\n",
      "Data columns (total 3 columns):\n",
      "date        62 non-null datetime64[ns]\n",
      "group       62 non-null object\n",
      "visitors    62 non-null int64\n",
      "dtypes: datetime64[ns](1), int64(1), object(1)\n",
      "memory usage: 1.6+ KB\n"
     ]
    }
   ],
   "source": [
    "# Проверим \n",
    "visitors.info()"
   ]
  },
  {
   "cell_type": "code",
   "execution_count": 22,
   "metadata": {},
   "outputs": [
    {
     "data": {
      "text/plain": [
       "0"
      ]
     },
     "execution_count": 22,
     "metadata": {},
     "output_type": "execute_result"
    }
   ],
   "source": [
    "# Проверим дубликаты \n",
    "visitors.duplicated().sum()"
   ]
  },
  {
   "cell_type": "markdown",
   "metadata": {},
   "source": [
    "Дубликатов нет"
   ]
  },
  {
   "cell_type": "code",
   "execution_count": 23,
   "metadata": {},
   "outputs": [
    {
     "data": {
      "text/plain": [
       "date        0\n",
       "group       0\n",
       "visitors    0\n",
       "dtype: int64"
      ]
     },
     "execution_count": 23,
     "metadata": {},
     "output_type": "execute_result"
    }
   ],
   "source": [
    "# Проверим пропущеные значения \n",
    "visitors.isna().sum()"
   ]
  },
  {
   "cell_type": "markdown",
   "metadata": {},
   "source": [
    "Пропущеных значений нет"
   ]
  },
  {
   "cell_type": "code",
   "execution_count": 24,
   "metadata": {},
   "outputs": [
    {
     "data": {
      "text/html": [
       "<div>\n",
       "<style scoped>\n",
       "    .dataframe tbody tr th:only-of-type {\n",
       "        vertical-align: middle;\n",
       "    }\n",
       "\n",
       "    .dataframe tbody tr th {\n",
       "        vertical-align: top;\n",
       "    }\n",
       "\n",
       "    .dataframe thead th {\n",
       "        text-align: right;\n",
       "    }\n",
       "</style>\n",
       "<table border=\"1\" class=\"dataframe\">\n",
       "  <thead>\n",
       "    <tr style=\"text-align: right;\">\n",
       "      <th></th>\n",
       "      <th>visitors</th>\n",
       "    </tr>\n",
       "  </thead>\n",
       "  <tbody>\n",
       "    <tr>\n",
       "      <td>count</td>\n",
       "      <td>62.000000</td>\n",
       "    </tr>\n",
       "    <tr>\n",
       "      <td>mean</td>\n",
       "      <td>607.290323</td>\n",
       "    </tr>\n",
       "    <tr>\n",
       "      <td>std</td>\n",
       "      <td>114.400560</td>\n",
       "    </tr>\n",
       "    <tr>\n",
       "      <td>min</td>\n",
       "      <td>361.000000</td>\n",
       "    </tr>\n",
       "    <tr>\n",
       "      <td>25%</td>\n",
       "      <td>534.000000</td>\n",
       "    </tr>\n",
       "    <tr>\n",
       "      <td>50%</td>\n",
       "      <td>624.500000</td>\n",
       "    </tr>\n",
       "    <tr>\n",
       "      <td>75%</td>\n",
       "      <td>710.500000</td>\n",
       "    </tr>\n",
       "    <tr>\n",
       "      <td>max</td>\n",
       "      <td>770.000000</td>\n",
       "    </tr>\n",
       "  </tbody>\n",
       "</table>\n",
       "</div>"
      ],
      "text/plain": [
       "         visitors\n",
       "count   62.000000\n",
       "mean   607.290323\n",
       "std    114.400560\n",
       "min    361.000000\n",
       "25%    534.000000\n",
       "50%    624.500000\n",
       "75%    710.500000\n",
       "max    770.000000"
      ]
     },
     "execution_count": 24,
     "metadata": {},
     "output_type": "execute_result"
    }
   ],
   "source": [
    "# Посмотрим статистические сведения о датафрейме\n",
    "visitors.describe()"
   ]
  },
  {
   "cell_type": "markdown",
   "metadata": {},
   "source": [
    "* Выборка файла состоит из 6-х столбцов и 62-х строк.\n",
    "* Тип данных столбца date не соответствует типу данных object, изменили \n",
    "* Датасет необьемный, статистические сведения хорошие \n",
    "* Дубликатов нет\n",
    "* Пропущеных значений нет"
   ]
  },
  {
   "cell_type": "markdown",
   "metadata": {},
   "source": [
    "***"
   ]
  },
  {
   "cell_type": "markdown",
   "metadata": {},
   "source": [
    "<a name=\"stage_2\"></a>\n",
    "# Шаг 2. Приоритизация гипотез"
   ]
  },
  {
   "cell_type": "markdown",
   "metadata": {},
   "source": [
    "**Применим фреймворк ICE для приоритизации гипотез. Отсортирем их по убыванию приоритета.**"
   ]
  },
  {
   "cell_type": "code",
   "execution_count": 25,
   "metadata": {},
   "outputs": [
    {
     "data": {
      "text/html": [
       "<div>\n",
       "<style scoped>\n",
       "    .dataframe tbody tr th:only-of-type {\n",
       "        vertical-align: middle;\n",
       "    }\n",
       "\n",
       "    .dataframe tbody tr th {\n",
       "        vertical-align: top;\n",
       "    }\n",
       "\n",
       "    .dataframe thead th {\n",
       "        text-align: right;\n",
       "    }\n",
       "</style>\n",
       "<table border=\"1\" class=\"dataframe\">\n",
       "  <thead>\n",
       "    <tr style=\"text-align: right;\">\n",
       "      <th></th>\n",
       "      <th>hypothesis</th>\n",
       "      <th>reach</th>\n",
       "      <th>impact</th>\n",
       "      <th>confidence</th>\n",
       "      <th>efforts</th>\n",
       "    </tr>\n",
       "  </thead>\n",
       "  <tbody>\n",
       "    <tr>\n",
       "      <td>0</td>\n",
       "      <td>Добавить два новых канала привлечения трафика,...</td>\n",
       "      <td>3</td>\n",
       "      <td>10</td>\n",
       "      <td>8</td>\n",
       "      <td>6</td>\n",
       "    </tr>\n",
       "    <tr>\n",
       "      <td>1</td>\n",
       "      <td>Запустить собственную службу доставки, что сок...</td>\n",
       "      <td>2</td>\n",
       "      <td>5</td>\n",
       "      <td>4</td>\n",
       "      <td>10</td>\n",
       "    </tr>\n",
       "    <tr>\n",
       "      <td>2</td>\n",
       "      <td>Добавить блоки рекомендаций товаров на сайт ин...</td>\n",
       "      <td>8</td>\n",
       "      <td>3</td>\n",
       "      <td>7</td>\n",
       "      <td>3</td>\n",
       "    </tr>\n",
       "    <tr>\n",
       "      <td>3</td>\n",
       "      <td>Изменить структура категорий, что увеличит кон...</td>\n",
       "      <td>8</td>\n",
       "      <td>3</td>\n",
       "      <td>3</td>\n",
       "      <td>8</td>\n",
       "    </tr>\n",
       "    <tr>\n",
       "      <td>4</td>\n",
       "      <td>Изменить цвет фона главной страницы, чтобы уве...</td>\n",
       "      <td>3</td>\n",
       "      <td>1</td>\n",
       "      <td>1</td>\n",
       "      <td>1</td>\n",
       "    </tr>\n",
       "    <tr>\n",
       "      <td>5</td>\n",
       "      <td>Добавить страницу отзывов клиентов о магазине,...</td>\n",
       "      <td>3</td>\n",
       "      <td>2</td>\n",
       "      <td>2</td>\n",
       "      <td>3</td>\n",
       "    </tr>\n",
       "    <tr>\n",
       "      <td>6</td>\n",
       "      <td>Показать на главной странице баннеры с актуаль...</td>\n",
       "      <td>5</td>\n",
       "      <td>3</td>\n",
       "      <td>8</td>\n",
       "      <td>3</td>\n",
       "    </tr>\n",
       "    <tr>\n",
       "      <td>7</td>\n",
       "      <td>Добавить форму подписки на все основные страни...</td>\n",
       "      <td>10</td>\n",
       "      <td>7</td>\n",
       "      <td>8</td>\n",
       "      <td>5</td>\n",
       "    </tr>\n",
       "    <tr>\n",
       "      <td>8</td>\n",
       "      <td>Запустить акцию, дающую скидку на товар в день...</td>\n",
       "      <td>1</td>\n",
       "      <td>9</td>\n",
       "      <td>9</td>\n",
       "      <td>5</td>\n",
       "    </tr>\n",
       "  </tbody>\n",
       "</table>\n",
       "</div>"
      ],
      "text/plain": [
       "                                          hypothesis  reach  impact  \\\n",
       "0  Добавить два новых канала привлечения трафика,...      3      10   \n",
       "1  Запустить собственную службу доставки, что сок...      2       5   \n",
       "2  Добавить блоки рекомендаций товаров на сайт ин...      8       3   \n",
       "3  Изменить структура категорий, что увеличит кон...      8       3   \n",
       "4  Изменить цвет фона главной страницы, чтобы уве...      3       1   \n",
       "5  Добавить страницу отзывов клиентов о магазине,...      3       2   \n",
       "6  Показать на главной странице баннеры с актуаль...      5       3   \n",
       "7  Добавить форму подписки на все основные страни...     10       7   \n",
       "8  Запустить акцию, дающую скидку на товар в день...      1       9   \n",
       "\n",
       "   confidence  efforts  \n",
       "0           8        6  \n",
       "1           4       10  \n",
       "2           7        3  \n",
       "3           3        8  \n",
       "4           1        1  \n",
       "5           2        3  \n",
       "6           8        3  \n",
       "7           8        5  \n",
       "8           9        5  "
      ]
     },
     "execution_count": 25,
     "metadata": {},
     "output_type": "execute_result"
    }
   ],
   "source": [
    "# ICE один из самых популярных способов приоритизации задач:\n",
    "hypothesis"
   ]
  },
  {
   "cell_type": "code",
   "execution_count": 26,
   "metadata": {},
   "outputs": [],
   "source": [
    "hypothesis['ICE'] = (hypothesis['impact'] * hypothesis['confidence'] / hypothesis['efforts'])"
   ]
  },
  {
   "cell_type": "code",
   "execution_count": 27,
   "metadata": {},
   "outputs": [],
   "source": [
    "hypothesis1 = (hypothesis[['hypothesis', 'ICE']].sort_values(by='ICE', ascending=False))"
   ]
  },
  {
   "cell_type": "code",
   "execution_count": 28,
   "metadata": {},
   "outputs": [
    {
     "data": {
      "text/html": [
       "<div>\n",
       "<style scoped>\n",
       "    .dataframe tbody tr th:only-of-type {\n",
       "        vertical-align: middle;\n",
       "    }\n",
       "\n",
       "    .dataframe tbody tr th {\n",
       "        vertical-align: top;\n",
       "    }\n",
       "\n",
       "    .dataframe thead th {\n",
       "        text-align: right;\n",
       "    }\n",
       "</style>\n",
       "<table border=\"1\" class=\"dataframe\">\n",
       "  <thead>\n",
       "    <tr style=\"text-align: right;\">\n",
       "      <th></th>\n",
       "      <th>hypothesis</th>\n",
       "      <th>ICE</th>\n",
       "    </tr>\n",
       "  </thead>\n",
       "  <tbody>\n",
       "    <tr>\n",
       "      <td>8</td>\n",
       "      <td>Запустить акцию, дающую скидку на товар в день...</td>\n",
       "      <td>16.200000</td>\n",
       "    </tr>\n",
       "    <tr>\n",
       "      <td>0</td>\n",
       "      <td>Добавить два новых канала привлечения трафика,...</td>\n",
       "      <td>13.333333</td>\n",
       "    </tr>\n",
       "    <tr>\n",
       "      <td>7</td>\n",
       "      <td>Добавить форму подписки на все основные страни...</td>\n",
       "      <td>11.200000</td>\n",
       "    </tr>\n",
       "    <tr>\n",
       "      <td>6</td>\n",
       "      <td>Показать на главной странице баннеры с актуаль...</td>\n",
       "      <td>8.000000</td>\n",
       "    </tr>\n",
       "    <tr>\n",
       "      <td>2</td>\n",
       "      <td>Добавить блоки рекомендаций товаров на сайт ин...</td>\n",
       "      <td>7.000000</td>\n",
       "    </tr>\n",
       "    <tr>\n",
       "      <td>1</td>\n",
       "      <td>Запустить собственную службу доставки, что сок...</td>\n",
       "      <td>2.000000</td>\n",
       "    </tr>\n",
       "    <tr>\n",
       "      <td>5</td>\n",
       "      <td>Добавить страницу отзывов клиентов о магазине,...</td>\n",
       "      <td>1.333333</td>\n",
       "    </tr>\n",
       "    <tr>\n",
       "      <td>3</td>\n",
       "      <td>Изменить структура категорий, что увеличит кон...</td>\n",
       "      <td>1.125000</td>\n",
       "    </tr>\n",
       "    <tr>\n",
       "      <td>4</td>\n",
       "      <td>Изменить цвет фона главной страницы, чтобы уве...</td>\n",
       "      <td>1.000000</td>\n",
       "    </tr>\n",
       "  </tbody>\n",
       "</table>\n",
       "</div>"
      ],
      "text/plain": [
       "                                          hypothesis        ICE\n",
       "8  Запустить акцию, дающую скидку на товар в день...  16.200000\n",
       "0  Добавить два новых канала привлечения трафика,...  13.333333\n",
       "7  Добавить форму подписки на все основные страни...  11.200000\n",
       "6  Показать на главной странице баннеры с актуаль...   8.000000\n",
       "2  Добавить блоки рекомендаций товаров на сайт ин...   7.000000\n",
       "1  Запустить собственную службу доставки, что сок...   2.000000\n",
       "5  Добавить страницу отзывов клиентов о магазине,...   1.333333\n",
       "3  Изменить структура категорий, что увеличит кон...   1.125000\n",
       "4  Изменить цвет фона главной страницы, чтобы уве...   1.000000"
      ]
     },
     "execution_count": 28,
     "metadata": {},
     "output_type": "execute_result"
    }
   ],
   "source": [
    "hypothesis1"
   ]
  },
  {
   "cell_type": "markdown",
   "metadata": {},
   "source": [
    "***"
   ]
  },
  {
   "cell_type": "markdown",
   "metadata": {},
   "source": [
    "**Применим фреймворк RICE для приоритизации гипотез. Отсортирем их по убыванию приоритета.**"
   ]
  },
  {
   "cell_type": "code",
   "execution_count": 29,
   "metadata": {},
   "outputs": [],
   "source": [
    "hypothesis['RICE'] = (hypothesis['reach'] * hypothesis['impact'] * hypothesis['confidence']) / hypothesis['efforts']"
   ]
  },
  {
   "cell_type": "code",
   "execution_count": 30,
   "metadata": {},
   "outputs": [],
   "source": [
    "hypothesis2 = (hypothesis[['hypothesis', 'RICE']].sort_values(by='RICE', ascending=False))"
   ]
  },
  {
   "cell_type": "code",
   "execution_count": 31,
   "metadata": {},
   "outputs": [
    {
     "data": {
      "text/html": [
       "<div>\n",
       "<style scoped>\n",
       "    .dataframe tbody tr th:only-of-type {\n",
       "        vertical-align: middle;\n",
       "    }\n",
       "\n",
       "    .dataframe tbody tr th {\n",
       "        vertical-align: top;\n",
       "    }\n",
       "\n",
       "    .dataframe thead th {\n",
       "        text-align: right;\n",
       "    }\n",
       "</style>\n",
       "<table border=\"1\" class=\"dataframe\">\n",
       "  <thead>\n",
       "    <tr style=\"text-align: right;\">\n",
       "      <th></th>\n",
       "      <th>hypothesis</th>\n",
       "      <th>RICE</th>\n",
       "    </tr>\n",
       "  </thead>\n",
       "  <tbody>\n",
       "    <tr>\n",
       "      <td>7</td>\n",
       "      <td>Добавить форму подписки на все основные страни...</td>\n",
       "      <td>112.0</td>\n",
       "    </tr>\n",
       "    <tr>\n",
       "      <td>2</td>\n",
       "      <td>Добавить блоки рекомендаций товаров на сайт ин...</td>\n",
       "      <td>56.0</td>\n",
       "    </tr>\n",
       "    <tr>\n",
       "      <td>0</td>\n",
       "      <td>Добавить два новых канала привлечения трафика,...</td>\n",
       "      <td>40.0</td>\n",
       "    </tr>\n",
       "    <tr>\n",
       "      <td>6</td>\n",
       "      <td>Показать на главной странице баннеры с актуаль...</td>\n",
       "      <td>40.0</td>\n",
       "    </tr>\n",
       "    <tr>\n",
       "      <td>8</td>\n",
       "      <td>Запустить акцию, дающую скидку на товар в день...</td>\n",
       "      <td>16.2</td>\n",
       "    </tr>\n",
       "    <tr>\n",
       "      <td>3</td>\n",
       "      <td>Изменить структура категорий, что увеличит кон...</td>\n",
       "      <td>9.0</td>\n",
       "    </tr>\n",
       "    <tr>\n",
       "      <td>1</td>\n",
       "      <td>Запустить собственную службу доставки, что сок...</td>\n",
       "      <td>4.0</td>\n",
       "    </tr>\n",
       "    <tr>\n",
       "      <td>5</td>\n",
       "      <td>Добавить страницу отзывов клиентов о магазине,...</td>\n",
       "      <td>4.0</td>\n",
       "    </tr>\n",
       "    <tr>\n",
       "      <td>4</td>\n",
       "      <td>Изменить цвет фона главной страницы, чтобы уве...</td>\n",
       "      <td>3.0</td>\n",
       "    </tr>\n",
       "  </tbody>\n",
       "</table>\n",
       "</div>"
      ],
      "text/plain": [
       "                                          hypothesis   RICE\n",
       "7  Добавить форму подписки на все основные страни...  112.0\n",
       "2  Добавить блоки рекомендаций товаров на сайт ин...   56.0\n",
       "0  Добавить два новых канала привлечения трафика,...   40.0\n",
       "6  Показать на главной странице баннеры с актуаль...   40.0\n",
       "8  Запустить акцию, дающую скидку на товар в день...   16.2\n",
       "3  Изменить структура категорий, что увеличит кон...    9.0\n",
       "1  Запустить собственную службу доставки, что сок...    4.0\n",
       "5  Добавить страницу отзывов клиентов о магазине,...    4.0\n",
       "4  Изменить цвет фона главной страницы, чтобы уве...    3.0"
      ]
     },
     "execution_count": 31,
     "metadata": {},
     "output_type": "execute_result"
    }
   ],
   "source": [
    "hypothesis2"
   ]
  },
  {
   "cell_type": "markdown",
   "metadata": {},
   "source": [
    "**Наиболее перспективные гипотизы RICE: 7, 2, 0.**"
   ]
  },
  {
   "cell_type": "markdown",
   "metadata": {},
   "source": [
    "***"
   ]
  },
  {
   "cell_type": "markdown",
   "metadata": {},
   "source": [
    "**Укажем, как изменилась приоритизация гипотез при применении RICE вместо ICE. Объясним, почему так произошло.**"
   ]
  },
  {
   "cell_type": "markdown",
   "metadata": {},
   "source": [
    "По фреймворку ICE наиболее перспективные гипотизы  8, 0, 7. После использования RICE приоритеты изменились 7, 2, 0. Это обьясняется тем, что при использовании ICE мы не уситывали reach , тогда как это важная состовляющая гипотиз. Исходя из этого, наиболее перспективными гипотизами являются **7, 2 и 0.**"
   ]
  },
  {
   "cell_type": "markdown",
   "metadata": {},
   "source": [
    "***"
   ]
  },
  {
   "cell_type": "markdown",
   "metadata": {},
   "source": [
    "<a name=\"stage_3\"></a>\n",
    "# Шаг 3. Анализ A/B-теста"
   ]
  },
  {
   "cell_type": "markdown",
   "metadata": {},
   "source": [
    "<a name=\"stage_99\"></a>\n",
    "#### [Построим график кумулятивной выручки по группам. Сделаем выводы и предположения.](#stage_99)"
   ]
  },
  {
   "cell_type": "code",
   "execution_count": 32,
   "metadata": {},
   "outputs": [
    {
     "data": {
      "text/html": [
       "<div>\n",
       "<style scoped>\n",
       "    .dataframe tbody tr th:only-of-type {\n",
       "        vertical-align: middle;\n",
       "    }\n",
       "\n",
       "    .dataframe tbody tr th {\n",
       "        vertical-align: top;\n",
       "    }\n",
       "\n",
       "    .dataframe thead th {\n",
       "        text-align: right;\n",
       "    }\n",
       "</style>\n",
       "<table border=\"1\" class=\"dataframe\">\n",
       "  <thead>\n",
       "    <tr style=\"text-align: right;\">\n",
       "      <th></th>\n",
       "      <th>transactionId</th>\n",
       "      <th>visitorId</th>\n",
       "      <th>date</th>\n",
       "      <th>revenue</th>\n",
       "      <th>group</th>\n",
       "    </tr>\n",
       "  </thead>\n",
       "  <tbody>\n",
       "    <tr>\n",
       "      <td>0</td>\n",
       "      <td>3667963787</td>\n",
       "      <td>3312258926</td>\n",
       "      <td>2019-08-15</td>\n",
       "      <td>1650</td>\n",
       "      <td>B</td>\n",
       "    </tr>\n",
       "    <tr>\n",
       "      <td>1</td>\n",
       "      <td>2804400009</td>\n",
       "      <td>3642806036</td>\n",
       "      <td>2019-08-15</td>\n",
       "      <td>730</td>\n",
       "      <td>B</td>\n",
       "    </tr>\n",
       "    <tr>\n",
       "      <td>2</td>\n",
       "      <td>2961555356</td>\n",
       "      <td>4069496402</td>\n",
       "      <td>2019-08-15</td>\n",
       "      <td>400</td>\n",
       "      <td>A</td>\n",
       "    </tr>\n",
       "    <tr>\n",
       "      <td>3</td>\n",
       "      <td>3797467345</td>\n",
       "      <td>1196621759</td>\n",
       "      <td>2019-08-15</td>\n",
       "      <td>9759</td>\n",
       "      <td>B</td>\n",
       "    </tr>\n",
       "    <tr>\n",
       "      <td>4</td>\n",
       "      <td>2282983706</td>\n",
       "      <td>2322279887</td>\n",
       "      <td>2019-08-15</td>\n",
       "      <td>2308</td>\n",
       "      <td>B</td>\n",
       "    </tr>\n",
       "    <tr>\n",
       "      <td>...</td>\n",
       "      <td>...</td>\n",
       "      <td>...</td>\n",
       "      <td>...</td>\n",
       "      <td>...</td>\n",
       "      <td>...</td>\n",
       "    </tr>\n",
       "    <tr>\n",
       "      <td>1192</td>\n",
       "      <td>2662137336</td>\n",
       "      <td>3733762160</td>\n",
       "      <td>2019-08-14</td>\n",
       "      <td>6490</td>\n",
       "      <td>B</td>\n",
       "    </tr>\n",
       "    <tr>\n",
       "      <td>1193</td>\n",
       "      <td>2203539145</td>\n",
       "      <td>370388673</td>\n",
       "      <td>2019-08-14</td>\n",
       "      <td>3190</td>\n",
       "      <td>A</td>\n",
       "    </tr>\n",
       "    <tr>\n",
       "      <td>1194</td>\n",
       "      <td>1807773912</td>\n",
       "      <td>573423106</td>\n",
       "      <td>2019-08-14</td>\n",
       "      <td>10550</td>\n",
       "      <td>A</td>\n",
       "    </tr>\n",
       "    <tr>\n",
       "      <td>1195</td>\n",
       "      <td>1947021204</td>\n",
       "      <td>1614305549</td>\n",
       "      <td>2019-08-14</td>\n",
       "      <td>100</td>\n",
       "      <td>A</td>\n",
       "    </tr>\n",
       "    <tr>\n",
       "      <td>1196</td>\n",
       "      <td>3936777065</td>\n",
       "      <td>2108080724</td>\n",
       "      <td>2019-08-15</td>\n",
       "      <td>202740</td>\n",
       "      <td>B</td>\n",
       "    </tr>\n",
       "  </tbody>\n",
       "</table>\n",
       "<p>1197 rows × 5 columns</p>\n",
       "</div>"
      ],
      "text/plain": [
       "      transactionId   visitorId       date  revenue group\n",
       "0        3667963787  3312258926 2019-08-15     1650     B\n",
       "1        2804400009  3642806036 2019-08-15      730     B\n",
       "2        2961555356  4069496402 2019-08-15      400     A\n",
       "3        3797467345  1196621759 2019-08-15     9759     B\n",
       "4        2282983706  2322279887 2019-08-15     2308     B\n",
       "...             ...         ...        ...      ...   ...\n",
       "1192     2662137336  3733762160 2019-08-14     6490     B\n",
       "1193     2203539145   370388673 2019-08-14     3190     A\n",
       "1194     1807773912   573423106 2019-08-14    10550     A\n",
       "1195     1947021204  1614305549 2019-08-14      100     A\n",
       "1196     3936777065  2108080724 2019-08-15   202740     B\n",
       "\n",
       "[1197 rows x 5 columns]"
      ]
     },
     "execution_count": 32,
     "metadata": {},
     "output_type": "execute_result"
    }
   ],
   "source": [
    "orders"
   ]
  },
  {
   "cell_type": "code",
   "execution_count": 33,
   "metadata": {},
   "outputs": [],
   "source": [
    "# создаем массив уникальных пар значений групп теста\n",
    "\n",
    "datesGroups = orders[['date', 'group']].drop_duplicates().sort_values(by = ['date' , 'group'])"
   ]
  },
  {
   "cell_type": "code",
   "execution_count": 34,
   "metadata": {},
   "outputs": [],
   "source": [
    "ordersAggregated = datesGroups.apply(\n",
    "    lambda x: orders[\n",
    "        np.logical_and(\n",
    "            orders['date'] <= x['date'], orders['group'] == x['group']\n",
    "        )\n",
    "    ].agg(\n",
    "        {\n",
    "            'date': 'max',\n",
    "            'group': 'max',\n",
    "            'transactionId': pd.Series.nunique,\n",
    "            'visitorId': pd.Series.nunique,\n",
    "            'revenue': 'sum',\n",
    "        }\n",
    "    ),\n",
    "    axis=1,\n",
    ").sort_values(by=['date', 'group'])"
   ]
  },
  {
   "cell_type": "code",
   "execution_count": 35,
   "metadata": {},
   "outputs": [],
   "source": [
    "visitorsAggregated = datesGroups.apply(\n",
    "    lambda x: visitors[\n",
    "        np.logical_and(\n",
    "            visitors['date'] <= x['date'], visitors['group'] == x['group']\n",
    "        )\n",
    "    ].agg({'date': 'max', 'group': 'max', 'visitors': 'sum'}),\n",
    "    axis=1,\n",
    ").sort_values(by=['date', 'group'])\n",
    "\n",
    "cumulativeData = ordersAggregated.merge(\n",
    "    visitorsAggregated, left_on=['date', 'group'], right_on=['date', 'group']\n",
    ")\n",
    "cumulativeData.columns = [\n",
    "    'date',\n",
    "    'group',\n",
    "    'orders',\n",
    "    'buyers',\n",
    "    'revenue',\n",
    "    'visitors',\n",
    "]\n",
    "\n"
   ]
  },
  {
   "cell_type": "code",
   "execution_count": 36,
   "metadata": {},
   "outputs": [
    {
     "name": "stderr",
     "output_type": "stream",
     "text": [
      "/opt/conda/lib/python3.7/site-packages/pandas/plotting/_matplotlib/converter.py:103: FutureWarning:\n",
      "\n",
      "Using an implicitly registered datetime converter for a matplotlib plotting method. The converter was registered by pandas on import. Future versions of pandas will require you to explicitly register matplotlib converters.\n",
      "\n",
      "To register the converters:\n",
      "\t>>> from pandas.plotting import register_matplotlib_converters\n",
      "\t>>> register_matplotlib_converters()\n",
      "\n"
     ]
    },
    {
     "data": {
      "image/png": "[encoded data removed]",
      "text/plain": [
       "<Figure size 1080x288 with 1 Axes>"
      ]
     },
     "metadata": {
      "needs_background": "light"
     },
     "output_type": "display_data"
    }
   ],
   "source": [
    "# датафрейм с кумулятивным количеством заказов и кумулятивной выручкой по дням в группе А\n",
    "cumulativeRevenueA = cumulativeData[cumulativeData['group']=='A'][['date','revenue', 'orders']]\n",
    "\n",
    "# датафрейм с кумулятивным количеством заказов и кумулятивной выручкой по дням в группе B\n",
    "cumulativeRevenueB = cumulativeData[cumulativeData['group']=='B'][['date','revenue', 'orders']]\n",
    "\n",
    "plt.figure(figsize = (15, 4))\n",
    "\n",
    "# Строим график выручки группы А\n",
    "plt.plot(cumulativeRevenueA['date'], cumulativeRevenueA['revenue'], label='A')\n",
    "\n",
    "# Строим график выручки группы B\n",
    "plt.plot(cumulativeRevenueB['date'], cumulativeRevenueB['revenue'], label='B')\n",
    "\n",
    "\n",
    "plt.ylabel('Выручка')\n",
    "\n",
    "plt.xlabel('Дата')\n",
    "\n",
    "plt.title('График комулятивной выручки по группам А/В')\n",
    "\n",
    "plt.legend();\n",
    "\n"
   ]
  },
  {
   "cell_type": "markdown",
   "metadata": {},
   "source": [
    "***"
   ]
  },
  {
   "cell_type": "markdown",
   "metadata": {},
   "source": [
    "<a name=\"stage_98\"></a>\n",
    "#### [Построим график кумулятивного среднего чека по группам. Сделаем выводы и предположения.](#stage_98)"
   ]
  },
  {
   "cell_type": "code",
   "execution_count": 37,
   "metadata": {},
   "outputs": [
    {
     "data": {
      "image/png": "[encoded data removed]",
      "text/plain": [
       "<Figure size 1080x288 with 1 Axes>"
      ]
     },
     "metadata": {
      "needs_background": "light"
     },
     "output_type": "display_data"
    }
   ],
   "source": [
    "plt.figure(figsize = (15, 4))\n",
    "plt.plot(cumulativeRevenueA['date'], cumulativeRevenueA['revenue']/cumulativeRevenueA['orders'], label='A')\n",
    "plt.plot(cumulativeRevenueB['date'], cumulativeRevenueB['revenue']/cumulativeRevenueB['orders'], label='B')\n",
    "plt.ylabel('Выручка')\n",
    "plt.xlabel('Дата')\n",
    "plt.title('График комулятивного среднего чека  по группам А/В')\n",
    "plt.legend();"
   ]
  },
  {
   "cell_type": "markdown",
   "metadata": {},
   "source": [
    "**Кумулятивное значение среднего чека колеблется. Смутило, что во второй половине графика сегмент B резко повысился, скорее всего это обусловлено аномалоиями.**"
   ]
  },
  {
   "cell_type": "markdown",
   "metadata": {},
   "source": [
    "***"
   ]
  },
  {
   "cell_type": "markdown",
   "metadata": {},
   "source": [
    "<a name=\"stage_97\"></a>\n",
    "#### [Построим график относительного изменения кумулятивного среднего чека группы B к группе A. Сделаем выводы и предположения.](#stage_97)"
   ]
  },
  {
   "cell_type": "code",
   "execution_count": 38,
   "metadata": {},
   "outputs": [],
   "source": [
    "# собираем данные в одном датафрейме\n",
    "mergedCumulativeRevenue = cumulativeRevenueA.merge(cumulativeRevenueB, left_on='date', right_on='date', how='left', suffixes=['A', 'B'])"
   ]
  },
  {
   "cell_type": "code",
   "execution_count": 41,
   "metadata": {},
   "outputs": [
    {
     "data": {
      "image/png": "[encoded data removed]",
      "text/plain": [
       "<Figure size 1080x288 with 1 Axes>"
      ]
     },
     "metadata": {
      "needs_background": "light"
     },
     "output_type": "display_data"
    }
   ],
   "source": [
    "# cтроим отношение средних чеков\n",
    "plt.figure(figsize = (15, 4))\n",
    "plt.plot(mergedCumulativeRevenue['date'], (mergedCumulativeRevenue['revenueB']/mergedCumulativeRevenue['ordersB'])/(mergedCumulativeRevenue['revenueA']/mergedCumulativeRevenue['ordersA'])-1)\n",
    "# добавляем ось X\n",
    "plt.axhline(y=0, color='black', linestyle='--') \n",
    "plt.xlabel('Дата')\n",
    "plt.title('График относительного изминения среднего чека группаы В к группе А');"
   ]
  },
  {
   "cell_type": "markdown",
   "metadata": {},
   "source": [
    "<a name=\"stage_96\"></a>\n",
    "#### [Построим график кумулятивной конверсии по группам. Сделаем выводы и предположения.](#stage_96)"
   ]
  },
  {
   "cell_type": "code",
   "execution_count": 42,
   "metadata": {},
   "outputs": [],
   "source": [
    "# считаем кумулятивную конверсию\n",
    "cumulativeData['conversion'] = cumulativeData['orders']/cumulativeData['visitors']"
   ]
  },
  {
   "cell_type": "code",
   "execution_count": 43,
   "metadata": {},
   "outputs": [],
   "source": [
    "# отделяем данные по группе A\n",
    "cumulativeDataA = cumulativeData[cumulativeData['group']=='A']"
   ]
  },
  {
   "cell_type": "code",
   "execution_count": 44,
   "metadata": {},
   "outputs": [],
   "source": [
    "# отделяем данные по группе B\n",
    "cumulativeDataB = cumulativeData[cumulativeData['group']=='B']"
   ]
  },
  {
   "cell_type": "code",
   "execution_count": 45,
   "metadata": {},
   "outputs": [
    {
     "data": {
      "image/png": "[encoded data removed]",
      "text/plain": [
       "<Figure size 1080x288 with 1 Axes>"
      ]
     },
     "metadata": {
      "needs_background": "light"
     },
     "output_type": "display_data"
    }
   ],
   "source": [
    "# строим графики\n",
    "plt.figure(figsize = (15, 4))\n",
    "plt.plot(cumulativeDataA['date'], cumulativeDataA['conversion'], label='A')\n",
    "plt.plot(cumulativeDataB['date'], cumulativeDataB['conversion'], label='B')\n",
    "plt.xlabel('Дата')\n",
    "plt.title('График комулятивная конверсия по группам');\n",
    "plt.legend();"
   ]
  },
  {
   "cell_type": "markdown",
   "metadata": {},
   "source": [
    "**В начале теста сегмент А имел большую коныерсию, далее сегмент B опередил и зафиктировался, примерно около 4-х значений больше сегмента А, но колебания продолжаються.**"
   ]
  },
  {
   "cell_type": "markdown",
   "metadata": {},
   "source": [
    "***"
   ]
  },
  {
   "cell_type": "markdown",
   "metadata": {},
   "source": [
    "<a name=\"stage_95\"></a>\n",
    "#### [Построим график относительного изменения кумулятивной конверсии группы B к группе A. Сделаем выводы и предположения.](#stage_95)"
   ]
  },
  {
   "cell_type": "code",
   "execution_count": 46,
   "metadata": {},
   "outputs": [],
   "source": [
    "mergedCumulativeConversions = cumulativeDataA[['date','conversion']].merge(cumulativeDataB[['date','conversion']], left_on='date', right_on='date', how='left', suffixes=['A', 'B'])"
   ]
  },
  {
   "cell_type": "code",
   "execution_count": 47,
   "metadata": {},
   "outputs": [
    {
     "data": {
      "image/png": "[encoded data removed]",
      "text/plain": [
       "<Figure size 1080x288 with 1 Axes>"
      ]
     },
     "metadata": {
      "needs_background": "light"
     },
     "output_type": "display_data"
    }
   ],
   "source": [
    "plt.figure(figsize = (15, 4))\n",
    "plt.plot(mergedCumulativeConversions['date'], mergedCumulativeConversions['conversionB']/mergedCumulativeConversions['conversionA']-1, \n",
    "         label=\"Относительный прирост конверсии группы B относительно группы A\");\n",
    "plt.axhline(y=0., color='black', linestyle='--')\n",
    "plt.axhline(y= 0.1, color='grey', linestyle='--')\n",
    "plt.xlabel('Дата')\n",
    "plt.title('График относительного изминения комулятивной конверсии  группам');\n",
    "plt.legend();"
   ]
  },
  {
   "cell_type": "markdown",
   "metadata": {},
   "source": [
    "***"
   ]
  },
  {
   "cell_type": "markdown",
   "metadata": {},
   "source": [
    "<a name=\"stage_94\"></a>\n",
    "#### [Построим точечный график количества заказов по пользователям. Сделаем выводы и предположения.](#stage_94)"
   ]
  },
  {
   "cell_type": "code",
   "execution_count": 48,
   "metadata": {},
   "outputs": [
    {
     "data": {
      "text/html": [
       "<div>\n",
       "<style scoped>\n",
       "    .dataframe tbody tr th:only-of-type {\n",
       "        vertical-align: middle;\n",
       "    }\n",
       "\n",
       "    .dataframe tbody tr th {\n",
       "        vertical-align: top;\n",
       "    }\n",
       "\n",
       "    .dataframe thead th {\n",
       "        text-align: right;\n",
       "    }\n",
       "</style>\n",
       "<table border=\"1\" class=\"dataframe\">\n",
       "  <thead>\n",
       "    <tr style=\"text-align: right;\">\n",
       "      <th></th>\n",
       "      <th>transactionId</th>\n",
       "      <th>visitorId</th>\n",
       "      <th>date</th>\n",
       "      <th>revenue</th>\n",
       "      <th>group</th>\n",
       "    </tr>\n",
       "  </thead>\n",
       "  <tbody>\n",
       "    <tr>\n",
       "      <td>0</td>\n",
       "      <td>3667963787</td>\n",
       "      <td>3312258926</td>\n",
       "      <td>2019-08-15</td>\n",
       "      <td>1650</td>\n",
       "      <td>B</td>\n",
       "    </tr>\n",
       "    <tr>\n",
       "      <td>1</td>\n",
       "      <td>2804400009</td>\n",
       "      <td>3642806036</td>\n",
       "      <td>2019-08-15</td>\n",
       "      <td>730</td>\n",
       "      <td>B</td>\n",
       "    </tr>\n",
       "    <tr>\n",
       "      <td>2</td>\n",
       "      <td>2961555356</td>\n",
       "      <td>4069496402</td>\n",
       "      <td>2019-08-15</td>\n",
       "      <td>400</td>\n",
       "      <td>A</td>\n",
       "    </tr>\n",
       "    <tr>\n",
       "      <td>3</td>\n",
       "      <td>3797467345</td>\n",
       "      <td>1196621759</td>\n",
       "      <td>2019-08-15</td>\n",
       "      <td>9759</td>\n",
       "      <td>B</td>\n",
       "    </tr>\n",
       "    <tr>\n",
       "      <td>4</td>\n",
       "      <td>2282983706</td>\n",
       "      <td>2322279887</td>\n",
       "      <td>2019-08-15</td>\n",
       "      <td>2308</td>\n",
       "      <td>B</td>\n",
       "    </tr>\n",
       "    <tr>\n",
       "      <td>...</td>\n",
       "      <td>...</td>\n",
       "      <td>...</td>\n",
       "      <td>...</td>\n",
       "      <td>...</td>\n",
       "      <td>...</td>\n",
       "    </tr>\n",
       "    <tr>\n",
       "      <td>1192</td>\n",
       "      <td>2662137336</td>\n",
       "      <td>3733762160</td>\n",
       "      <td>2019-08-14</td>\n",
       "      <td>6490</td>\n",
       "      <td>B</td>\n",
       "    </tr>\n",
       "    <tr>\n",
       "      <td>1193</td>\n",
       "      <td>2203539145</td>\n",
       "      <td>370388673</td>\n",
       "      <td>2019-08-14</td>\n",
       "      <td>3190</td>\n",
       "      <td>A</td>\n",
       "    </tr>\n",
       "    <tr>\n",
       "      <td>1194</td>\n",
       "      <td>1807773912</td>\n",
       "      <td>573423106</td>\n",
       "      <td>2019-08-14</td>\n",
       "      <td>10550</td>\n",
       "      <td>A</td>\n",
       "    </tr>\n",
       "    <tr>\n",
       "      <td>1195</td>\n",
       "      <td>1947021204</td>\n",
       "      <td>1614305549</td>\n",
       "      <td>2019-08-14</td>\n",
       "      <td>100</td>\n",
       "      <td>A</td>\n",
       "    </tr>\n",
       "    <tr>\n",
       "      <td>1196</td>\n",
       "      <td>3936777065</td>\n",
       "      <td>2108080724</td>\n",
       "      <td>2019-08-15</td>\n",
       "      <td>202740</td>\n",
       "      <td>B</td>\n",
       "    </tr>\n",
       "  </tbody>\n",
       "</table>\n",
       "<p>1197 rows × 5 columns</p>\n",
       "</div>"
      ],
      "text/plain": [
       "      transactionId   visitorId       date  revenue group\n",
       "0        3667963787  3312258926 2019-08-15     1650     B\n",
       "1        2804400009  3642806036 2019-08-15      730     B\n",
       "2        2961555356  4069496402 2019-08-15      400     A\n",
       "3        3797467345  1196621759 2019-08-15     9759     B\n",
       "4        2282983706  2322279887 2019-08-15     2308     B\n",
       "...             ...         ...        ...      ...   ...\n",
       "1192     2662137336  3733762160 2019-08-14     6490     B\n",
       "1193     2203539145   370388673 2019-08-14     3190     A\n",
       "1194     1807773912   573423106 2019-08-14    10550     A\n",
       "1195     1947021204  1614305549 2019-08-14      100     A\n",
       "1196     3936777065  2108080724 2019-08-15   202740     B\n",
       "\n",
       "[1197 rows x 5 columns]"
      ]
     },
     "execution_count": 48,
     "metadata": {},
     "output_type": "execute_result"
    }
   ],
   "source": [
    "orders"
   ]
  },
  {
   "cell_type": "code",
   "execution_count": 49,
   "metadata": {},
   "outputs": [],
   "source": [
    "# Получим число заказов по пользователю\n",
    "ordersByUsers = (\n",
    "    orders.drop(['group', 'revenue', 'date'], axis=1)\n",
    "    .groupby('visitorId', as_index=False)\n",
    "    .agg({'transactionId': pd.Series.nunique})\n",
    ")"
   ]
  },
  {
   "cell_type": "code",
   "execution_count": 50,
   "metadata": {},
   "outputs": [],
   "source": [
    "ordersByUsers.columns = ['userId', 'orders']"
   ]
  },
  {
   "cell_type": "code",
   "execution_count": 51,
   "metadata": {},
   "outputs": [
    {
     "data": {
      "text/html": [
       "<div>\n",
       "<style scoped>\n",
       "    .dataframe tbody tr th:only-of-type {\n",
       "        vertical-align: middle;\n",
       "    }\n",
       "\n",
       "    .dataframe tbody tr th {\n",
       "        vertical-align: top;\n",
       "    }\n",
       "\n",
       "    .dataframe thead th {\n",
       "        text-align: right;\n",
       "    }\n",
       "</style>\n",
       "<table border=\"1\" class=\"dataframe\">\n",
       "  <thead>\n",
       "    <tr style=\"text-align: right;\">\n",
       "      <th></th>\n",
       "      <th>userId</th>\n",
       "      <th>orders</th>\n",
       "    </tr>\n",
       "  </thead>\n",
       "  <tbody>\n",
       "    <tr>\n",
       "      <td>1023</td>\n",
       "      <td>4256040402</td>\n",
       "      <td>11</td>\n",
       "    </tr>\n",
       "    <tr>\n",
       "      <td>591</td>\n",
       "      <td>2458001652</td>\n",
       "      <td>11</td>\n",
       "    </tr>\n",
       "    <tr>\n",
       "      <td>569</td>\n",
       "      <td>2378935119</td>\n",
       "      <td>9</td>\n",
       "    </tr>\n",
       "    <tr>\n",
       "      <td>487</td>\n",
       "      <td>2038680547</td>\n",
       "      <td>8</td>\n",
       "    </tr>\n",
       "    <tr>\n",
       "      <td>44</td>\n",
       "      <td>199603092</td>\n",
       "      <td>5</td>\n",
       "    </tr>\n",
       "    <tr>\n",
       "      <td>744</td>\n",
       "      <td>3062433592</td>\n",
       "      <td>5</td>\n",
       "    </tr>\n",
       "    <tr>\n",
       "      <td>55</td>\n",
       "      <td>237748145</td>\n",
       "      <td>5</td>\n",
       "    </tr>\n",
       "    <tr>\n",
       "      <td>917</td>\n",
       "      <td>3803269165</td>\n",
       "      <td>5</td>\n",
       "    </tr>\n",
       "    <tr>\n",
       "      <td>299</td>\n",
       "      <td>1230306981</td>\n",
       "      <td>5</td>\n",
       "    </tr>\n",
       "    <tr>\n",
       "      <td>897</td>\n",
       "      <td>3717692402</td>\n",
       "      <td>5</td>\n",
       "    </tr>\n",
       "  </tbody>\n",
       "</table>\n",
       "</div>"
      ],
      "text/plain": [
       "          userId  orders\n",
       "1023  4256040402      11\n",
       "591   2458001652      11\n",
       "569   2378935119       9\n",
       "487   2038680547       8\n",
       "44     199603092       5\n",
       "744   3062433592       5\n",
       "55     237748145       5\n",
       "917   3803269165       5\n",
       "299   1230306981       5\n",
       "897   3717692402       5"
      ]
     },
     "execution_count": 51,
     "metadata": {},
     "output_type": "execute_result"
    }
   ],
   "source": [
    "ordersByUsers.sort_values(by='orders', ascending=False).head(10)"
   ]
  },
  {
   "cell_type": "code",
   "execution_count": 52,
   "metadata": {},
   "outputs": [
    {
     "name": "stderr",
     "output_type": "stream",
     "text": [
      "No handles with labels found to put in legend.\n"
     ]
    },
    {
     "data": {
      "image/png": "[encoded data removed]",
      "text/plain": [
       "<Figure size 720x288 with 1 Axes>"
      ]
     },
     "metadata": {
      "needs_background": "light"
     },
     "output_type": "display_data"
    }
   ],
   "source": [
    "plt.figure(figsize = (10, 4))\n",
    "plt.hist(ordersByUsers['orders'])\n",
    "plt.title('График количества заказов по пользователям');\n",
    "plt.legend();"
   ]
  },
  {
   "cell_type": "markdown",
   "metadata": {},
   "source": [
    "Большенство пользователей, совершило всего один заказ. Однако по этому шрафику не скажешь, сколько пользователей заказало 2, 3, 4 и больше. Построим точеччный график."
   ]
  },
  {
   "cell_type": "code",
   "execution_count": 53,
   "metadata": {},
   "outputs": [],
   "source": [
    "x_values = pd.Series(range(0, len(ordersByUsers)))"
   ]
  },
  {
   "cell_type": "code",
   "execution_count": 54,
   "metadata": {},
   "outputs": [
    {
     "data": {
      "image/png": "[encoded data removed]",
      "text/plain": [
       "<Figure size 720x288 with 1 Axes>"
      ]
     },
     "metadata": {
      "needs_background": "light"
     },
     "output_type": "display_data"
    }
   ],
   "source": [
    "plt.figure(figsize = (10, 4))\n",
    "plt.scatter(x_values, ordersByUsers['orders']);"
   ]
  },
  {
   "cell_type": "markdown",
   "metadata": {},
   "source": [
    "**Пользователей, совершивших более 2-х совсем мало, они вполне могут быть аномальными.**"
   ]
  },
  {
   "cell_type": "markdown",
   "metadata": {},
   "source": [
    "<a name=\"stage_93\"></a>\n",
    "#### [Посчитем  95-й и 99-й перцентили количества заказов на пользователя. Выберем границу для определения аномальных пользователей.](#stage_93)"
   ]
  },
  {
   "cell_type": "code",
   "execution_count": 55,
   "metadata": {},
   "outputs": [
    {
     "data": {
      "text/plain": [
       "array([2., 4.])"
      ]
     },
     "execution_count": 55,
     "metadata": {},
     "output_type": "execute_result"
    }
   ],
   "source": [
    "\n",
    "np.percentile(ordersByUsers['orders'], [95, 99])"
   ]
  },
  {
   "cell_type": "markdown",
   "metadata": {},
   "source": [
    "**Не более 5% пользователей совершили не более 2-х заказов. И не более 1% - больше четырех заказов.**"
   ]
  },
  {
   "cell_type": "markdown",
   "metadata": {},
   "source": [
    "***"
   ]
  },
  {
   "cell_type": "markdown",
   "metadata": {},
   "source": [
    "<a name=\"stage_92\"></a>\n",
    "#### [Построим точечный график стоимостей заказов. Сделаем выводы и предположения.](#stage_92)"
   ]
  },
  {
   "cell_type": "code",
   "execution_count": 56,
   "metadata": {},
   "outputs": [],
   "source": [
    "#Постройте гистограмму распределения выручек ('revenue') \n",
    "x_values = pd.Series(range(0, len(orders['revenue'])))"
   ]
  },
  {
   "cell_type": "code",
   "execution_count": 57,
   "metadata": {},
   "outputs": [
    {
     "data": {
      "image/png": "[encoded data removed]",
      "text/plain": [
       "<Figure size 432x288 with 1 Axes>"
      ]
     },
     "metadata": {
      "needs_background": "light"
     },
     "output_type": "display_data"
    }
   ],
   "source": [
    "plt.scatter(x_values, orders['revenue']) ;"
   ]
  },
  {
   "cell_type": "markdown",
   "metadata": {},
   "source": [
    "***"
   ]
  },
  {
   "cell_type": "markdown",
   "metadata": {},
   "source": [
    "<a name=\"stage_91\"></a>\n",
    "#### [Посчитайте 95-й и 99-й перцентили стоимости заказов. Выберите границу для определения аномальных заказов.](#stage_91)"
   ]
  },
  {
   "cell_type": "code",
   "execution_count": 58,
   "metadata": {},
   "outputs": [
    {
     "data": {
      "text/plain": [
       "array([28000. , 58233.2])"
      ]
     },
     "execution_count": 58,
     "metadata": {},
     "output_type": "execute_result"
    }
   ],
   "source": [
    "np.percentile(orders['revenue'], [95, 99])"
   ]
  },
  {
   "cell_type": "markdown",
   "metadata": {},
   "source": [
    "***"
   ]
  },
  {
   "cell_type": "markdown",
   "metadata": {},
   "source": [
    "<a name=\"stage_90\"></a>\n",
    "#### [Посчитаем статистическую значимость различий в конверсии между группами по «сырым» данным. Сделаем выводы и предположения.](#stage_90)"
   ]
  },
  {
   "cell_type": "code",
   "execution_count": 59,
   "metadata": {},
   "outputs": [],
   "source": [
    "# Начнём с подготовки данных. \n",
    "visitorsADaily = visitors[visitors['group'] == 'A'][['date', 'visitors']]\n",
    "visitorsADaily.columns = ['date', 'visitorsPerDateA']"
   ]
  },
  {
   "cell_type": "code",
   "execution_count": 60,
   "metadata": {},
   "outputs": [],
   "source": [
    "visitorsADaily = visitors[visitors['group'] == 'A'][['date', 'visitors']]\n",
    "visitorsADaily.columns = ['date', 'visitorsPerDateA']\n",
    "\n",
    "visitorsACummulative = visitorsADaily.apply(\n",
    "    lambda x: visitorsADaily[visitorsADaily['date'] <= x['date']].agg(\n",
    "        {'date': 'max', 'visitorsPerDateA': 'sum'}\n",
    "    ),\n",
    "    axis=1,\n",
    ")"
   ]
  },
  {
   "cell_type": "code",
   "execution_count": 61,
   "metadata": {},
   "outputs": [],
   "source": [
    "visitorsACummulative.columns = ['date', 'visitorsCummulativeA']\n",
    "\n",
    "visitorsBDaily = visitors[visitors['group'] == 'B'][['date', 'visitors']]\n",
    "visitorsBDaily.columns = ['date', 'visitorsPerDateB']\n",
    "\n",
    "visitorsBCummulative = visitorsBDaily.apply(\n",
    "    lambda x: visitorsBDaily[visitorsBDaily['date'] <= x['date']].agg(\n",
    "        {'date': 'max', 'visitorsPerDateB': 'sum'}\n",
    "    ),\n",
    "    axis=1,\n",
    ")"
   ]
  },
  {
   "cell_type": "code",
   "execution_count": 62,
   "metadata": {},
   "outputs": [],
   "source": [
    "visitorsBCummulative.columns = ['date', 'visitorsCummulativeB']"
   ]
  },
  {
   "cell_type": "code",
   "execution_count": 63,
   "metadata": {},
   "outputs": [],
   "source": [
    "ordersADaily = (\n",
    "    orders[orders['group'] == 'A'][['date', 'transactionId', 'visitorId', 'revenue']]\n",
    "    .groupby('date', as_index=False)\n",
    "    .agg({'transactionId': pd.Series.nunique, 'revenue': 'sum'})\n",
    ")"
   ]
  },
  {
   "cell_type": "code",
   "execution_count": 64,
   "metadata": {},
   "outputs": [],
   "source": [
    "ordersADaily.columns = ['date', 'ordersPerDateA', 'revenuePerDateA']"
   ]
  },
  {
   "cell_type": "code",
   "execution_count": 65,
   "metadata": {},
   "outputs": [],
   "source": [
    "ordersACummulative = ordersADaily.apply(\n",
    "    lambda x: ordersADaily[ordersADaily['date'] <= x['date']].agg(\n",
    "        {'date': 'max', 'ordersPerDateA': 'sum', 'revenuePerDateA': 'sum'}\n",
    "    ),\n",
    "    axis=1,\n",
    ").sort_values(by=['date'])\n",
    "ordersACummulative.columns = [\n",
    "    'date',\n",
    "    'ordersCummulativeA',\n",
    "    'revenueCummulativeA',\n",
    "]"
   ]
  },
  {
   "cell_type": "code",
   "execution_count": 66,
   "metadata": {},
   "outputs": [],
   "source": [
    "ordersBDaily = (\n",
    "    orders[orders['group'] == 'B'][['date', 'transactionId', 'visitorId', 'revenue']]\n",
    "    .groupby('date', as_index=False)\n",
    "    .agg({'transactionId': pd.Series.nunique, 'revenue': 'sum'})\n",
    ")\n",
    "ordersBDaily.columns = ['date', 'ordersPerDateB', 'revenuePerDateB']\n"
   ]
  },
  {
   "cell_type": "code",
   "execution_count": 67,
   "metadata": {},
   "outputs": [],
   "source": [
    "ordersBCummulative = ordersBDaily.apply(\n",
    "    lambda x: ordersBDaily[ordersBDaily['date'] <= x['date']].agg(\n",
    "        {'date': 'max', 'ordersPerDateB': 'sum', 'revenuePerDateB': 'sum'}\n",
    "    ),\n",
    "    axis=1,\n",
    ").sort_values(by=['date'])\n",
    "ordersBCummulative.columns = [\n",
    "    'date',\n",
    "    'ordersCummulativeB',\n",
    "    'revenueCummulativeB',\n",
    "]"
   ]
  },
  {
   "cell_type": "code",
   "execution_count": 68,
   "metadata": {},
   "outputs": [],
   "source": [
    "data = (\n",
    "    ordersADaily.merge(\n",
    "        ordersBDaily, left_on='date', right_on='date', how='left'\n",
    "    )\n",
    "    .merge(ordersACummulative, left_on='date', right_on='date', how='left')\n",
    "    .merge(ordersBCummulative, left_on='date', right_on='date', how='left')\n",
    "    .merge(visitorsADaily, left_on='date', right_on='date', how='left')\n",
    "    .merge(visitorsBDaily, left_on='date', right_on='date', how='left')\n",
    "    .merge(visitorsACummulative, left_on='date', right_on='date', how='left')\n",
    "    .merge(visitorsBCummulative, left_on='date', right_on='date', how='left')\n",
    ")"
   ]
  },
  {
   "cell_type": "code",
   "execution_count": 69,
   "metadata": {},
   "outputs": [
    {
     "data": {
      "text/html": [
       "<div>\n",
       "<style scoped>\n",
       "    .dataframe tbody tr th:only-of-type {\n",
       "        vertical-align: middle;\n",
       "    }\n",
       "\n",
       "    .dataframe tbody tr th {\n",
       "        vertical-align: top;\n",
       "    }\n",
       "\n",
       "    .dataframe thead th {\n",
       "        text-align: right;\n",
       "    }\n",
       "</style>\n",
       "<table border=\"1\" class=\"dataframe\">\n",
       "  <thead>\n",
       "    <tr style=\"text-align: right;\">\n",
       "      <th></th>\n",
       "      <th>date</th>\n",
       "      <th>ordersPerDateA</th>\n",
       "      <th>revenuePerDateA</th>\n",
       "      <th>ordersPerDateB</th>\n",
       "      <th>revenuePerDateB</th>\n",
       "      <th>ordersCummulativeA</th>\n",
       "      <th>revenueCummulativeA</th>\n",
       "      <th>ordersCummulativeB</th>\n",
       "      <th>revenueCummulativeB</th>\n",
       "      <th>visitorsPerDateA</th>\n",
       "      <th>visitorsPerDateB</th>\n",
       "      <th>visitorsCummulativeA</th>\n",
       "      <th>visitorsCummulativeB</th>\n",
       "    </tr>\n",
       "  </thead>\n",
       "  <tbody>\n",
       "    <tr>\n",
       "      <td>0</td>\n",
       "      <td>2019-08-01</td>\n",
       "      <td>24</td>\n",
       "      <td>148579</td>\n",
       "      <td>21</td>\n",
       "      <td>101217</td>\n",
       "      <td>24</td>\n",
       "      <td>148579</td>\n",
       "      <td>21</td>\n",
       "      <td>101217</td>\n",
       "      <td>719</td>\n",
       "      <td>713</td>\n",
       "      <td>719</td>\n",
       "      <td>713</td>\n",
       "    </tr>\n",
       "    <tr>\n",
       "      <td>1</td>\n",
       "      <td>2019-08-02</td>\n",
       "      <td>20</td>\n",
       "      <td>93822</td>\n",
       "      <td>24</td>\n",
       "      <td>165531</td>\n",
       "      <td>44</td>\n",
       "      <td>242401</td>\n",
       "      <td>45</td>\n",
       "      <td>266748</td>\n",
       "      <td>619</td>\n",
       "      <td>581</td>\n",
       "      <td>1338</td>\n",
       "      <td>1294</td>\n",
       "    </tr>\n",
       "    <tr>\n",
       "      <td>2</td>\n",
       "      <td>2019-08-03</td>\n",
       "      <td>24</td>\n",
       "      <td>112473</td>\n",
       "      <td>16</td>\n",
       "      <td>114248</td>\n",
       "      <td>68</td>\n",
       "      <td>354874</td>\n",
       "      <td>61</td>\n",
       "      <td>380996</td>\n",
       "      <td>507</td>\n",
       "      <td>509</td>\n",
       "      <td>1845</td>\n",
       "      <td>1803</td>\n",
       "    </tr>\n",
       "    <tr>\n",
       "      <td>3</td>\n",
       "      <td>2019-08-04</td>\n",
       "      <td>16</td>\n",
       "      <td>70825</td>\n",
       "      <td>17</td>\n",
       "      <td>108571</td>\n",
       "      <td>84</td>\n",
       "      <td>425699</td>\n",
       "      <td>78</td>\n",
       "      <td>489567</td>\n",
       "      <td>717</td>\n",
       "      <td>770</td>\n",
       "      <td>2562</td>\n",
       "      <td>2573</td>\n",
       "    </tr>\n",
       "    <tr>\n",
       "      <td>4</td>\n",
       "      <td>2019-08-05</td>\n",
       "      <td>25</td>\n",
       "      <td>124218</td>\n",
       "      <td>23</td>\n",
       "      <td>92428</td>\n",
       "      <td>109</td>\n",
       "      <td>549917</td>\n",
       "      <td>101</td>\n",
       "      <td>581995</td>\n",
       "      <td>756</td>\n",
       "      <td>707</td>\n",
       "      <td>3318</td>\n",
       "      <td>3280</td>\n",
       "    </tr>\n",
       "  </tbody>\n",
       "</table>\n",
       "</div>"
      ],
      "text/plain": [
       "        date  ordersPerDateA  revenuePerDateA  ordersPerDateB  \\\n",
       "0 2019-08-01              24           148579              21   \n",
       "1 2019-08-02              20            93822              24   \n",
       "2 2019-08-03              24           112473              16   \n",
       "3 2019-08-04              16            70825              17   \n",
       "4 2019-08-05              25           124218              23   \n",
       "\n",
       "   revenuePerDateB  ordersCummulativeA  revenueCummulativeA  \\\n",
       "0           101217                  24               148579   \n",
       "1           165531                  44               242401   \n",
       "2           114248                  68               354874   \n",
       "3           108571                  84               425699   \n",
       "4            92428                 109               549917   \n",
       "\n",
       "   ordersCummulativeB  revenueCummulativeB  visitorsPerDateA  \\\n",
       "0                  21               101217               719   \n",
       "1                  45               266748               619   \n",
       "2                  61               380996               507   \n",
       "3                  78               489567               717   \n",
       "4                 101               581995               756   \n",
       "\n",
       "   visitorsPerDateB  visitorsCummulativeA  visitorsCummulativeB  \n",
       "0               713                   719                   713  \n",
       "1               581                  1338                  1294  \n",
       "2               509                  1845                  1803  \n",
       "3               770                  2562                  2573  \n",
       "4               707                  3318                  3280  "
      ]
     },
     "execution_count": 69,
     "metadata": {},
     "output_type": "execute_result"
    }
   ],
   "source": [
    "# Изучим устройство таблицы data: выведем первые 5 строк таблицы.\n",
    "data.head(5)"
   ]
  },
  {
   "cell_type": "code",
   "execution_count": 70,
   "metadata": {},
   "outputs": [],
   "source": [
    "# создадим переменные\n",
    "# ordersByUsersA и ordersByUsersB со столбцами ['visitorId', 'orders'], где для пользователей, \n",
    "# совершивших хотя бы 1 заказ, будет указано число заказов.\n",
    "ordersByUsersA = (\n",
    "    orders[orders['group'] == 'A']\n",
    "    .groupby('visitorId', as_index=False)\n",
    "    .agg({'transactionId': pd.Series.nunique})\n",
    ")\n",
    "ordersByUsersA.columns = ['visitorId', 'orders']\n",
    "\n",
    "ordersByUsersB = (\n",
    "    orders[orders['group'] == 'B']\n",
    "    .groupby('visitorId', as_index=False)\n",
    "    .agg({'transactionId': pd.Series.nunique})\n",
    ")\n",
    "ordersByUsersB.columns = ['visitorId', 'orders'] "
   ]
  },
  {
   "cell_type": "code",
   "execution_count": 71,
   "metadata": {},
   "outputs": [],
   "source": [
    "# Объявим переменные sampleA и sampleB, в которых пользователям с заказами будет соответствовать \n",
    "#число заказов пользователя. А пользователям без заказов — нули.\n",
    "sampleA = pd.concat(\n",
    "    [\n",
    "        ordersByUsersA['orders'],\n",
    "        pd.Series(\n",
    "            0,\n",
    "            index=np.arange(\n",
    "                data['visitorsPerDateA'].sum() - len(ordersByUsersA['orders'])\n",
    "            ),\n",
    "            name='orders',\n",
    "        ),\n",
    "    ],\n",
    "    axis=0,\n",
    ")\n",
    "\n",
    "sampleB = pd.concat(\n",
    "    [\n",
    "        ordersByUsersB['orders'],\n",
    "        pd.Series(\n",
    "            0,\n",
    "            index=np.arange(\n",
    "                data['visitorsPerDateB'].sum() - len(ordersByUsersB['orders'])\n",
    "            ),\n",
    "            name='orders',\n",
    "        ),\n",
    "    ],\n",
    "    axis=0,\n",
    ")\n"
   ]
  },
  {
   "cell_type": "code",
   "execution_count": 72,
   "metadata": {},
   "outputs": [
    {
     "name": "stdout",
     "output_type": "stream",
     "text": [
      "0.00840\n"
     ]
    }
   ],
   "source": [
    "print(\"{0:.5f}\".format(stats.mannwhitneyu(sampleA, sampleB)[1]))"
   ]
  },
  {
   "cell_type": "code",
   "execution_count": 73,
   "metadata": {},
   "outputs": [
    {
     "name": "stdout",
     "output_type": "stream",
     "text": [
      "0.138\n"
     ]
    }
   ],
   "source": [
    "print(\"{0:.3f}\".format((data['ordersPerDateB'].sum()/data['visitorsPerDateB'].sum())/(data['ordersPerDateA'].sum()/data['visitorsPerDateA'].sum())-1)) "
   ]
  },
  {
   "cell_type": "markdown",
   "metadata": {},
   "source": [
    "***"
   ]
  },
  {
   "cell_type": "markdown",
   "metadata": {},
   "source": [
    "<a name=\"stage_89\"></a>\n",
    "#### [Посчитаем статистическую значимость различий в среднем чеке заказа между группами по «сырым» данным. Сделаем выводы и предположения.](#stage_89)"
   ]
  },
  {
   "cell_type": "code",
   "execution_count": 74,
   "metadata": {},
   "outputs": [
    {
     "name": "stdout",
     "output_type": "stream",
     "text": [
      "0.365\n",
      "0.259\n"
     ]
    }
   ],
   "source": [
    "print('{0:.3f}'.format(stats.mannwhitneyu(orders[orders['group']=='A']['revenue'], orders[orders['group']=='B']['revenue'])[1]))\n",
    "print('{0:.3f}'.format(orders[orders['group']=='B']['revenue'].mean()/orders[orders['group']=='A']['revenue'].mean()-1)) "
   ]
  },
  {
   "cell_type": "markdown",
   "metadata": {},
   "source": [
    "**p-value значительно больше  0.05. Статистически значемых отличий в среднем чеке между грппами нет. Относителная разница между сигментами 25.9%**"
   ]
  },
  {
   "cell_type": "markdown",
   "metadata": {},
   "source": [
    "***"
   ]
  },
  {
   "cell_type": "markdown",
   "metadata": {},
   "source": [
    "<a name=\"stage_88\"></a>\n",
    "#### [Посчитаем статистическую значимость различий в конверсии между группами по «очищенным» данным. Сделем выводы и предположения.](#stage_88)"
   ]
  },
  {
   "cell_type": "code",
   "execution_count": 75,
   "metadata": {},
   "outputs": [],
   "source": [
    "usersWithManyOrders = pd.concat(\n",
    "    [\n",
    "        ordersByUsersA[ordersByUsersA['orders'] > 2]['visitorId'],\n",
    "        ordersByUsersB[ordersByUsersB['orders'] > 2]['visitorId'],\n",
    "    ],\n",
    "    axis=0,\n",
    ")\n"
   ]
  },
  {
   "cell_type": "code",
   "execution_count": 76,
   "metadata": {},
   "outputs": [],
   "source": [
    "usersWithExpensiveOrders = orders[orders['revenue'] > 28000]['visitorId']\n",
    "abnormalUsers = (\n",
    "    pd.concat([usersWithManyOrders, usersWithExpensiveOrders], axis=0)\n",
    "    .drop_duplicates()\n",
    "    .sort_values()\n",
    ")"
   ]
  },
  {
   "cell_type": "code",
   "execution_count": 77,
   "metadata": {},
   "outputs": [
    {
     "data": {
      "text/plain": [
       "1099    148427295\n",
       "18      199603092\n",
       "928     204675465\n",
       "23      237748145\n",
       "37      249864742\n",
       "Name: visitorId, dtype: int64"
      ]
     },
     "execution_count": 77,
     "metadata": {},
     "output_type": "execute_result"
    }
   ],
   "source": [
    "abnormalUsers.head()"
   ]
  },
  {
   "cell_type": "code",
   "execution_count": 78,
   "metadata": {},
   "outputs": [],
   "source": [
    "\n",
    "sampleAFiltered = pd.concat(\n",
    "    [\n",
    "        ordersByUsersA[\n",
    "            np.logical_not(ordersByUsersA['visitorId'].isin(abnormalUsers))\n",
    "        ]['orders'],\n",
    "        pd.Series(\n",
    "            0,\n",
    "            index=np.arange(\n",
    "                data['visitorsPerDateA'].sum() - len(ordersByUsersA['orders'])\n",
    "            ),\n",
    "            name='orders',\n",
    "        ),\n",
    "    ],\n",
    "    axis=0,\n",
    ") \n"
   ]
  },
  {
   "cell_type": "code",
   "execution_count": 79,
   "metadata": {},
   "outputs": [],
   "source": [
    "sampleBFiltered = pd.concat(\n",
    "    [\n",
    "        ordersByUsersB[\n",
    "            np.logical_not(ordersByUsersB['visitorId'].isin(abnormalUsers))\n",
    "        ]['orders'],\n",
    "        pd.Series(\n",
    "            0,\n",
    "            index=np.arange(\n",
    "                data['visitorsPerDateB'].sum() - len(ordersByUsersB['orders'])\n",
    "            ),\n",
    "            name='orders',\n",
    "        ),\n",
    "    ],\n",
    "    axis=0,\n",
    ")"
   ]
  },
  {
   "cell_type": "code",
   "execution_count": 80,
   "metadata": {},
   "outputs": [
    {
     "name": "stdout",
     "output_type": "stream",
     "text": [
      "0.00652\n",
      "0.173\n"
     ]
    }
   ],
   "source": [
    "print('{0:.5f}'.format(stats.mannwhitneyu(sampleAFiltered, sampleBFiltered)[1]))\n",
    "print('{0:.3f}'.format(sampleBFiltered.mean()/sampleAFiltered.mean()-1))"
   ]
  },
  {
   "cell_type": "markdown",
   "metadata": {},
   "source": [
    "**Статистическая значимость достигнута. Сигмент В действительно лучше сигмента А.**"
   ]
  },
  {
   "cell_type": "markdown",
   "metadata": {},
   "source": [
    "***"
   ]
  },
  {
   "cell_type": "markdown",
   "metadata": {},
   "source": [
    "<a name=\"stage_87\"></a>\n",
    "#### [Посчитаем статистическую значимость различий в среднем чеке заказа между группами по «очищенным» данным. Сделаем выводы и предположения.](#stage_87)"
   ]
  },
  {
   "cell_type": "code",
   "execution_count": 81,
   "metadata": {},
   "outputs": [
    {
     "name": "stdout",
     "output_type": "stream",
     "text": [
      "0.369\n"
     ]
    }
   ],
   "source": [
    "print(\n",
    "    '{0:.3f}'.format(\n",
    "        stats.mannwhitneyu(\n",
    "            orders[\n",
    "                np.logical_and(\n",
    "                    orders['group'] == 'A',\n",
    "                    np.logical_not(orders['visitorId'].isin(abnormalUsers)),\n",
    "                )\n",
    "            ]['revenue'],\n",
    "            orders[\n",
    "                np.logical_and(\n",
    "                    orders['group'] == 'B',\n",
    "                    np.logical_not(orders['visitorId'].isin(abnormalUsers)),\n",
    "                )\n",
    "            ]['revenue'],\n",
    "        )[1]\n",
    "    )\n",
    ")\n"
   ]
  },
  {
   "cell_type": "code",
   "execution_count": 82,
   "metadata": {},
   "outputs": [
    {
     "name": "stdout",
     "output_type": "stream",
     "text": [
      "-0.020\n"
     ]
    }
   ],
   "source": [
    "print(\n",
    "    \"{0:.3f}\".format(\n",
    "        orders[\n",
    "            np.logical_and(\n",
    "                orders['group'] == 'B',\n",
    "                np.logical_not(orders['visitorId'].isin(abnormalUsers)),\n",
    "            )\n",
    "        ]['revenue'].mean()\n",
    "        / orders[\n",
    "            np.logical_and(\n",
    "                orders['group'] == 'A',\n",
    "                np.logical_not(orders['visitorId'].isin(abnormalUsers)),\n",
    "            )\n",
    "        ]['revenue'].mean()\n",
    "        - 1\n",
    "    )\n",
    ") "
   ]
  },
  {
   "cell_type": "markdown",
   "metadata": {},
   "source": [
    "<a name=\"stage_86\"></a>\n",
    "#### [Примим решение по результатам теста и объясните его.](#stage_86)"
   ]
  },
  {
   "cell_type": "markdown",
   "metadata": {},
   "source": [
    "* Есть статистически значимое различие по конверсии между группами как по сырым данным, так и после фильтрации аномалий.\n",
    "* По сырым данным нет статистически значимого различия по среднему чеку между группами. Относителная разница между сигментами 25.9%\n",
    "* График различия конверсии между группами сообщает, что результаты группы B лучше группы A: имеют тенденцию к росту, либо зафиксировались около среднего значения.\n",
    "* График различия среднего чека колеблется: он-то и позволил вам найти аномалии. Сделать из этого графика определённые выводы нельзя.\n",
    "\n",
    "**Исходя из фактов выше, что следует делать с тестом?**\n",
    "\n",
    "* Остановить тест, признать его успешным и перейти к проверке следующей гипотезы!\n",
    "\n",
    "<div style=\"border:solid green 2px; padding: 20px\"> \n",
    "    \n",
    "**Комментарий ревьюера**\n",
    "\n",
    "Выводы в целом верные, да, тест можно считать успешным, хотя разница в среднем чеке еще не установилась, но конверсия В подтвержденно выше конверсии А\n",
    "    \n",
    "</div>"
   ]
  },
  {
   "cell_type": "markdown",
   "metadata": {},
   "source": [
    "<div style=\"border:solid green 2px; padding: 20px\"> <h1 style=\"color:green; margin-bottom:20px\">Общий комментарий по проекту</h1>\n",
    "    \n",
    "Ты отлично поработал над проектом, графики верно построены и гипотезы проверены правильно. У тебя получилась отличная, наглядная визуализация, молодец. Это очень поможет тебе в следующем проекте.\n",
    "    \n",
    "Ты хорошо справляешься с программой. Постарайся в следующем проекте немного подробнее комментировать свои действия по ходу проекта. Удачи в следующих проектах.\n",
    "</div>"
   ]
  }
 ],
 "metadata": {
  "ExecuteTimeLog": [
   {
    "duration": 730,
    "start_time": "2021-07-26T07:22:47.423Z"
   },
   {
    "duration": 589,
    "start_time": "2021-07-26T07:23:00.117Z"
   },
   {
    "duration": 728,
    "start_time": "2021-07-26T07:23:07.045Z"
   },
   {
    "duration": 3,
    "start_time": "2021-07-26T07:25:03.253Z"
   },
   {
    "duration": 18,
    "start_time": "2021-07-26T07:26:11.509Z"
   },
   {
    "duration": 11,
    "start_time": "2021-07-26T07:26:15.765Z"
   },
   {
    "duration": 18,
    "start_time": "2021-07-26T07:26:42.158Z"
   },
   {
    "duration": 18,
    "start_time": "2021-07-26T07:26:54.147Z"
   },
   {
    "duration": 7,
    "start_time": "2021-07-26T07:26:54.318Z"
   },
   {
    "duration": 23,
    "start_time": "2021-07-26T07:27:37.005Z"
   },
   {
    "duration": 9,
    "start_time": "2021-07-26T07:28:18.871Z"
   },
   {
    "duration": 3,
    "start_time": "2021-07-26T07:28:33.220Z"
   },
   {
    "duration": 6,
    "start_time": "2021-07-26T07:28:52.140Z"
   },
   {
    "duration": 2,
    "start_time": "2021-07-26T07:29:25.999Z"
   },
   {
    "duration": 233,
    "start_time": "2021-07-26T07:29:49.741Z"
   },
   {
    "duration": 6,
    "start_time": "2021-07-26T07:30:07.028Z"
   },
   {
    "duration": 6,
    "start_time": "2021-07-26T07:30:18.044Z"
   },
   {
    "duration": 5,
    "start_time": "2021-07-26T07:30:22.917Z"
   },
   {
    "duration": 63,
    "start_time": "2021-07-26T07:31:51.787Z"
   },
   {
    "duration": 3,
    "start_time": "2021-07-26T07:32:01.964Z"
   },
   {
    "duration": 19,
    "start_time": "2021-07-26T07:32:02.116Z"
   },
   {
    "duration": 8,
    "start_time": "2021-07-26T07:32:02.268Z"
   },
   {
    "duration": 7,
    "start_time": "2021-07-26T07:32:02.572Z"
   },
   {
    "duration": 2,
    "start_time": "2021-07-26T07:32:32.621Z"
   },
   {
    "duration": 185,
    "start_time": "2021-07-26T07:32:57.142Z"
   },
   {
    "duration": 6,
    "start_time": "2021-07-26T07:33:03.867Z"
   },
   {
    "duration": 194,
    "start_time": "2021-07-26T07:33:30.926Z"
   },
   {
    "duration": 19,
    "start_time": "2021-07-26T07:33:35.291Z"
   },
   {
    "duration": 4,
    "start_time": "2021-07-26T07:35:04.308Z"
   },
   {
    "duration": 8,
    "start_time": "2021-07-26T07:35:07.156Z"
   },
   {
    "duration": 20,
    "start_time": "2021-07-26T07:43:44.419Z"
   },
   {
    "duration": 3,
    "start_time": "2021-07-26T07:43:44.585Z"
   },
   {
    "duration": 8,
    "start_time": "2021-07-26T07:43:44.755Z"
   },
   {
    "duration": 39,
    "start_time": "2021-07-26T07:45:10.410Z"
   },
   {
    "duration": 66,
    "start_time": "2021-07-26T07:45:55.875Z"
   },
   {
    "duration": 7,
    "start_time": "2021-07-26T07:45:56.203Z"
   },
   {
    "duration": 67,
    "start_time": "2021-07-26T07:46:02.602Z"
   },
   {
    "duration": 7,
    "start_time": "2021-07-26T07:46:03.810Z"
   },
   {
    "duration": 7,
    "start_time": "2021-07-26T07:46:04.123Z"
   },
   {
    "duration": 5,
    "start_time": "2021-07-26T07:46:04.308Z"
   },
   {
    "duration": 2,
    "start_time": "2021-07-26T07:46:04.650Z"
   },
   {
    "duration": 6,
    "start_time": "2021-07-26T07:46:04.825Z"
   },
   {
    "duration": 22,
    "start_time": "2021-07-26T07:46:05.170Z"
   },
   {
    "duration": 3,
    "start_time": "2021-07-26T07:46:05.341Z"
   },
   {
    "duration": 9,
    "start_time": "2021-07-26T07:46:06.874Z"
   },
   {
    "duration": 12,
    "start_time": "2021-07-26T07:46:17.098Z"
   },
   {
    "duration": 12,
    "start_time": "2021-07-26T07:46:31.146Z"
   },
   {
    "duration": 6,
    "start_time": "2021-07-26T07:47:13.969Z"
   },
   {
    "duration": 6,
    "start_time": "2021-07-26T07:47:42.487Z"
   },
   {
    "duration": 5,
    "start_time": "2021-07-26T07:50:28.603Z"
   },
   {
    "duration": 6,
    "start_time": "2021-07-26T07:50:46.394Z"
   },
   {
    "duration": 6,
    "start_time": "2021-07-26T07:50:52.249Z"
   },
   {
    "duration": 13,
    "start_time": "2021-07-26T07:51:03.427Z"
   },
   {
    "duration": 6,
    "start_time": "2021-07-26T07:51:27.051Z"
   },
   {
    "duration": 6,
    "start_time": "2021-07-26T07:52:11.859Z"
   },
   {
    "duration": 7,
    "start_time": "2021-07-26T07:52:31.778Z"
   },
   {
    "duration": 18,
    "start_time": "2021-07-26T07:52:57.296Z"
   },
   {
    "duration": 9,
    "start_time": "2021-07-26T07:57:29.499Z"
   },
   {
    "duration": 5,
    "start_time": "2021-07-26T07:58:28.065Z"
   },
   {
    "duration": 57,
    "start_time": "2021-07-26T07:59:26.200Z"
   },
   {
    "duration": 5,
    "start_time": "2021-07-26T07:59:29.640Z"
   },
   {
    "duration": 63,
    "start_time": "2021-07-26T08:01:13.913Z"
   },
   {
    "duration": 5,
    "start_time": "2021-07-26T08:01:19.472Z"
   },
   {
    "duration": 6,
    "start_time": "2021-07-26T08:01:25.254Z"
   },
   {
    "duration": 7,
    "start_time": "2021-07-26T08:01:37.424Z"
   },
   {
    "duration": 7,
    "start_time": "2021-07-26T08:01:44.475Z"
   },
   {
    "duration": 6,
    "start_time": "2021-07-26T08:01:51.069Z"
   },
   {
    "duration": 19,
    "start_time": "2021-07-26T08:02:27.490Z"
   },
   {
    "duration": 6,
    "start_time": "2021-07-26T08:02:37.514Z"
   },
   {
    "duration": 5,
    "start_time": "2021-07-26T08:02:37.840Z"
   },
   {
    "duration": 5,
    "start_time": "2021-07-26T08:02:38.544Z"
   },
   {
    "duration": 11,
    "start_time": "2021-07-26T08:02:40.235Z"
   },
   {
    "duration": 69,
    "start_time": "2021-07-26T08:10:30.454Z"
   },
   {
    "duration": 56,
    "start_time": "2021-07-26T08:11:57.710Z"
   },
   {
    "duration": 2,
    "start_time": "2021-07-26T08:15:31.735Z"
   },
   {
    "duration": 8,
    "start_time": "2021-07-26T08:17:00.918Z"
   },
   {
    "duration": 4,
    "start_time": "2021-07-26T08:18:05.039Z"
   },
   {
    "duration": 4,
    "start_time": "2021-07-26T08:18:10.862Z"
   },
   {
    "duration": 5,
    "start_time": "2021-07-26T08:20:15.039Z"
   },
   {
    "duration": 7,
    "start_time": "2021-07-26T08:20:17.910Z"
   },
   {
    "duration": 55,
    "start_time": "2021-07-26T08:21:16.599Z"
   },
   {
    "duration": 4,
    "start_time": "2021-07-26T08:21:29.679Z"
   },
   {
    "duration": 4,
    "start_time": "2021-07-26T08:21:31.527Z"
   },
   {
    "duration": 5,
    "start_time": "2021-07-26T08:21:31.684Z"
   },
   {
    "duration": 8,
    "start_time": "2021-07-26T08:21:32.418Z"
   },
   {
    "duration": 3,
    "start_time": "2021-07-26T08:26:23.760Z"
   },
   {
    "duration": 5,
    "start_time": "2021-07-26T08:26:49.559Z"
   },
   {
    "duration": 5,
    "start_time": "2021-07-26T08:26:49.734Z"
   },
   {
    "duration": 7,
    "start_time": "2021-07-26T08:26:52.813Z"
   },
   {
    "duration": 59,
    "start_time": "2021-07-26T08:32:18.444Z"
   },
   {
    "duration": 3,
    "start_time": "2021-07-26T09:11:08.264Z"
   },
   {
    "duration": 66,
    "start_time": "2021-07-26T09:11:08.440Z"
   },
   {
    "duration": 8,
    "start_time": "2021-07-26T09:11:08.626Z"
   },
   {
    "duration": 6,
    "start_time": "2021-07-26T09:11:08.984Z"
   },
   {
    "duration": 6,
    "start_time": "2021-07-26T09:11:09.176Z"
   },
   {
    "duration": 6,
    "start_time": "2021-07-26T09:11:09.560Z"
   },
   {
    "duration": 20,
    "start_time": "2021-07-26T09:11:09.940Z"
   },
   {
    "duration": 4,
    "start_time": "2021-07-26T09:11:10.136Z"
   },
   {
    "duration": 8,
    "start_time": "2021-07-26T09:11:10.358Z"
   },
   {
    "duration": 12,
    "start_time": "2021-07-26T09:11:10.898Z"
   },
   {
    "duration": 6,
    "start_time": "2021-07-26T09:11:11.279Z"
   },
   {
    "duration": 5,
    "start_time": "2021-07-26T09:11:11.663Z"
   },
   {
    "duration": 6,
    "start_time": "2021-07-26T09:11:11.856Z"
   },
   {
    "duration": 6,
    "start_time": "2021-07-26T09:11:12.048Z"
   },
   {
    "duration": 5,
    "start_time": "2021-07-26T09:11:12.464Z"
   },
   {
    "duration": 17,
    "start_time": "2021-07-26T09:11:12.856Z"
   },
   {
    "duration": 9,
    "start_time": "2021-07-26T09:11:13.442Z"
   },
   {
    "duration": 6,
    "start_time": "2021-07-26T09:11:13.837Z"
   },
   {
    "duration": 4,
    "start_time": "2021-07-26T09:11:14.216Z"
   },
   {
    "duration": 5,
    "start_time": "2021-07-26T09:11:14.409Z"
   },
   {
    "duration": 5,
    "start_time": "2021-07-26T09:11:14.594Z"
   },
   {
    "duration": 6,
    "start_time": "2021-07-26T09:11:14.960Z"
   },
   {
    "duration": 12,
    "start_time": "2021-07-26T09:11:15.344Z"
   },
   {
    "duration": 7,
    "start_time": "2021-07-26T09:11:16.352Z"
   },
   {
    "duration": 4,
    "start_time": "2021-07-26T09:11:16.552Z"
   },
   {
    "duration": 6,
    "start_time": "2021-07-26T09:11:16.768Z"
   },
   {
    "duration": 7,
    "start_time": "2021-07-26T09:11:16.961Z"
   },
   {
    "duration": 4,
    "start_time": "2021-07-26T09:11:17.722Z"
   },
   {
    "duration": 5,
    "start_time": "2021-07-26T09:11:17.905Z"
   },
   {
    "duration": 8,
    "start_time": "2021-07-26T09:11:18.097Z"
   },
   {
    "duration": 5,
    "start_time": "2021-07-26T09:15:09.633Z"
   },
   {
    "duration": 393,
    "start_time": "2021-07-26T09:15:11.705Z"
   },
   {
    "duration": 11,
    "start_time": "2021-07-26T09:15:41.460Z"
   },
   {
    "duration": 7,
    "start_time": "2021-07-26T09:16:36.235Z"
   },
   {
    "duration": 4527,
    "start_time": "2021-07-26T09:16:36.625Z"
   },
   {
    "duration": 5,
    "start_time": "2021-07-26T09:17:54.537Z"
   },
   {
    "duration": 202,
    "start_time": "2021-07-26T09:17:54.951Z"
   },
   {
    "duration": 176,
    "start_time": "2021-07-26T09:18:10.363Z"
   },
   {
    "duration": 5,
    "start_time": "2021-07-26T09:18:12.633Z"
   },
   {
    "duration": 5231,
    "start_time": "2021-07-26T09:18:12.792Z"
   },
   {
    "duration": -36,
    "start_time": "2021-07-26T09:18:18.061Z"
   },
   {
    "duration": 6,
    "start_time": "2021-07-26T09:18:18.089Z"
   },
   {
    "duration": 4917,
    "start_time": "2021-07-26T09:18:18.761Z"
   },
   {
    "duration": 294,
    "start_time": "2021-07-26T09:18:35.977Z"
   },
   {
    "duration": 6,
    "start_time": "2021-07-26T09:19:44.537Z"
   },
   {
    "duration": 5324,
    "start_time": "2021-07-26T09:19:44.729Z"
   },
   {
    "duration": -56,
    "start_time": "2021-07-26T09:19:50.111Z"
   },
   {
    "duration": 13,
    "start_time": "2021-07-26T09:19:52.487Z"
   },
   {
    "duration": 203,
    "start_time": "2021-07-26T09:20:02.339Z"
   },
   {
    "duration": 312,
    "start_time": "2021-07-26T09:20:27.089Z"
   },
   {
    "duration": 148,
    "start_time": "2021-07-26T09:20:56.994Z"
   },
   {
    "duration": 214,
    "start_time": "2021-07-26T09:21:08.968Z"
   },
   {
    "duration": 9,
    "start_time": "2021-07-26T09:23:31.607Z"
   },
   {
    "duration": 13,
    "start_time": "2021-07-26T09:23:40.584Z"
   },
   {
    "duration": 8,
    "start_time": "2021-07-26T09:23:40.873Z"
   },
   {
    "duration": 8,
    "start_time": "2021-07-26T09:40:03.269Z"
   },
   {
    "duration": 220,
    "start_time": "2021-07-26T09:40:03.448Z"
   },
   {
    "duration": 157,
    "start_time": "2021-07-26T09:40:03.670Z"
   },
   {
    "duration": 230,
    "start_time": "2021-07-26T09:40:03.829Z"
   },
   {
    "duration": 220,
    "start_time": "2021-07-26T09:50:22.975Z"
   },
   {
    "duration": 220,
    "start_time": "2021-07-26T09:50:34.583Z"
   },
   {
    "duration": 377,
    "start_time": "2021-07-26T09:59:17.135Z"
   },
   {
    "duration": 378,
    "start_time": "2021-07-26T09:59:21.070Z"
   },
   {
    "duration": 436,
    "start_time": "2021-07-26T09:59:38.070Z"
   },
   {
    "duration": 318,
    "start_time": "2021-07-26T09:59:45.604Z"
   },
   {
    "duration": 258,
    "start_time": "2021-07-26T09:59:51.038Z"
   },
   {
    "duration": 246,
    "start_time": "2021-07-26T09:59:58.919Z"
   },
   {
    "duration": 205,
    "start_time": "2021-07-26T10:25:23.949Z"
   },
   {
    "duration": 242,
    "start_time": "2021-07-26T10:25:44.657Z"
   },
   {
    "duration": 243,
    "start_time": "2021-07-26T10:25:57.521Z"
   },
   {
    "duration": 259,
    "start_time": "2021-07-26T10:26:03.105Z"
   },
   {
    "duration": 6,
    "start_time": "2021-07-26T10:35:06.346Z"
   },
   {
    "duration": 9,
    "start_time": "2021-07-26T10:35:14.491Z"
   },
   {
    "duration": 254,
    "start_time": "2021-07-26T10:35:17.321Z"
   },
   {
    "duration": 7,
    "start_time": "2021-07-26T10:35:18.120Z"
   },
   {
    "duration": 6,
    "start_time": "2021-07-26T10:35:25.736Z"
   },
   {
    "duration": 186,
    "start_time": "2021-07-26T10:35:39.040Z"
   },
   {
    "duration": 190,
    "start_time": "2021-07-26T10:35:45.944Z"
   },
   {
    "duration": 280,
    "start_time": "2021-07-26T10:36:02.841Z"
   },
   {
    "duration": 335,
    "start_time": "2021-07-26T10:36:18.050Z"
   },
   {
    "duration": 249,
    "start_time": "2021-07-26T10:36:51.185Z"
   },
   {
    "duration": 240,
    "start_time": "2021-07-26T10:36:54.626Z"
   },
   {
    "duration": 343,
    "start_time": "2021-07-26T10:37:08.394Z"
   },
   {
    "duration": 335,
    "start_time": "2021-07-26T10:37:31.107Z"
   },
   {
    "duration": 475,
    "start_time": "2021-07-26T10:37:48.083Z"
   },
   {
    "duration": 319,
    "start_time": "2021-07-26T10:38:46.942Z"
   },
   {
    "duration": 4,
    "start_time": "2021-07-26T10:44:24.624Z"
   },
   {
    "duration": 4,
    "start_time": "2021-07-26T10:44:32.352Z"
   },
   {
    "duration": 5,
    "start_time": "2021-07-26T10:44:38.319Z"
   },
   {
    "duration": 238,
    "start_time": "2021-07-26T10:44:45.575Z"
   },
   {
    "duration": 203,
    "start_time": "2021-07-26T10:44:49.960Z"
   },
   {
    "duration": 248,
    "start_time": "2021-07-26T10:44:57.672Z"
   },
   {
    "duration": 255,
    "start_time": "2021-07-26T10:45:09.986Z"
   },
   {
    "duration": 225,
    "start_time": "2021-07-26T10:45:19.153Z"
   },
   {
    "duration": 117,
    "start_time": "2021-07-26T10:45:27.094Z"
   },
   {
    "duration": 163,
    "start_time": "2021-07-26T10:45:48.433Z"
   },
   {
    "duration": 189,
    "start_time": "2021-07-26T10:45:56.511Z"
   },
   {
    "duration": 117,
    "start_time": "2021-07-26T10:45:59.897Z"
   },
   {
    "duration": 227,
    "start_time": "2021-07-26T10:46:39.615Z"
   },
   {
    "duration": 244,
    "start_time": "2021-07-26T10:46:46.831Z"
   },
   {
    "duration": 131,
    "start_time": "2021-07-26T10:46:56.878Z"
   },
   {
    "duration": 114,
    "start_time": "2021-07-26T10:47:11.422Z"
   },
   {
    "duration": 257,
    "start_time": "2021-07-26T10:47:55.200Z"
   },
   {
    "duration": 277,
    "start_time": "2021-07-26T10:48:26.917Z"
   },
   {
    "duration": 247,
    "start_time": "2021-07-26T10:48:30.735Z"
   },
   {
    "duration": 7,
    "start_time": "2021-07-26T10:57:51.046Z"
   },
   {
    "duration": 322,
    "start_time": "2021-07-26T10:58:03.302Z"
   },
   {
    "duration": 128,
    "start_time": "2021-07-26T10:58:11.662Z"
   },
   {
    "duration": 208,
    "start_time": "2021-07-26T10:58:15.870Z"
   },
   {
    "duration": 289,
    "start_time": "2021-07-26T10:58:18.614Z"
   },
   {
    "duration": 315,
    "start_time": "2021-07-26T10:58:22.892Z"
   },
   {
    "duration": 277,
    "start_time": "2021-07-26T10:58:26.428Z"
   },
   {
    "duration": 218,
    "start_time": "2021-07-26T10:58:35.087Z"
   },
   {
    "duration": 7,
    "start_time": "2021-07-26T10:58:44.974Z"
   },
   {
    "duration": 206,
    "start_time": "2021-07-26T10:58:45.172Z"
   },
   {
    "duration": 284,
    "start_time": "2021-07-26T10:58:55.549Z"
   },
   {
    "duration": 377,
    "start_time": "2021-07-26T10:59:10.565Z"
   },
   {
    "duration": 54,
    "start_time": "2021-07-26T11:02:39.997Z"
   },
   {
    "duration": 8,
    "start_time": "2021-07-26T11:02:45.194Z"
   },
   {
    "duration": 54,
    "start_time": "2021-07-26T11:03:08.556Z"
   },
   {
    "duration": 178,
    "start_time": "2021-07-26T11:03:18.755Z"
   },
   {
    "duration": 173,
    "start_time": "2021-07-26T11:03:22.796Z"
   },
   {
    "duration": 204,
    "start_time": "2021-07-26T11:03:32.488Z"
   },
   {
    "duration": 231,
    "start_time": "2021-07-26T11:03:41.813Z"
   },
   {
    "duration": 233,
    "start_time": "2021-07-26T11:03:44.907Z"
   },
   {
    "duration": 178,
    "start_time": "2021-07-26T11:03:53.162Z"
   },
   {
    "duration": 386,
    "start_time": "2021-07-26T11:03:57.981Z"
   },
   {
    "duration": 338,
    "start_time": "2021-07-26T11:04:12.924Z"
   },
   {
    "duration": 353,
    "start_time": "2021-07-26T11:04:30.988Z"
   },
   {
    "duration": 362,
    "start_time": "2021-07-26T11:04:35.188Z"
   },
   {
    "duration": 451,
    "start_time": "2021-07-26T11:04:39.108Z"
   },
   {
    "duration": 337,
    "start_time": "2021-07-26T11:04:44.540Z"
   },
   {
    "duration": 362,
    "start_time": "2021-07-26T11:04:50.164Z"
   },
   {
    "duration": 307,
    "start_time": "2021-07-26T11:04:57.115Z"
   },
   {
    "duration": 330,
    "start_time": "2021-07-26T11:05:04.749Z"
   },
   {
    "duration": 374,
    "start_time": "2021-07-26T11:05:14.876Z"
   },
   {
    "duration": 358,
    "start_time": "2021-07-26T11:05:20.389Z"
   },
   {
    "duration": 383,
    "start_time": "2021-07-26T11:05:23.979Z"
   },
   {
    "duration": 4,
    "start_time": "2021-07-26T11:14:12.546Z"
   },
   {
    "duration": 5,
    "start_time": "2021-07-26T11:14:22.547Z"
   },
   {
    "duration": 4,
    "start_time": "2021-07-26T11:14:36.442Z"
   },
   {
    "duration": 4,
    "start_time": "2021-07-26T11:14:43.411Z"
   },
   {
    "duration": 5,
    "start_time": "2021-07-26T11:14:46.402Z"
   },
   {
    "duration": 3,
    "start_time": "2021-07-26T11:14:49.345Z"
   },
   {
    "duration": 180,
    "start_time": "2021-07-26T11:15:06.107Z"
   },
   {
    "duration": 422,
    "start_time": "2021-07-26T11:21:52.588Z"
   },
   {
    "duration": 179,
    "start_time": "2021-07-26T11:32:11.817Z"
   },
   {
    "duration": 192,
    "start_time": "2021-07-26T11:32:46.537Z"
   },
   {
    "duration": 11,
    "start_time": "2021-07-26T11:32:58.940Z"
   },
   {
    "duration": 112,
    "start_time": "2021-07-26T11:33:06.506Z"
   },
   {
    "duration": 3,
    "start_time": "2021-07-26T11:33:18.064Z"
   },
   {
    "duration": 8,
    "start_time": "2021-07-26T11:33:22.856Z"
   },
   {
    "duration": 67,
    "start_time": "2021-07-26T11:33:45.145Z"
   },
   {
    "duration": 10,
    "start_time": "2021-07-26T11:33:47.625Z"
   },
   {
    "duration": 204,
    "start_time": "2021-07-26T11:34:06.122Z"
   },
   {
    "duration": 228,
    "start_time": "2021-07-26T11:34:19.114Z"
   },
   {
    "duration": 244,
    "start_time": "2021-07-26T11:34:32.736Z"
   },
   {
    "duration": 262,
    "start_time": "2021-07-26T11:34:38.393Z"
   },
   {
    "duration": 258,
    "start_time": "2021-07-26T11:35:26.693Z"
   },
   {
    "duration": 271,
    "start_time": "2021-07-26T11:35:43.178Z"
   },
   {
    "duration": 227,
    "start_time": "2021-07-26T11:35:49.017Z"
   },
   {
    "duration": 177,
    "start_time": "2021-07-26T11:39:23.529Z"
   },
   {
    "duration": 4,
    "start_time": "2021-07-26T11:39:46.328Z"
   },
   {
    "duration": 252,
    "start_time": "2021-07-26T11:39:46.519Z"
   },
   {
    "duration": 314,
    "start_time": "2021-07-26T11:40:20.776Z"
   },
   {
    "duration": 288,
    "start_time": "2021-07-26T11:40:25.850Z"
   },
   {
    "duration": 4,
    "start_time": "2021-07-26T11:43:29.858Z"
   },
   {
    "duration": 58,
    "start_time": "2021-07-26T11:44:27.302Z"
   },
   {
    "duration": 6,
    "start_time": "2021-07-26T11:44:30.134Z"
   },
   {
    "duration": 7,
    "start_time": "2021-07-26T11:44:50.627Z"
   },
   {
    "duration": 125,
    "start_time": "2021-07-26T11:44:59.920Z"
   },
   {
    "duration": 62,
    "start_time": "2021-07-26T11:45:11.719Z"
   },
   {
    "duration": 105,
    "start_time": "2021-07-26T11:45:16.359Z"
   },
   {
    "duration": 5,
    "start_time": "2021-07-26T11:46:07.143Z"
   },
   {
    "duration": 4,
    "start_time": "2021-07-26T11:46:24.657Z"
   },
   {
    "duration": 5,
    "start_time": "2021-07-26T11:59:05.949Z"
   },
   {
    "duration": 177,
    "start_time": "2021-07-26T12:08:23.749Z"
   },
   {
    "duration": 174,
    "start_time": "2021-07-26T12:08:37.923Z"
   },
   {
    "duration": 3,
    "start_time": "2021-07-26T12:09:46.205Z"
   },
   {
    "duration": 290,
    "start_time": "2021-07-26T12:09:58.861Z"
   },
   {
    "duration": 302,
    "start_time": "2021-07-26T12:10:12.060Z"
   },
   {
    "duration": 3,
    "start_time": "2021-07-26T12:13:23.427Z"
   },
   {
    "duration": 429,
    "start_time": "2021-07-26T12:13:26.883Z"
   },
   {
    "duration": 63,
    "start_time": "2021-07-26T12:13:32.187Z"
   },
   {
    "duration": 57,
    "start_time": "2021-07-26T12:16:16.699Z"
   },
   {
    "duration": 5,
    "start_time": "2021-07-26T12:16:19.579Z"
   },
   {
    "duration": 6,
    "start_time": "2021-07-26T12:16:46.259Z"
   },
   {
    "duration": 5,
    "start_time": "2021-07-26T13:00:05.566Z"
   },
   {
    "duration": 78,
    "start_time": "2021-07-26T13:00:06.487Z"
   },
   {
    "duration": 73,
    "start_time": "2021-07-26T13:00:23.958Z"
   },
   {
    "duration": 4,
    "start_time": "2021-07-26T13:00:34.382Z"
   },
   {
    "duration": 180,
    "start_time": "2021-07-26T13:00:43.870Z"
   },
   {
    "duration": 17,
    "start_time": "2021-07-26T13:01:12.348Z"
   },
   {
    "duration": 3,
    "start_time": "2021-07-26T13:01:18.173Z"
   },
   {
    "duration": 76,
    "start_time": "2021-07-26T13:01:27.135Z"
   },
   {
    "duration": 306,
    "start_time": "2021-07-26T13:01:35.261Z"
   },
   {
    "duration": 19,
    "start_time": "2021-07-26T13:01:52.383Z"
   },
   {
    "duration": 67,
    "start_time": "2021-07-26T13:02:00.021Z"
   },
   {
    "duration": 21,
    "start_time": "2021-07-26T13:02:15.918Z"
   },
   {
    "duration": 11,
    "start_time": "2021-07-26T13:02:50.014Z"
   },
   {
    "duration": 22,
    "start_time": "2021-07-26T13:03:07.487Z"
   },
   {
    "duration": 126,
    "start_time": "2021-07-26T13:04:20.149Z"
   },
   {
    "duration": 6,
    "start_time": "2021-07-26T13:04:53.574Z"
   },
   {
    "duration": 375,
    "start_time": "2021-07-26T13:05:02.463Z"
   },
   {
    "duration": 3,
    "start_time": "2021-07-26T13:08:40.958Z"
   },
   {
    "duration": 4,
    "start_time": "2021-07-26T13:08:43.919Z"
   },
   {
    "duration": 69,
    "start_time": "2021-07-26T13:08:44.068Z"
   },
   {
    "duration": 8,
    "start_time": "2021-07-26T13:08:44.247Z"
   },
   {
    "duration": 7,
    "start_time": "2021-07-26T13:08:44.556Z"
   },
   {
    "duration": 6,
    "start_time": "2021-07-26T13:08:44.718Z"
   },
   {
    "duration": 6,
    "start_time": "2021-07-26T13:08:45.019Z"
   },
   {
    "duration": 18,
    "start_time": "2021-07-26T13:08:45.325Z"
   },
   {
    "duration": 3,
    "start_time": "2021-07-26T13:08:45.476Z"
   },
   {
    "duration": 8,
    "start_time": "2021-07-26T13:08:45.636Z"
   },
   {
    "duration": 12,
    "start_time": "2021-07-26T13:08:46.149Z"
   },
   {
    "duration": 8,
    "start_time": "2021-07-26T13:08:46.525Z"
   },
   {
    "duration": 8,
    "start_time": "2021-07-26T13:08:46.902Z"
   },
   {
    "duration": 6,
    "start_time": "2021-07-26T13:08:47.070Z"
   },
   {
    "duration": 6,
    "start_time": "2021-07-26T13:08:47.243Z"
   },
   {
    "duration": 6,
    "start_time": "2021-07-26T13:08:47.630Z"
   },
   {
    "duration": 19,
    "start_time": "2021-07-26T13:08:48.029Z"
   },
   {
    "duration": 9,
    "start_time": "2021-07-26T13:08:48.646Z"
   },
   {
    "duration": 10,
    "start_time": "2021-07-26T13:08:48.997Z"
   },
   {
    "duration": 5,
    "start_time": "2021-07-26T13:08:49.340Z"
   },
   {
    "duration": 10,
    "start_time": "2021-07-26T13:08:49.500Z"
   },
   {
    "duration": 5,
    "start_time": "2021-07-26T13:08:49.652Z"
   },
   {
    "duration": 7,
    "start_time": "2021-07-26T13:08:49.956Z"
   },
   {
    "duration": 13,
    "start_time": "2021-07-26T13:08:50.269Z"
   },
   {
    "duration": 8,
    "start_time": "2021-07-26T13:08:51.052Z"
   },
   {
    "duration": 4,
    "start_time": "2021-07-26T13:08:51.236Z"
   },
   {
    "duration": 8,
    "start_time": "2021-07-26T13:08:51.405Z"
   },
   {
    "duration": 12,
    "start_time": "2021-07-26T13:08:51.581Z"
   },
   {
    "duration": 5,
    "start_time": "2021-07-26T13:08:52.348Z"
   },
   {
    "duration": 5,
    "start_time": "2021-07-26T13:08:52.526Z"
   },
   {
    "duration": 12,
    "start_time": "2021-07-26T13:08:52.700Z"
   },
   {
    "duration": 13,
    "start_time": "2021-07-26T13:08:54.132Z"
   },
   {
    "duration": 13,
    "start_time": "2021-07-26T13:08:54.293Z"
   },
   {
    "duration": 249,
    "start_time": "2021-07-26T13:08:54.469Z"
   },
   {
    "duration": 183,
    "start_time": "2021-07-26T13:08:54.719Z"
   },
   {
    "duration": 285,
    "start_time": "2021-07-26T13:08:54.906Z"
   },
   {
    "duration": 268,
    "start_time": "2021-07-26T13:08:55.565Z"
   },
   {
    "duration": 8,
    "start_time": "2021-07-26T13:08:56.318Z"
   },
   {
    "duration": 347,
    "start_time": "2021-07-26T13:08:56.548Z"
   },
   {
    "duration": 4,
    "start_time": "2021-07-26T13:08:57.165Z"
   },
   {
    "duration": 4,
    "start_time": "2021-07-26T13:08:57.364Z"
   },
   {
    "duration": 4,
    "start_time": "2021-07-26T13:08:57.566Z"
   },
   {
    "duration": 307,
    "start_time": "2021-07-26T13:08:57.749Z"
   },
   {
    "duration": 14,
    "start_time": "2021-07-26T13:08:58.500Z"
   },
   {
    "duration": 420,
    "start_time": "2021-07-26T13:08:58.694Z"
   },
   {
    "duration": 18,
    "start_time": "2021-07-26T13:08:59.494Z"
   },
   {
    "duration": 133,
    "start_time": "2021-07-26T13:08:59.725Z"
   },
   {
    "duration": 4,
    "start_time": "2021-07-26T13:08:59.925Z"
   },
   {
    "duration": 8,
    "start_time": "2021-07-26T13:09:00.118Z"
   },
   {
    "duration": 236,
    "start_time": "2021-07-26T13:09:00.310Z"
   },
   {
    "duration": 3,
    "start_time": "2021-07-26T13:09:00.956Z"
   },
   {
    "duration": 345,
    "start_time": "2021-07-26T13:09:01.270Z"
   },
   {
    "duration": 6,
    "start_time": "2021-07-26T13:09:01.980Z"
   },
   {
    "duration": 3,
    "start_time": "2021-07-26T13:09:02.772Z"
   },
   {
    "duration": 338,
    "start_time": "2021-07-26T13:09:02.973Z"
   },
   {
    "duration": 6,
    "start_time": "2021-07-26T13:09:03.771Z"
   },
   {
    "duration": 5,
    "start_time": "2021-07-26T13:09:04.541Z"
   },
   {
    "duration": 58,
    "start_time": "2021-07-26T13:09:04.724Z"
   },
   {
    "duration": 63,
    "start_time": "2021-07-26T13:09:04.909Z"
   },
   {
    "duration": 5,
    "start_time": "2021-07-26T13:09:05.086Z"
   },
   {
    "duration": 16,
    "start_time": "2021-07-26T13:09:05.277Z"
   },
   {
    "duration": 3,
    "start_time": "2021-07-26T13:09:05.453Z"
   },
   {
    "duration": 70,
    "start_time": "2021-07-26T13:09:05.628Z"
   },
   {
    "duration": 23,
    "start_time": "2021-07-26T13:09:05.805Z"
   },
   {
    "duration": 74,
    "start_time": "2021-07-26T13:09:05.990Z"
   },
   {
    "duration": 32,
    "start_time": "2021-07-26T13:09:06.190Z"
   },
   {
    "duration": 16,
    "start_time": "2021-07-26T13:09:06.389Z"
   },
   {
    "duration": 124,
    "start_time": "2021-07-26T13:09:06.573Z"
   },
   {
    "duration": 6,
    "start_time": "2021-07-26T13:09:06.766Z"
   },
   {
    "duration": 7,
    "start_time": "2021-07-26T13:09:06.948Z"
   },
   {
    "duration": 8,
    "start_time": "2021-07-26T13:09:17.693Z"
   },
   {
    "duration": 9,
    "start_time": "2021-07-26T13:25:43.851Z"
   },
   {
    "duration": 62,
    "start_time": "2021-07-26T13:25:59.796Z"
   },
   {
    "duration": 11,
    "start_time": "2021-07-26T13:26:03.246Z"
   },
   {
    "duration": 4842,
    "start_time": "2021-07-26T13:40:07.889Z"
   },
   {
    "duration": -14,
    "start_time": "2021-07-26T13:40:12.748Z"
   },
   {
    "duration": 4576,
    "start_time": "2021-07-26T13:40:35.257Z"
   },
   {
    "duration": -34,
    "start_time": "2021-07-26T13:40:39.869Z"
   },
   {
    "duration": 10,
    "start_time": "2021-07-26T13:41:03.383Z"
   },
   {
    "duration": 4336,
    "start_time": "2021-07-26T13:41:04.888Z"
   },
   {
    "duration": -28,
    "start_time": "2021-07-26T13:41:09.254Z"
   },
   {
    "duration": -31,
    "start_time": "2021-07-26T13:41:09.258Z"
   },
   {
    "duration": 4305,
    "start_time": "2021-07-26T13:42:30.530Z"
   },
   {
    "duration": 100,
    "start_time": "2021-07-26T13:44:18.401Z"
   },
   {
    "duration": 6,
    "start_time": "2021-07-26T13:44:19.609Z"
   },
   {
    "duration": 6,
    "start_time": "2021-07-26T13:44:22.192Z"
   },
   {
    "duration": 5,
    "start_time": "2021-07-26T13:44:22.809Z"
   },
   {
    "duration": 11,
    "start_time": "2021-07-26T13:44:26.017Z"
   },
   {
    "duration": 5,
    "start_time": "2021-07-26T13:44:30.232Z"
   },
   {
    "duration": 4527,
    "start_time": "2021-07-26T13:44:35.351Z"
   },
   {
    "duration": -34,
    "start_time": "2021-07-26T13:44:39.914Z"
   },
   {
    "duration": 7,
    "start_time": "2021-07-26T13:44:47.720Z"
   },
   {
    "duration": 5,
    "start_time": "2021-07-26T13:44:48.142Z"
   },
   {
    "duration": 7,
    "start_time": "2021-07-26T13:48:02.857Z"
   },
   {
    "duration": 6,
    "start_time": "2021-07-26T13:48:04.463Z"
   },
   {
    "duration": 6,
    "start_time": "2021-07-26T13:48:04.622Z"
   },
   {
    "duration": 5,
    "start_time": "2021-07-26T13:48:04.815Z"
   },
   {
    "duration": 5,
    "start_time": "2021-07-26T13:49:28.471Z"
   },
   {
    "duration": 4,
    "start_time": "2021-07-26T13:49:33.528Z"
   },
   {
    "duration": 4,
    "start_time": "2021-07-26T13:49:43.840Z"
   },
   {
    "duration": 4,
    "start_time": "2021-07-26T13:49:56.839Z"
   },
   {
    "duration": 4,
    "start_time": "2021-07-26T13:50:05.450Z"
   },
   {
    "duration": 5,
    "start_time": "2021-07-26T13:50:09.104Z"
   },
   {
    "duration": 4,
    "start_time": "2021-07-26T13:50:16.359Z"
   },
   {
    "duration": 183,
    "start_time": "2021-07-26T13:51:39.168Z"
   },
   {
    "duration": 5,
    "start_time": "2021-07-26T13:52:15.775Z"
   },
   {
    "duration": 224,
    "start_time": "2021-07-26T13:52:33.928Z"
   },
   {
    "duration": 4225,
    "start_time": "2021-07-26T13:52:55.024Z"
   },
   {
    "duration": 6,
    "start_time": "2021-07-26T13:53:18.751Z"
   },
   {
    "duration": 6,
    "start_time": "2021-07-26T13:53:19.174Z"
   },
   {
    "duration": 8,
    "start_time": "2021-07-26T13:53:19.847Z"
   },
   {
    "duration": 8,
    "start_time": "2021-07-26T13:58:52.009Z"
   },
   {
    "duration": 8,
    "start_time": "2021-07-26T13:58:52.166Z"
   },
   {
    "duration": 55,
    "start_time": "2021-07-26T14:06:05.116Z"
   },
   {
    "duration": 3,
    "start_time": "2021-07-26T14:17:42.527Z"
   },
   {
    "duration": 68,
    "start_time": "2021-07-26T14:17:42.714Z"
   },
   {
    "duration": 8,
    "start_time": "2021-07-26T14:17:42.931Z"
   },
   {
    "duration": 6,
    "start_time": "2021-07-26T14:17:43.819Z"
   },
   {
    "duration": 5,
    "start_time": "2021-07-26T14:17:44.019Z"
   },
   {
    "duration": 6,
    "start_time": "2021-07-26T14:17:45.516Z"
   },
   {
    "duration": 21,
    "start_time": "2021-07-26T14:17:45.971Z"
   },
   {
    "duration": 3,
    "start_time": "2021-07-26T14:17:46.217Z"
   },
   {
    "duration": 15,
    "start_time": "2021-07-26T14:17:46.997Z"
   },
   {
    "duration": 21,
    "start_time": "2021-07-26T14:17:51.291Z"
   },
   {
    "duration": 7,
    "start_time": "2021-07-26T14:17:51.753Z"
   },
   {
    "duration": 8,
    "start_time": "2021-07-26T14:17:52.181Z"
   },
   {
    "duration": 8,
    "start_time": "2021-07-26T14:17:52.402Z"
   },
   {
    "duration": 6,
    "start_time": "2021-07-26T14:17:52.837Z"
   },
   {
    "duration": 10,
    "start_time": "2021-07-26T14:17:53.290Z"
   },
   {
    "duration": 22,
    "start_time": "2021-07-26T14:17:53.702Z"
   },
   {
    "duration": 10,
    "start_time": "2021-07-26T14:17:54.563Z"
   },
   {
    "duration": 5,
    "start_time": "2021-07-26T14:17:55.549Z"
   },
   {
    "duration": 6,
    "start_time": "2021-07-26T14:17:57.106Z"
   },
   {
    "duration": 7,
    "start_time": "2021-07-26T14:17:57.334Z"
   },
   {
    "duration": 6,
    "start_time": "2021-07-26T14:17:57.545Z"
   },
   {
    "duration": 7,
    "start_time": "2021-07-26T14:17:58.307Z"
   },
   {
    "duration": 11,
    "start_time": "2021-07-26T14:17:58.746Z"
   },
   {
    "duration": 12,
    "start_time": "2021-07-26T14:17:59.804Z"
   },
   {
    "duration": 6,
    "start_time": "2021-07-26T14:18:00.019Z"
   },
   {
    "duration": 5,
    "start_time": "2021-07-26T14:18:00.234Z"
   },
   {
    "duration": 8,
    "start_time": "2021-07-26T14:18:00.500Z"
   },
   {
    "duration": 5,
    "start_time": "2021-07-26T14:18:01.453Z"
   },
   {
    "duration": 5,
    "start_time": "2021-07-26T14:18:01.740Z"
   },
   {
    "duration": 7,
    "start_time": "2021-07-26T14:18:02.365Z"
   },
   {
    "duration": 11,
    "start_time": "2021-07-26T14:18:05.347Z"
   },
   {
    "duration": 15,
    "start_time": "2021-07-26T14:18:05.587Z"
   },
   {
    "duration": 234,
    "start_time": "2021-07-26T14:18:05.834Z"
   },
   {
    "duration": 178,
    "start_time": "2021-07-26T14:18:06.093Z"
   },
   {
    "duration": 282,
    "start_time": "2021-07-26T14:18:06.330Z"
   },
   {
    "duration": 276,
    "start_time": "2021-07-26T14:18:20.052Z"
   },
   {
    "duration": 7,
    "start_time": "2021-07-26T14:18:42.109Z"
   },
   {
    "duration": 353,
    "start_time": "2021-07-26T14:18:42.532Z"
   },
   {
    "duration": 4,
    "start_time": "2021-07-26T14:19:04.195Z"
   },
   {
    "duration": 4,
    "start_time": "2021-07-26T14:19:04.377Z"
   },
   {
    "duration": 4,
    "start_time": "2021-07-26T14:19:04.562Z"
   },
   {
    "duration": 292,
    "start_time": "2021-07-26T14:19:04.819Z"
   },
   {
    "duration": 9,
    "start_time": "2021-07-26T14:19:20.880Z"
   },
   {
    "duration": 399,
    "start_time": "2021-07-26T14:19:21.372Z"
   },
   {
    "duration": 423,
    "start_time": "2021-07-26T14:19:25.564Z"
   },
   {
    "duration": 12,
    "start_time": "2021-07-26T14:20:07.307Z"
   },
   {
    "duration": 128,
    "start_time": "2021-07-26T14:20:07.378Z"
   },
   {
    "duration": 3,
    "start_time": "2021-07-26T14:20:08.219Z"
   },
   {
    "duration": 11,
    "start_time": "2021-07-26T14:20:08.224Z"
   },
   {
    "duration": 192,
    "start_time": "2021-07-26T14:20:08.500Z"
   },
   {
    "duration": 3,
    "start_time": "2021-07-26T14:20:10.570Z"
   },
   {
    "duration": 300,
    "start_time": "2021-07-26T14:20:10.960Z"
   },
   {
    "duration": 6,
    "start_time": "2021-07-26T14:20:49.273Z"
   },
   {
    "duration": 4,
    "start_time": "2021-07-26T14:21:00.601Z"
   },
   {
    "duration": 276,
    "start_time": "2021-07-26T14:21:00.858Z"
   },
   {
    "duration": 5,
    "start_time": "2021-07-26T14:21:13.722Z"
   },
   {
    "duration": 58,
    "start_time": "2021-07-26T14:21:14.794Z"
   },
   {
    "duration": 62,
    "start_time": "2021-07-26T14:21:15.130Z"
   },
   {
    "duration": 3,
    "start_time": "2021-07-26T14:21:15.346Z"
   },
   {
    "duration": 13,
    "start_time": "2021-07-26T14:21:15.530Z"
   },
   {
    "duration": 3,
    "start_time": "2021-07-26T14:21:15.732Z"
   },
   {
    "duration": 62,
    "start_time": "2021-07-26T14:21:15.954Z"
   },
   {
    "duration": 15,
    "start_time": "2021-07-26T14:21:16.236Z"
   },
   {
    "duration": 61,
    "start_time": "2021-07-26T14:21:16.442Z"
   },
   {
    "duration": 23,
    "start_time": "2021-07-26T14:21:16.638Z"
   },
   {
    "duration": 10,
    "start_time": "2021-07-26T14:21:17.058Z"
   },
   {
    "duration": 105,
    "start_time": "2021-07-26T14:21:17.891Z"
   },
   {
    "duration": 7,
    "start_time": "2021-07-26T14:21:18.490Z"
   },
   {
    "duration": 8,
    "start_time": "2021-07-26T14:21:18.932Z"
   },
   {
    "duration": 5,
    "start_time": "2021-07-26T14:21:19.314Z"
   },
   {
    "duration": 10,
    "start_time": "2021-07-26T14:21:20.714Z"
   },
   {
    "duration": 12,
    "start_time": "2021-07-26T14:22:55.217Z"
   },
   {
    "duration": 5,
    "start_time": "2021-07-26T14:23:07.823Z"
   },
   {
    "duration": 6,
    "start_time": "2021-07-26T14:23:08.010Z"
   },
   {
    "duration": 5,
    "start_time": "2021-07-26T14:23:08.204Z"
   },
   {
    "duration": 7,
    "start_time": "2021-07-26T14:23:08.384Z"
   },
   {
    "duration": 6,
    "start_time": "2021-07-26T14:23:08.564Z"
   },
   {
    "duration": 8,
    "start_time": "2021-07-26T14:23:08.738Z"
   },
   {
    "duration": 8,
    "start_time": "2021-07-26T14:24:01.474Z"
   },
   {
    "duration": 9,
    "start_time": "2021-07-26T14:24:01.690Z"
   },
   {
    "duration": 263,
    "start_time": "2021-08-09T08:15:24.578Z"
   },
   {
    "duration": 1305,
    "start_time": "2021-08-09T09:53:52.611Z"
   },
   {
    "duration": 68,
    "start_time": "2021-08-09T09:53:53.918Z"
   },
   {
    "duration": 10,
    "start_time": "2021-08-09T09:53:53.988Z"
   },
   {
    "duration": 9,
    "start_time": "2021-08-09T09:53:53.999Z"
   },
   {
    "duration": 6,
    "start_time": "2021-08-09T09:53:54.010Z"
   },
   {
    "duration": 5,
    "start_time": "2021-08-09T09:53:54.018Z"
   },
   {
    "duration": 20,
    "start_time": "2021-08-09T09:53:54.025Z"
   },
   {
    "duration": 3,
    "start_time": "2021-08-09T09:53:54.048Z"
   },
   {
    "duration": 7,
    "start_time": "2021-08-09T09:53:54.084Z"
   },
   {
    "duration": 14,
    "start_time": "2021-08-09T09:53:54.093Z"
   },
   {
    "duration": 6,
    "start_time": "2021-08-09T09:53:54.108Z"
   },
   {
    "duration": 8,
    "start_time": "2021-08-09T09:53:54.116Z"
   },
   {
    "duration": 11,
    "start_time": "2021-08-09T09:53:54.125Z"
   },
   {
    "duration": 6,
    "start_time": "2021-08-09T09:53:54.138Z"
   },
   {
    "duration": 8,
    "start_time": "2021-08-09T09:53:54.145Z"
   },
   {
    "duration": 43,
    "start_time": "2021-08-09T09:53:54.154Z"
   },
   {
    "duration": 9,
    "start_time": "2021-08-09T09:53:54.198Z"
   },
   {
    "duration": 6,
    "start_time": "2021-08-09T09:53:54.209Z"
   },
   {
    "duration": 6,
    "start_time": "2021-08-09T09:53:54.217Z"
   },
   {
    "duration": 9,
    "start_time": "2021-08-09T09:53:54.224Z"
   },
   {
    "duration": 5,
    "start_time": "2021-08-09T09:53:54.293Z"
   },
   {
    "duration": 6,
    "start_time": "2021-08-09T09:53:54.456Z"
   },
   {
    "duration": 11,
    "start_time": "2021-08-09T09:53:54.594Z"
   },
   {
    "duration": 7,
    "start_time": "2021-08-09T09:53:55.015Z"
   },
   {
    "duration": 6,
    "start_time": "2021-08-09T09:53:55.081Z"
   },
   {
    "duration": 5,
    "start_time": "2021-08-09T09:53:55.123Z"
   },
   {
    "duration": 7,
    "start_time": "2021-08-09T09:53:55.168Z"
   },
   {
    "duration": 4,
    "start_time": "2021-08-09T09:53:55.321Z"
   },
   {
    "duration": 5,
    "start_time": "2021-08-09T09:53:55.363Z"
   },
   {
    "duration": 6,
    "start_time": "2021-08-09T09:53:55.408Z"
   },
   {
    "duration": 12,
    "start_time": "2021-08-09T09:53:55.884Z"
   },
   {
    "duration": 8,
    "start_time": "2021-08-09T09:53:55.927Z"
   },
   {
    "duration": 196,
    "start_time": "2021-08-09T09:53:55.975Z"
   },
   {
    "duration": 161,
    "start_time": "2021-08-09T09:53:56.173Z"
   },
   {
    "duration": 258,
    "start_time": "2021-08-09T09:53:56.336Z"
   },
   {
    "duration": 242,
    "start_time": "2021-08-09T09:53:56.596Z"
   },
   {
    "duration": 6,
    "start_time": "2021-08-09T09:53:56.839Z"
   },
   {
    "duration": 331,
    "start_time": "2021-08-09T09:53:56.847Z"
   },
   {
    "duration": 5,
    "start_time": "2021-08-09T09:53:57.180Z"
   },
   {
    "duration": 312,
    "start_time": "2021-08-09T09:54:03.944Z"
   },
   {
    "duration": 3,
    "start_time": "2021-08-09T09:54:04.450Z"
   },
   {
    "duration": 4,
    "start_time": "2021-08-09T09:54:04.616Z"
   },
   {
    "duration": 4,
    "start_time": "2021-08-09T09:54:04.775Z"
   },
   {
    "duration": 249,
    "start_time": "2021-08-09T09:54:04.961Z"
   },
   {
    "duration": 8,
    "start_time": "2021-08-09T09:54:05.606Z"
   },
   {
    "duration": 375,
    "start_time": "2021-08-09T09:54:05.769Z"
   },
   {
    "duration": 12,
    "start_time": "2021-08-09T09:54:06.400Z"
   },
   {
    "duration": 103,
    "start_time": "2021-08-09T09:54:06.560Z"
   },
   {
    "duration": 3,
    "start_time": "2021-08-09T09:54:06.720Z"
   },
   {
    "duration": 7,
    "start_time": "2021-08-09T09:54:06.897Z"
   },
   {
    "duration": 196,
    "start_time": "2021-08-09T09:54:07.387Z"
   },
   {
    "duration": 3,
    "start_time": "2021-08-09T09:54:07.612Z"
   },
   {
    "duration": 354,
    "start_time": "2021-08-09T09:54:07.785Z"
   },
   {
    "duration": 5,
    "start_time": "2021-08-09T09:54:08.297Z"
   },
   {
    "duration": 3,
    "start_time": "2021-08-09T09:54:09.001Z"
   },
   {
    "duration": 292,
    "start_time": "2021-08-09T09:54:09.185Z"
   },
   {
    "duration": 5,
    "start_time": "2021-08-09T09:54:09.912Z"
   },
   {
    "duration": 5,
    "start_time": "2021-08-09T09:54:10.631Z"
   },
   {
    "duration": 57,
    "start_time": "2021-08-09T09:54:10.829Z"
   },
   {
    "duration": 55,
    "start_time": "2021-08-09T09:54:11.001Z"
   },
   {
    "duration": 3,
    "start_time": "2021-08-09T09:54:11.206Z"
   },
   {
    "duration": 14,
    "start_time": "2021-08-09T09:54:11.344Z"
   },
   {
    "duration": 3,
    "start_time": "2021-08-09T09:54:11.527Z"
   },
   {
    "duration": 61,
    "start_time": "2021-08-09T09:54:11.729Z"
   },
   {
    "duration": 13,
    "start_time": "2021-08-09T09:54:11.895Z"
   },
   {
    "duration": 56,
    "start_time": "2021-08-09T09:54:12.096Z"
   },
   {
    "duration": 22,
    "start_time": "2021-08-09T09:54:12.286Z"
   },
   {
    "duration": 12,
    "start_time": "2021-08-09T09:54:12.472Z"
   },
   {
    "duration": 101,
    "start_time": "2021-08-09T09:54:12.664Z"
   },
   {
    "duration": 6,
    "start_time": "2021-08-09T09:54:12.865Z"
   },
   {
    "duration": 6,
    "start_time": "2021-08-09T09:54:13.055Z"
   },
   {
    "duration": 5,
    "start_time": "2021-08-09T09:54:13.265Z"
   },
   {
    "duration": 9,
    "start_time": "2021-08-09T09:54:13.953Z"
   },
   {
    "duration": 5,
    "start_time": "2021-08-09T09:54:14.679Z"
   },
   {
    "duration": 6,
    "start_time": "2021-08-09T09:54:14.855Z"
   },
   {
    "duration": 4,
    "start_time": "2021-08-09T09:54:15.023Z"
   },
   {
    "duration": 6,
    "start_time": "2021-08-09T09:54:15.210Z"
   },
   {
    "duration": 6,
    "start_time": "2021-08-09T09:54:15.386Z"
   },
   {
    "duration": 6,
    "start_time": "2021-08-09T09:54:15.544Z"
   },
   {
    "duration": 10,
    "start_time": "2021-08-09T09:54:16.177Z"
   },
   {
    "duration": 9,
    "start_time": "2021-08-09T09:54:16.367Z"
   },
   {
    "duration": 2009,
    "start_time": "2021-08-26T08:21:45.475Z"
   }
  ],
  "kernelspec": {
   "display_name": "Python 3",
   "language": "python",
   "name": "python3"
  },
  "language_info": {
   "codemirror_mode": {
    "name": "ipython",
    "version": 3
   },
   "file_extension": ".py",
   "mimetype": "text/x-python",
   "name": "python",
   "nbconvert_exporter": "python",
   "pygments_lexer": "ipython3",
   "version": "3.7.8"
  },
  "toc": {
   "base_numbering": 1,
   "nav_menu": {},
   "number_sections": true,
   "sideBar": true,
   "skip_h1_title": true,
   "title_cell": "Table of Contents",
   "title_sidebar": "Contents",
   "toc_cell": false,
   "toc_position": {},
   "toc_section_display": true,
   "toc_window_display": false
  }
 },
 "nbformat": 4,
 "nbformat_minor": 2
}
