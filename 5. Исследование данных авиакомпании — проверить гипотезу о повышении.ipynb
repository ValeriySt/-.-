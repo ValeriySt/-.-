{
 "cells": [
  {
   "cell_type": "markdown",
   "metadata": {},
   "source": [
    "# Описание проекта\n",
    "\n",
    "У нас есть файлы, в которых содержатся результаты запросов из предыдущих заданий.\n",
    "\n",
    "\n",
    "/datasets/query_1.csv — результат первого запроса. В нём содержится информация о:\n",
    "- model — модели самолета\n",
    "- flights_amount — количество рейсов для каждой модели самолетов model в сентябре 2018 года\n",
    "\n",
    "\n",
    "/datasets/query_3.csv — результат третьего запроса. В нём содержится информация о:\n",
    "\n",
    "- city — городах\n",
    "- average_flights — среднем количестве рейсов, прибывающих в город city за день в августе 2018 года\n",
    "\n",
    "Для этих двух наборов данных нужно:\n",
    "\n",
    "- импортировать файлы;\n",
    "- изучить данные в них;\n",
    "- проверить типы данных на корректность;\n",
    "- выбрать топ-10 городов по количеству рейсов;\n",
    "- построить графики: модели самолетов и количество рейсов, города и количество рейсов, топ-10 городов и количество рейсов;\n",
    "- сделать выводы по каждому из графиков, пояснить результат.\n",
    "\n",
    "#   Описание данных\n",
    "\n",
    "База данных об авиаперевозках:\n",
    "\n",
    "Таблица **airports** — информация об аэропортах:\n",
    "\n",
    "   - airport_code — трёхбуквенный код аэропорта\n",
    "   - airport_name — название аэропорта\n",
    "   - city — город\n",
    "   - timezone — временная зона\n",
    "   \n",
    "Таблица **aircrafts** — информация об самолётах:\n",
    "\n",
    "   - aircraft_code — код модели самолёта\n",
    "   - model — модель самолёта\n",
    "   - range — количество самолётов\n",
    "   - Таблица tickets — информация о билетах:\n",
    "   - ticket_no — уникальный номер билета\n",
    "   - passenger_id — персональный идентификатор пассажира\n",
    "   - passenger_name — имя и фамилия пассажира\n",
    "   \n",
    "Таблица **flights** — информация о рейсах:\n",
    "\n",
    "   - flight_id — уникальный идентификатор рейса\n",
    "   - departure_airport — аэропорт вылета\n",
    "   - departure_time — дата и время вылета\n",
    "   - arrival_airport — аэропорт прилёта\n",
    "   - arrival_time — дата и время прилёта\n",
    "   - aircraft_code – id самолёта\n",
    "   \n",
    "Таблица **ticket_flights** — стыковая таблица «рейсы-билеты»\n",
    "\n",
    "   - ticket_no — номер билета\n",
    "   - flight_id — идентификатор рейса\n",
    "   \n",
    "Таблица **festivals** — информация о фестивалях\n",
    "\n",
    "   - festival_id — уникальный номер фестиваля\n",
    "   - festival_date — дата проведения фестиваля\n",
    "   - festival_city — город проведения фестиваля\n",
    "   - festival_name — название фестиваля"
   ]
  },
  {
   "cell_type": "markdown",
   "metadata": {},
   "source": [
    "# <a name=\"contents\">Задачи исследования — Сборный проект</a>\n",
    "# [1. Изучение общей информации](#stage_1)\n",
    "\n",
    "* Путь к файлу: /datasets/query_1.csv\n",
    "* Путь к файлу: /datasets/query_3.csv \n",
    "* Проверить типы данных на корректность\n",
    "\n",
    "# [2. Исследовательский анализ данных](#stage_2)\n",
    "\n",
    "* Выберем топ-10 городов по количеству рейсов\n",
    "* Построим график моделей самолетов и количество рейсов\n",
    "* Построим график города и количество рейсов\n",
    "* Топ-10 городов и количество рейсов\n",
    "\n",
    "# [3. Вывод](#stage_3)\n",
    "\n",
    "\n"
   ]
  },
  {
   "cell_type": "markdown",
   "metadata": {},
   "source": [
    "<a name=\"stage_1\"></a>\n",
    "# Шаг 1. Откроем файл с данными и изучите общую информацию"
   ]
  },
  {
   "cell_type": "code",
   "execution_count": 24,
   "metadata": {},
   "outputs": [],
   "source": [
    "import pandas as pd\n",
    "import matplotlib\n",
    "import matplotlib.pyplot as plt \n",
    "import seaborn as sns\n",
    "import numpy as np"
   ]
  },
  {
   "cell_type": "code",
   "execution_count": 25,
   "metadata": {},
   "outputs": [],
   "source": [
    "query_1 = pd.read_csv('/datasets/query_1.csv') "
   ]
  },
  {
   "cell_type": "code",
   "execution_count": 26,
   "metadata": {},
   "outputs": [
    {
     "data": {
      "text/html": [
       "<div>\n",
       "<style scoped>\n",
       "    .dataframe tbody tr th:only-of-type {\n",
       "        vertical-align: middle;\n",
       "    }\n",
       "\n",
       "    .dataframe tbody tr th {\n",
       "        vertical-align: top;\n",
       "    }\n",
       "\n",
       "    .dataframe thead th {\n",
       "        text-align: right;\n",
       "    }\n",
       "</style>\n",
       "<table border=\"1\" class=\"dataframe\">\n",
       "  <thead>\n",
       "    <tr style=\"text-align: right;\">\n",
       "      <th></th>\n",
       "      <th>model</th>\n",
       "      <th>flights_amount</th>\n",
       "    </tr>\n",
       "  </thead>\n",
       "  <tbody>\n",
       "    <tr>\n",
       "      <td>0</td>\n",
       "      <td>Airbus A319-100</td>\n",
       "      <td>607</td>\n",
       "    </tr>\n",
       "    <tr>\n",
       "      <td>1</td>\n",
       "      <td>Airbus A321-200</td>\n",
       "      <td>960</td>\n",
       "    </tr>\n",
       "    <tr>\n",
       "      <td>2</td>\n",
       "      <td>Boeing 737-300</td>\n",
       "      <td>630</td>\n",
       "    </tr>\n",
       "    <tr>\n",
       "      <td>3</td>\n",
       "      <td>Boeing 767-300</td>\n",
       "      <td>600</td>\n",
       "    </tr>\n",
       "    <tr>\n",
       "      <td>4</td>\n",
       "      <td>Boeing 777-300</td>\n",
       "      <td>300</td>\n",
       "    </tr>\n",
       "    <tr>\n",
       "      <td>5</td>\n",
       "      <td>Bombardier CRJ-200</td>\n",
       "      <td>4446</td>\n",
       "    </tr>\n",
       "    <tr>\n",
       "      <td>6</td>\n",
       "      <td>Cessna 208 Caravan</td>\n",
       "      <td>4557</td>\n",
       "    </tr>\n",
       "    <tr>\n",
       "      <td>7</td>\n",
       "      <td>Sukhoi SuperJet-100</td>\n",
       "      <td>4185</td>\n",
       "    </tr>\n",
       "  </tbody>\n",
       "</table>\n",
       "</div>"
      ],
      "text/plain": [
       "                 model  flights_amount\n",
       "0      Airbus A319-100             607\n",
       "1      Airbus A321-200             960\n",
       "2       Boeing 737-300             630\n",
       "3       Boeing 767-300             600\n",
       "4       Boeing 777-300             300\n",
       "5   Bombardier CRJ-200            4446\n",
       "6   Cessna 208 Caravan            4557\n",
       "7  Sukhoi SuperJet-100            4185"
      ]
     },
     "execution_count": 26,
     "metadata": {},
     "output_type": "execute_result"
    }
   ],
   "source": [
    "query_1"
   ]
  },
  {
   "cell_type": "code",
   "execution_count": 27,
   "metadata": {},
   "outputs": [
    {
     "name": "stdout",
     "output_type": "stream",
     "text": [
      "<class 'pandas.core.frame.DataFrame'>\n",
      "RangeIndex: 8 entries, 0 to 7\n",
      "Data columns (total 2 columns):\n",
      "model             8 non-null object\n",
      "flights_amount    8 non-null int64\n",
      "dtypes: int64(1), object(1)\n",
      "memory usage: 256.0+ bytes\n"
     ]
    }
   ],
   "source": [
    "query_1.info()"
   ]
  },
  {
   "cell_type": "code",
   "execution_count": 28,
   "metadata": {},
   "outputs": [
    {
     "data": {
      "text/html": [
       "<div>\n",
       "<style scoped>\n",
       "    .dataframe tbody tr th:only-of-type {\n",
       "        vertical-align: middle;\n",
       "    }\n",
       "\n",
       "    .dataframe tbody tr th {\n",
       "        vertical-align: top;\n",
       "    }\n",
       "\n",
       "    .dataframe thead th {\n",
       "        text-align: right;\n",
       "    }\n",
       "</style>\n",
       "<table border=\"1\" class=\"dataframe\">\n",
       "  <thead>\n",
       "    <tr style=\"text-align: right;\">\n",
       "      <th></th>\n",
       "      <th>flights_amount</th>\n",
       "    </tr>\n",
       "  </thead>\n",
       "  <tbody>\n",
       "    <tr>\n",
       "      <td>count</td>\n",
       "      <td>8.000000</td>\n",
       "    </tr>\n",
       "    <tr>\n",
       "      <td>mean</td>\n",
       "      <td>2035.625000</td>\n",
       "    </tr>\n",
       "    <tr>\n",
       "      <td>std</td>\n",
       "      <td>1965.203947</td>\n",
       "    </tr>\n",
       "    <tr>\n",
       "      <td>min</td>\n",
       "      <td>300.000000</td>\n",
       "    </tr>\n",
       "    <tr>\n",
       "      <td>25%</td>\n",
       "      <td>605.250000</td>\n",
       "    </tr>\n",
       "    <tr>\n",
       "      <td>50%</td>\n",
       "      <td>795.000000</td>\n",
       "    </tr>\n",
       "    <tr>\n",
       "      <td>75%</td>\n",
       "      <td>4250.250000</td>\n",
       "    </tr>\n",
       "    <tr>\n",
       "      <td>max</td>\n",
       "      <td>4557.000000</td>\n",
       "    </tr>\n",
       "  </tbody>\n",
       "</table>\n",
       "</div>"
      ],
      "text/plain": [
       "       flights_amount\n",
       "count        8.000000\n",
       "mean      2035.625000\n",
       "std       1965.203947\n",
       "min        300.000000\n",
       "25%        605.250000\n",
       "50%        795.000000\n",
       "75%       4250.250000\n",
       "max       4557.000000"
      ]
     },
     "execution_count": 28,
     "metadata": {},
     "output_type": "execute_result"
    }
   ],
   "source": [
    "query_1.describe()"
   ]
  },
  {
   "cell_type": "code",
   "execution_count": 29,
   "metadata": {},
   "outputs": [
    {
     "data": {
      "text/plain": [
       "0"
      ]
     },
     "execution_count": 29,
     "metadata": {},
     "output_type": "execute_result"
    }
   ],
   "source": [
    "query_1.duplicated().sum()"
   ]
  },
  {
   "cell_type": "markdown",
   "metadata": {},
   "source": [
    "**Функция, которая даст вывод в Dataframe**\n",
    "- нули\n",
    "- отсутствующее значение\n",
    "- % от общей стоимости\n",
    "- Всего Ноль Пропущенных Значений\n",
    "- % Всего Нулевых Пропущенных Значений\n",
    "- тип данных"
   ]
  },
  {
   "cell_type": "code",
   "execution_count": 30,
   "metadata": {},
   "outputs": [
    {
     "name": "stdout",
     "output_type": "stream",
     "text": [
      "Your selected dataframe has 2 columns and 8 Rows.\n",
      "There are 0 columns that have missing values.\n"
     ]
    },
    {
     "data": {
      "text/html": [
       "<div>\n",
       "<style scoped>\n",
       "    .dataframe tbody tr th:only-of-type {\n",
       "        vertical-align: middle;\n",
       "    }\n",
       "\n",
       "    .dataframe tbody tr th {\n",
       "        vertical-align: top;\n",
       "    }\n",
       "\n",
       "    .dataframe thead th {\n",
       "        text-align: right;\n",
       "    }\n",
       "</style>\n",
       "<table border=\"1\" class=\"dataframe\">\n",
       "  <thead>\n",
       "    <tr style=\"text-align: right;\">\n",
       "      <th></th>\n",
       "      <th>Zero Values</th>\n",
       "      <th>Missing Values</th>\n",
       "      <th>% of Total Values</th>\n",
       "      <th>Total Zero Missing Values</th>\n",
       "      <th>% Total Zero Missing Values</th>\n",
       "      <th>Data Type</th>\n",
       "    </tr>\n",
       "  </thead>\n",
       "  <tbody>\n",
       "  </tbody>\n",
       "</table>\n",
       "</div>"
      ],
      "text/plain": [
       "Empty DataFrame\n",
       "Columns: [Zero Values, Missing Values, % of Total Values, Total Zero Missing Values, % Total Zero Missing Values, Data Type]\n",
       "Index: []"
      ]
     },
     "execution_count": 30,
     "metadata": {},
     "output_type": "execute_result"
    }
   ],
   "source": [
    "def missing_zero_values_table(query_1):\n",
    "        zero_val = (query_1 == 0.00).astype(int).sum(axis=0)\n",
    "        mis_val = query_1.isnull().sum()\n",
    "        mis_val_percent = 100 * query_1.isnull().sum() / len(query_1)\n",
    "        mz_table = pd.concat([zero_val, mis_val, mis_val_percent], axis=1)\n",
    "        mz_table = mz_table.rename(\n",
    "        columns = {0 : 'Zero Values', 1 : 'Missing Values', 2 : '% of Total Values'})\n",
    "        mz_table['Total Zero Missing Values'] = mz_table['Zero Values'] + mz_table['Missing Values']\n",
    "        mz_table['% Total Zero Missing Values'] = 100 * mz_table['Total Zero Missing Values'] / len(query_1)\n",
    "        mz_table['Data Type'] = query_1.dtypes\n",
    "        mz_table = mz_table[\n",
    "            mz_table.iloc[:,1] != 0].sort_values(\n",
    "        '% of Total Values', ascending=False).round(1)\n",
    "        print (\"Your selected dataframe has \" + str(query_1.shape[1]) + \" columns and \" + str(query_1.shape[0]) + \" Rows.\\n\"      \n",
    "            \"There are \" + str(mz_table.shape[0]) +\n",
    "              \" columns that have missing values.\")\n",
    "        return mz_table\n",
    "\n",
    "missing_zero_values_table(query_1)"
   ]
  },
  {
   "cell_type": "markdown",
   "metadata": {},
   "source": [
    "Мы имеем таблицу с моделями самолета и количество рейсов для каждой модели в сентябре 2018 года, размер выбороки составляет 8 строк и 2 столбца. Таблица состоит из вещественных чисел и строк. Типы данных соответствуют, пропусков нет, дубликатов нет. Выглядит приемлимо."
   ]
  },
  {
   "cell_type": "markdown",
   "metadata": {},
   "source": [
    "***"
   ]
  },
  {
   "cell_type": "code",
   "execution_count": 31,
   "metadata": {},
   "outputs": [],
   "source": [
    "query_3 = pd.read_csv('/datasets/query_3.csv')"
   ]
  },
  {
   "cell_type": "code",
   "execution_count": 32,
   "metadata": {},
   "outputs": [
    {
     "data": {
      "text/html": [
       "<div>\n",
       "<style scoped>\n",
       "    .dataframe tbody tr th:only-of-type {\n",
       "        vertical-align: middle;\n",
       "    }\n",
       "\n",
       "    .dataframe tbody tr th {\n",
       "        vertical-align: top;\n",
       "    }\n",
       "\n",
       "    .dataframe thead th {\n",
       "        text-align: right;\n",
       "    }\n",
       "</style>\n",
       "<table border=\"1\" class=\"dataframe\">\n",
       "  <thead>\n",
       "    <tr style=\"text-align: right;\">\n",
       "      <th></th>\n",
       "      <th>city</th>\n",
       "      <th>average_flights</th>\n",
       "    </tr>\n",
       "  </thead>\n",
       "  <tbody>\n",
       "    <tr>\n",
       "      <td>0</td>\n",
       "      <td>Абакан</td>\n",
       "      <td>3.870968</td>\n",
       "    </tr>\n",
       "    <tr>\n",
       "      <td>1</td>\n",
       "      <td>Анадырь</td>\n",
       "      <td>1.000000</td>\n",
       "    </tr>\n",
       "    <tr>\n",
       "      <td>2</td>\n",
       "      <td>Анапа</td>\n",
       "      <td>2.161290</td>\n",
       "    </tr>\n",
       "    <tr>\n",
       "      <td>3</td>\n",
       "      <td>Архангельск</td>\n",
       "      <td>5.354839</td>\n",
       "    </tr>\n",
       "    <tr>\n",
       "      <td>4</td>\n",
       "      <td>Астрахань</td>\n",
       "      <td>2.451613</td>\n",
       "    </tr>\n",
       "    <tr>\n",
       "      <td>...</td>\n",
       "      <td>...</td>\n",
       "      <td>...</td>\n",
       "    </tr>\n",
       "    <tr>\n",
       "      <td>96</td>\n",
       "      <td>Чита</td>\n",
       "      <td>1.580645</td>\n",
       "    </tr>\n",
       "    <tr>\n",
       "      <td>97</td>\n",
       "      <td>Элиста</td>\n",
       "      <td>4.870968</td>\n",
       "    </tr>\n",
       "    <tr>\n",
       "      <td>98</td>\n",
       "      <td>Южно-Сахалинск</td>\n",
       "      <td>4.290323</td>\n",
       "    </tr>\n",
       "    <tr>\n",
       "      <td>99</td>\n",
       "      <td>Якутск</td>\n",
       "      <td>2.741935</td>\n",
       "    </tr>\n",
       "    <tr>\n",
       "      <td>100</td>\n",
       "      <td>Ярославль</td>\n",
       "      <td>1.322581</td>\n",
       "    </tr>\n",
       "  </tbody>\n",
       "</table>\n",
       "<p>101 rows × 2 columns</p>\n",
       "</div>"
      ],
      "text/plain": [
       "               city  average_flights\n",
       "0            Абакан         3.870968\n",
       "1           Анадырь         1.000000\n",
       "2             Анапа         2.161290\n",
       "3       Архангельск         5.354839\n",
       "4         Астрахань         2.451613\n",
       "..              ...              ...\n",
       "96             Чита         1.580645\n",
       "97           Элиста         4.870968\n",
       "98   Южно-Сахалинск         4.290323\n",
       "99           Якутск         2.741935\n",
       "100       Ярославль         1.322581\n",
       "\n",
       "[101 rows x 2 columns]"
      ]
     },
     "execution_count": 32,
     "metadata": {},
     "output_type": "execute_result"
    }
   ],
   "source": [
    "query_3"
   ]
  },
  {
   "cell_type": "code",
   "execution_count": 33,
   "metadata": {},
   "outputs": [
    {
     "name": "stdout",
     "output_type": "stream",
     "text": [
      "<class 'pandas.core.frame.DataFrame'>\n",
      "RangeIndex: 101 entries, 0 to 100\n",
      "Data columns (total 2 columns):\n",
      "city               101 non-null object\n",
      "average_flights    101 non-null float64\n",
      "dtypes: float64(1), object(1)\n",
      "memory usage: 1.7+ KB\n"
     ]
    }
   ],
   "source": [
    "query_3.info()"
   ]
  },
  {
   "cell_type": "code",
   "execution_count": 34,
   "metadata": {},
   "outputs": [],
   "source": [
    "# Приведем к столбец average_flights к нужному типу int\n",
    "query_3['average_flights'] = query_3['average_flights'].astype('int')"
   ]
  },
  {
   "cell_type": "code",
   "execution_count": 35,
   "metadata": {},
   "outputs": [
    {
     "name": "stdout",
     "output_type": "stream",
     "text": [
      "<class 'pandas.core.frame.DataFrame'>\n",
      "RangeIndex: 101 entries, 0 to 100\n",
      "Data columns (total 2 columns):\n",
      "city               101 non-null object\n",
      "average_flights    101 non-null int64\n",
      "dtypes: int64(1), object(1)\n",
      "memory usage: 1.7+ KB\n"
     ]
    }
   ],
   "source": [
    "query_3.info()"
   ]
  },
  {
   "cell_type": "code",
   "execution_count": 36,
   "metadata": {},
   "outputs": [
    {
     "data": {
      "text/html": [
       "<div>\n",
       "<style scoped>\n",
       "    .dataframe tbody tr th:only-of-type {\n",
       "        vertical-align: middle;\n",
       "    }\n",
       "\n",
       "    .dataframe tbody tr th {\n",
       "        vertical-align: top;\n",
       "    }\n",
       "\n",
       "    .dataframe thead th {\n",
       "        text-align: right;\n",
       "    }\n",
       "</style>\n",
       "<table border=\"1\" class=\"dataframe\">\n",
       "  <thead>\n",
       "    <tr style=\"text-align: right;\">\n",
       "      <th></th>\n",
       "      <th>average_flights</th>\n",
       "    </tr>\n",
       "  </thead>\n",
       "  <tbody>\n",
       "    <tr>\n",
       "      <td>count</td>\n",
       "      <td>101.000000</td>\n",
       "    </tr>\n",
       "    <tr>\n",
       "      <td>mean</td>\n",
       "      <td>5.217822</td>\n",
       "    </tr>\n",
       "    <tr>\n",
       "      <td>std</td>\n",
       "      <td>13.061090</td>\n",
       "    </tr>\n",
       "    <tr>\n",
       "      <td>min</td>\n",
       "      <td>1.000000</td>\n",
       "    </tr>\n",
       "    <tr>\n",
       "      <td>25%</td>\n",
       "      <td>2.000000</td>\n",
       "    </tr>\n",
       "    <tr>\n",
       "      <td>50%</td>\n",
       "      <td>3.000000</td>\n",
       "    </tr>\n",
       "    <tr>\n",
       "      <td>75%</td>\n",
       "      <td>5.000000</td>\n",
       "    </tr>\n",
       "    <tr>\n",
       "      <td>max</td>\n",
       "      <td>129.000000</td>\n",
       "    </tr>\n",
       "  </tbody>\n",
       "</table>\n",
       "</div>"
      ],
      "text/plain": [
       "       average_flights\n",
       "count       101.000000\n",
       "mean          5.217822\n",
       "std          13.061090\n",
       "min           1.000000\n",
       "25%           2.000000\n",
       "50%           3.000000\n",
       "75%           5.000000\n",
       "max         129.000000"
      ]
     },
     "execution_count": 36,
     "metadata": {},
     "output_type": "execute_result"
    }
   ],
   "source": [
    "# Тут все хорошо с данными\n",
    "query_3.describe()"
   ]
  },
  {
   "cell_type": "code",
   "execution_count": 37,
   "metadata": {},
   "outputs": [
    {
     "data": {
      "text/plain": [
       "0"
      ]
     },
     "execution_count": 37,
     "metadata": {},
     "output_type": "execute_result"
    }
   ],
   "source": [
    "query_3.duplicated().sum()"
   ]
  },
  {
   "cell_type": "code",
   "execution_count": 38,
   "metadata": {},
   "outputs": [
    {
     "name": "stdout",
     "output_type": "stream",
     "text": [
      "Your selected dataframe has 2 columns and 101 Rows.\n",
      "There are 0 columns that have missing values.\n"
     ]
    },
    {
     "data": {
      "text/html": [
       "<div>\n",
       "<style scoped>\n",
       "    .dataframe tbody tr th:only-of-type {\n",
       "        vertical-align: middle;\n",
       "    }\n",
       "\n",
       "    .dataframe tbody tr th {\n",
       "        vertical-align: top;\n",
       "    }\n",
       "\n",
       "    .dataframe thead th {\n",
       "        text-align: right;\n",
       "    }\n",
       "</style>\n",
       "<table border=\"1\" class=\"dataframe\">\n",
       "  <thead>\n",
       "    <tr style=\"text-align: right;\">\n",
       "      <th></th>\n",
       "      <th>Zero Values</th>\n",
       "      <th>Missing Values</th>\n",
       "      <th>% of Total Values</th>\n",
       "      <th>Total Zero Missing Values</th>\n",
       "      <th>% Total Zero Missing Values</th>\n",
       "      <th>Data Type</th>\n",
       "    </tr>\n",
       "  </thead>\n",
       "  <tbody>\n",
       "  </tbody>\n",
       "</table>\n",
       "</div>"
      ],
      "text/plain": [
       "Empty DataFrame\n",
       "Columns: [Zero Values, Missing Values, % of Total Values, Total Zero Missing Values, % Total Zero Missing Values, Data Type]\n",
       "Index: []"
      ]
     },
     "execution_count": 38,
     "metadata": {},
     "output_type": "execute_result"
    }
   ],
   "source": [
    "def missing_zero_values_table(query_3):\n",
    "        zero_val = (query_3 == 0.00).astype(int).sum(axis=0)\n",
    "        mis_val = query_3.isnull().sum()\n",
    "        mis_val_percent = 100 * query_3.isnull().sum() / len(query_3)\n",
    "        mz_table = pd.concat([zero_val, mis_val, mis_val_percent], axis=1)\n",
    "        mz_table = mz_table.rename(\n",
    "        columns = {0 : 'Zero Values', 1 : 'Missing Values', 2 : '% of Total Values'})\n",
    "        mz_table['Total Zero Missing Values'] = mz_table['Zero Values'] + mz_table['Missing Values']\n",
    "        mz_table['% Total Zero Missing Values'] = 100 * mz_table['Total Zero Missing Values'] / len(query_1)\n",
    "        mz_table['Data Type'] = query_3.dtypes\n",
    "        mz_table = mz_table[\n",
    "            mz_table.iloc[:,1] != 0].sort_values(\n",
    "        '% of Total Values', ascending=False).round(1)\n",
    "        print (\"Your selected dataframe has \" + str(query_1.shape[1]) + \" columns and \" + str(query_3.shape[0]) + \" Rows.\\n\"      \n",
    "            \"There are \" + str(mz_table.shape[0]) +\n",
    "              \" columns that have missing values.\")\n",
    "        return mz_table\n",
    "\n",
    "missing_zero_values_table(query_3)"
   ]
  },
  {
   "cell_type": "markdown",
   "metadata": {},
   "source": [
    "Мы имеем таблицу о городах и среднем количестве рейсов, прибывающих в город за день в августе 2018 годас, размер выбороки составляет 101 строк и 2 столбца. Таблица состоит из вещественных чисел и строк. Типы данных соответствуют, привели столбец average_flights к нужному типу int, пропусков нет, дубликатов нет. Выглядит приемлимо."
   ]
  },
  {
   "cell_type": "markdown",
   "metadata": {},
   "source": [
    "<a name=\"stage_2\"></a>\n",
    "# Шаг 2. Проведем исследовательский анализ данных"
   ]
  },
  {
   "cell_type": "markdown",
   "metadata": {},
   "source": [
    "**Выберем топ-10 городов по количеству рейсов**"
   ]
  },
  {
   "cell_type": "code",
   "execution_count": 39,
   "metadata": {},
   "outputs": [],
   "source": [
    "top_10 = query_3.groupby(\"city\", as_index = False).agg({'average_flights' : \"max\"})\\\n",
    ".sort_values('average_flights', ascending = False).head(10)"
   ]
  },
  {
   "cell_type": "code",
   "execution_count": 40,
   "metadata": {},
   "outputs": [
    {
     "data": {
      "text/html": [
       "<div>\n",
       "<style scoped>\n",
       "    .dataframe tbody tr th:only-of-type {\n",
       "        vertical-align: middle;\n",
       "    }\n",
       "\n",
       "    .dataframe tbody tr th {\n",
       "        vertical-align: top;\n",
       "    }\n",
       "\n",
       "    .dataframe thead th {\n",
       "        text-align: right;\n",
       "    }\n",
       "</style>\n",
       "<table border=\"1\" class=\"dataframe\">\n",
       "  <thead>\n",
       "    <tr style=\"text-align: right;\">\n",
       "      <th></th>\n",
       "      <th>city</th>\n",
       "      <th>average_flights</th>\n",
       "    </tr>\n",
       "  </thead>\n",
       "  <tbody>\n",
       "    <tr>\n",
       "      <td>43</td>\n",
       "      <td>Москва</td>\n",
       "      <td>129</td>\n",
       "    </tr>\n",
       "    <tr>\n",
       "      <td>70</td>\n",
       "      <td>Санкт-Петербург</td>\n",
       "      <td>31</td>\n",
       "    </tr>\n",
       "    <tr>\n",
       "      <td>54</td>\n",
       "      <td>Новосибирск</td>\n",
       "      <td>17</td>\n",
       "    </tr>\n",
       "    <tr>\n",
       "      <td>20</td>\n",
       "      <td>Екатеринбург</td>\n",
       "      <td>11</td>\n",
       "    </tr>\n",
       "    <tr>\n",
       "      <td>33</td>\n",
       "      <td>Красноярск</td>\n",
       "      <td>11</td>\n",
       "    </tr>\n",
       "    <tr>\n",
       "      <td>63</td>\n",
       "      <td>Пермь</td>\n",
       "      <td>10</td>\n",
       "    </tr>\n",
       "    <tr>\n",
       "      <td>67</td>\n",
       "      <td>Ростов-на-Дону</td>\n",
       "      <td>10</td>\n",
       "    </tr>\n",
       "    <tr>\n",
       "      <td>10</td>\n",
       "      <td>Брянск</td>\n",
       "      <td>10</td>\n",
       "    </tr>\n",
       "    <tr>\n",
       "      <td>84</td>\n",
       "      <td>Ульяновск</td>\n",
       "      <td>9</td>\n",
       "    </tr>\n",
       "    <tr>\n",
       "      <td>73</td>\n",
       "      <td>Советский</td>\n",
       "      <td>9</td>\n",
       "    </tr>\n",
       "  </tbody>\n",
       "</table>\n",
       "</div>"
      ],
      "text/plain": [
       "               city  average_flights\n",
       "43           Москва              129\n",
       "70  Санкт-Петербург               31\n",
       "54      Новосибирск               17\n",
       "20     Екатеринбург               11\n",
       "33       Красноярск               11\n",
       "63            Пермь               10\n",
       "67   Ростов-на-Дону               10\n",
       "10           Брянск               10\n",
       "84        Ульяновск                9\n",
       "73        Советский                9"
      ]
     },
     "execution_count": 40,
     "metadata": {},
     "output_type": "execute_result"
    }
   ],
   "source": [
    "top_10"
   ]
  },
  {
   "cell_type": "markdown",
   "metadata": {},
   "source": [
    "********"
   ]
  },
  {
   "cell_type": "markdown",
   "metadata": {},
   "source": [
    "**Построим график моделей самолетов и количество рейсов**"
   ]
  },
  {
   "cell_type": "code",
   "execution_count": 41,
   "metadata": {},
   "outputs": [
    {
     "data": {
      "image/png": "[encoded data removed]",
      "text/plain": [
       "<Figure size 1440x576 with 1 Axes>"
      ]
     },
     "metadata": {
      "needs_background": "light"
     },
     "output_type": "display_data"
    }
   ],
   "source": [
    "# Созданим функцию\n",
    "platform_on_sales = query_1.pivot_table(\n",
    "    index='model', values='flights_amount', aggfunc='sum').sort_values(by='flights_amount', ascending=False)\n",
    "\n",
    "plt.figure(figsize=(20,8))\n",
    "sns.barplot(x=platform_on_sales.index,y=platform_on_sales['flights_amount'])\n",
    "plt.title(\"График моделей самолетов и количество рейсов\")\n",
    "plt.xlabel(\"Модели самолета\")\n",
    "plt.ylabel(\"Количество рейсов \");"
   ]
  },
  {
   "cell_type": "markdown",
   "metadata": {},
   "source": [
    "**Вывод:**\n",
    "Самолеты моделей  Cessna 208 Caravan, Bombardier CRJ-200, и Sukhoi SuperJet-100 совершают значительно большее количество полетов по сравнению с другими моделями. Меньше всего перелетов у крупнейшего Boeing 777-300 \n",
    "\n",
    "Cessna 208 Caravan «Сессна 208» — лёгкий американский турбовинтовой одномоторный самолёт общего применения с шасси, которое не убирается. Небольшие самолеты на 9-13 мест, летают по небольшому количеству маршрутво и сугубо на короткие расстояния, обслуживают только направления с малым пассажиропотоком. И это логично, вместимость-то малая\n",
    "\n",
    "Bombardier CRJ-200 имеют повышенные эксплуатационные характеристики: данный тип способен выполнять полёты в сложных метеорологических условиях и в условиях высокогорных аэродромов, самолет на 50 мест, география намного более объемная, чем у \"Cessna\". Летают на средние расстояния, присутствуют высокозагруженные направления (кроме Санкт-Петербург-Москва и обратно). Это Utair;\n",
    "\n",
    "Sukhoi SuperJet-100 российский ближнемагистральный узкофюзеляжный пассажирский самолёт.вместимость - 98 мест. География похожа на географию Bombardier, а по частоте перелетов по маршруту Москва-Брянск и обратно можно угадать S7;\n",
    "\n",
    "\n",
    "Boeing 767 рассчитан на 124 пассажиров. В основном летает за Урал;\n",
    "\n",
    "Boeing 737-300 вместимость - 188 мест. География не сильно разнообразна. В основном летают из Москвы, есть одно направление из Санкт-Петербурга и локальные перелеты на юге;\n",
    "\n",
    "Airbus A321-200 вместимость - 188 мест. География неразнообразна, основное направление - Санкт-Петербург-Москва. S7 - только они обеспечивают прямой перелет Санкт-Петербург-Иркутск \n",
    "\n",
    "двухдвигательный широкофюзеляжный авиалайнер, предназначенный для совершения полётов средней и большой протяжённости, менее популярны для полетов в \n",
    "\n",
    "Boeing 777–300 — крупнейший в мире двухмоторный турбовентиляторный пассажирский лайнер, создан для дальнемагистральных рейсов. Хорош для дальних полетов, например междунородных. вместимость - 407 пассажиров. И удивительно, но география слабая, и перелеты на малые расстояния, видимо, у а/к всего один борт, если они его испсользуют таким образом."
   ]
  },
  {
   "cell_type": "markdown",
   "metadata": {},
   "source": [
    "********"
   ]
  },
  {
   "cell_type": "markdown",
   "metadata": {},
   "source": [
    "**Построим график города и количество рейсов**"
   ]
  },
  {
   "cell_type": "code",
   "execution_count": 42,
   "metadata": {},
   "outputs": [],
   "source": [
    "\n",
    "def create_any_bar(groupby_column, func, y='city'):\n",
    "    plt.style.use('seaborn-pastel')\n",
    "    df_to_plot = query_3.groupby(groupby_column)[y]\n",
    "    if func == 'count':\n",
    "        df_to_plot_calculated = df_to_plot.count()\n",
    "        figsize = (18,25)\n",
    "        plot = df_to_plot_calculated.plot(kind='bar', y=y, figsize=figsize, ec='black')\n",
    "    elif func == 'sum':\n",
    "        df_to_plot_calculated = df_to_plot.sum().sort_values()\n",
    "        figsize = (18,25)\n",
    "        plot = df_to_plot_calculated.plot(kind='barh', y=y, figsize=figsize, ec='black')\n",
    "        "
   ]
  },
  {
   "cell_type": "code",
   "execution_count": 43,
   "metadata": {},
   "outputs": [
    {
     "data": {
      "image/png": "[encoded data removed]",
      "text/plain": [
       "<Figure size 1296x1800 with 1 Axes>"
      ]
     },
     "metadata": {
      "needs_background": "light"
     },
     "output_type": "display_data"
    }
   ],
   "source": [
    "create_any_bar('city', 'sum', 'average_flights')"
   ]
  },
  {
   "cell_type": "markdown",
   "metadata": {},
   "source": [
    "**Вывод:**\n",
    "\n",
    "Ожидаемо, что Москва впереди — это транспортный пул в любое время года. Питер и Новосибирск занимают 2 и 3 место. Остальные города отличаются слабо. Что касается причин, почему меньше рейсов у других городов, исходя из данных которые я имею, могу сказать, что в остальных городах меньше население, кол-во аэропортов, а так же возможно данные были выгружены за будний день ."
   ]
  },
  {
   "cell_type": "markdown",
   "metadata": {},
   "source": [
    "**Топ-10 городов и количество рейсов**"
   ]
  },
  {
   "cell_type": "code",
   "execution_count": 44,
   "metadata": {},
   "outputs": [
    {
     "data": {
      "image/png": "[encoded data removed]",
      "text/plain": [
       "<Figure size 1440x576 with 1 Axes>"
      ]
     },
     "metadata": {
      "needs_background": "light"
     },
     "output_type": "display_data"
    }
   ],
   "source": [
    "# Созданим функцию\n",
    "platform_on_sales = top_10.pivot_table(\n",
    "    index='city', values='average_flights', aggfunc='sum').sort_values(by='average_flights', ascending=False)\n",
    "\n",
    "plt.figure(figsize=(20,8))\n",
    "sns.barplot(x=platform_on_sales.index,y=platform_on_sales['average_flights'])\n",
    "plt.title(\"График моделей самолетов и количество рейсов\")\n",
    "plt.xlabel(\"Модели самолета\")\n",
    "plt.ylabel(\"Количество рейсов \");"
   ]
  },
  {
   "cell_type": "markdown",
   "metadata": {},
   "source": [
    "**Вывод:**\n",
    "\n",
    "Список городов, куда запланировано больше всего перелетов: \n",
    "* Возглавляет  Москва\n",
    "    - 129 рейсов за день, не удивительно для столицы, в основном все рейсы осуществяются из, либо через Москву.\n",
    "* На втором месте — Санкт-Петербург\n",
    "    - 31 рейсов за день, культурная столица находится на втором месте по рейсам\n",
    "* На третьем Новосибирск\n",
    "    - 17 рейсов за день, в Сибири не так много рейсов, возможно их за расстояния, и разницы во времени 4 часа (возможно повлияло на выгрузку)\n",
    "\n",
    "В остальных городах попавших в ТОП-10 всего около 10 перелетов. Странно что в ТОП не попал Сочи."
   ]
  },
  {
   "cell_type": "markdown",
   "metadata": {},
   "source": [
    "****"
   ]
  },
  {
   "cell_type": "markdown",
   "metadata": {},
   "source": [
    "<a name=\"stage_3\"></a>\n",
    "# Вывод"
   ]
  },
  {
   "cell_type": "markdown",
   "metadata": {},
   "source": [
    "**Мы сделали следующее:**\n",
    "\n",
    "* открыли датафрейм, изулили общую информацию о таблицах, проверили тип данных, пропуска, дубли и анамалии в данных\n",
    "\n",
    "\n",
    "* изучили данные по количеству перелетов за сентябрь 2018г. по каждой модели самолета, выяснили, что самыми используемыми моделями самолета (в сентябре 2018г.) являются Cessna 208 Caravan, Bombardier CRJ-200 и Sukhoi SuperJet-100;\n",
    "\n",
    "    - Самолеты моделей Cessna 208 Caravan, Bombardier CRJ-200, и Sukhoi SuperJet-100 совершают значительно большее количество полетов по сравнению с другими моделями. Меньше всего перелетов у крупнейшего Boeing 777-300\n",
    "\n",
    "    - Cessna 208 Caravan «Сессна 208» — лёгкий американский турбовинтовой одномоторный самолёт общего применения с шасси, которое не убирается. Небольшие самолеты на 9-13 мест, летают по небольшому количеству маршрутво и сугубо на короткие расстояния, обслуживают только направления с малым пассажиропотоком. И это логично, вместимость-то малая\n",
    "\n",
    "    - Bombardier CRJ-200 имеют повышенные эксплуатационные характеристики: данный тип способен выполнять полёты в сложных метеорологических условиях и в условиях высокогорных аэродромов, самолет на 50 мест, география намного более объемная, чем у \"Cessna\". Летают на средние расстояния, присутствуют высокозагруженные направления (кроме Санкт-Петербург-Москва и обратно). Это Utair;\n",
    "\n",
    "    - Sukhoi SuperJet-100 российский ближнемагистральный узкофюзеляжный пассажирский самолёт.вместимость - 98 мест. География похожа на географию Bombardier, а по частоте перелетов по маршруту Москва-Брянск и обратно можно угадать S7;\n",
    "\n",
    "    - Boeing 767 рассчитан на 124 пассажиров. В основном летает за Урал;\n",
    "\n",
    "    - Boeing 737-300 вместимость - 188 мест. География не сильно разнообразна. В основном летают из Москвы, есть одно направление из Санкт-Петербурга и локальные перелеты на юге;\n",
    "\n",
    "    - Airbus A321-200 вместимость - 188 мест. География неразнообразна, основное направление - Санкт-Петербург-Москва. S7 - только они обеспечивают прямой перелет Санкт-Петербург-Иркутск\n",
    "\n",
    "    - Boeing 777–300 — крупнейший в мире двухмоторный турбовентиляторный пассажирский лайнер, создан для дальнемагистральных рейсов. Хорош для дальних полетов, например междунородных. вместимость - 407 пассажиров. И удивительно, но география слабая, и перелеты на малые расстояния, видимо, у а/к всего один борт, если они его испсользуют таким образом\n",
    "    \n",
    "    \n",
    "* построили график и посмотрели количество рейсов по отшошению к каждому городу, так же выделили топ 10 городов, где было совершено больше всего рейсов;"
   ]
  }
 ],
 "metadata": {
  "ExecuteTimeLog": [
   {
    "duration": 11,
    "start_time": "2021-07-01T06:38:04.856Z"
   },
   {
    "duration": 1050,
    "start_time": "2021-07-01T06:51:23.738Z"
   },
   {
    "duration": 266,
    "start_time": "2021-07-01T06:51:47.249Z"
   },
   {
    "duration": 665,
    "start_time": "2021-07-01T06:51:59.034Z"
   },
   {
    "duration": 3,
    "start_time": "2021-07-01T06:52:02.841Z"
   },
   {
    "duration": 83,
    "start_time": "2021-07-01T07:05:37.645Z"
   },
   {
    "duration": 22,
    "start_time": "2021-07-01T07:05:50.577Z"
   },
   {
    "duration": 15,
    "start_time": "2021-07-01T07:05:55.536Z"
   },
   {
    "duration": 89,
    "start_time": "2021-07-01T07:08:01.168Z"
   },
   {
    "duration": 20,
    "start_time": "2021-07-01T07:08:06.049Z"
   },
   {
    "duration": 13,
    "start_time": "2021-07-01T07:08:08.911Z"
   },
   {
    "duration": 8,
    "start_time": "2021-07-01T07:08:45.272Z"
   },
   {
    "duration": 8,
    "start_time": "2021-07-01T07:08:53.664Z"
   },
   {
    "duration": 12,
    "start_time": "2021-07-01T07:12:45.343Z"
   },
   {
    "duration": 9,
    "start_time": "2021-07-01T07:12:55.087Z"
   },
   {
    "duration": 4,
    "start_time": "2021-07-01T07:12:59.991Z"
   },
   {
    "duration": 19,
    "start_time": "2021-07-01T07:13:00.158Z"
   },
   {
    "duration": 10,
    "start_time": "2021-07-01T07:13:00.335Z"
   },
   {
    "duration": 8,
    "start_time": "2021-07-01T07:13:00.518Z"
   },
   {
    "duration": 18,
    "start_time": "2021-07-01T07:13:00.687Z"
   },
   {
    "duration": 12,
    "start_time": "2021-07-01T07:13:00.868Z"
   },
   {
    "duration": 9,
    "start_time": "2021-07-01T07:13:01.024Z"
   },
   {
    "duration": 295,
    "start_time": "2021-07-01T07:14:15.559Z"
   },
   {
    "duration": 4,
    "start_time": "2021-07-01T07:14:35.369Z"
   },
   {
    "duration": 8,
    "start_time": "2021-07-01T07:14:40.471Z"
   },
   {
    "duration": 5,
    "start_time": "2021-07-01T07:16:03.511Z"
   },
   {
    "duration": 17,
    "start_time": "2021-07-01T07:16:34.343Z"
   },
   {
    "duration": 16,
    "start_time": "2021-07-01T07:17:08.672Z"
   },
   {
    "duration": 85,
    "start_time": "2021-07-01T07:21:16.190Z"
   },
   {
    "duration": 76,
    "start_time": "2021-07-01T07:21:21.294Z"
   },
   {
    "duration": 106,
    "start_time": "2021-07-01T07:21:36.671Z"
   },
   {
    "duration": 84,
    "start_time": "2021-07-01T07:21:42.719Z"
   },
   {
    "duration": 102,
    "start_time": "2021-07-01T07:21:51.640Z"
   },
   {
    "duration": 12,
    "start_time": "2021-07-01T07:22:07.575Z"
   },
   {
    "duration": 10,
    "start_time": "2021-07-01T07:22:11.079Z"
   },
   {
    "duration": 10,
    "start_time": "2021-07-01T07:22:18.503Z"
   },
   {
    "duration": 10,
    "start_time": "2021-07-01T07:22:18.799Z"
   },
   {
    "duration": 10,
    "start_time": "2021-07-01T07:27:03.818Z"
   },
   {
    "duration": 6,
    "start_time": "2021-07-01T07:27:24.038Z"
   },
   {
    "duration": 574,
    "start_time": "2021-07-01T07:27:38.575Z"
   },
   {
    "duration": 6,
    "start_time": "2021-07-01T07:28:27.208Z"
   },
   {
    "duration": 364,
    "start_time": "2021-07-01T07:28:28.503Z"
   },
   {
    "duration": 7,
    "start_time": "2021-07-01T07:28:48.735Z"
   },
   {
    "duration": 360,
    "start_time": "2021-07-01T07:28:49.998Z"
   },
   {
    "duration": 331,
    "start_time": "2021-07-01T07:28:52.832Z"
   },
   {
    "duration": 6,
    "start_time": "2021-07-01T07:29:03.063Z"
   },
   {
    "duration": 351,
    "start_time": "2021-07-01T07:29:05.583Z"
   },
   {
    "duration": 532,
    "start_time": "2021-07-01T07:43:00.684Z"
   },
   {
    "duration": 4,
    "start_time": "2021-07-01T07:43:13.501Z"
   },
   {
    "duration": 6,
    "start_time": "2021-07-01T07:43:17.164Z"
   },
   {
    "duration": 4,
    "start_time": "2021-07-01T07:43:17.404Z"
   },
   {
    "duration": 246,
    "start_time": "2021-07-01T07:43:56.725Z"
   },
   {
    "duration": 248,
    "start_time": "2021-07-01T07:44:37.364Z"
   },
   {
    "duration": 267,
    "start_time": "2021-07-01T07:45:14.061Z"
   },
   {
    "duration": 260,
    "start_time": "2021-07-01T07:45:27.981Z"
   },
   {
    "duration": 249,
    "start_time": "2021-07-01T07:45:50.912Z"
   },
   {
    "duration": 243,
    "start_time": "2021-07-01T07:45:55.939Z"
   },
   {
    "duration": 395,
    "start_time": "2021-07-01T07:46:34.191Z"
   },
   {
    "duration": 408,
    "start_time": "2021-07-01T07:46:39.733Z"
   },
   {
    "duration": 542,
    "start_time": "2021-07-01T07:46:45.190Z"
   },
   {
    "duration": 456,
    "start_time": "2021-07-01T07:47:16.013Z"
   },
   {
    "duration": 506,
    "start_time": "2021-07-01T07:47:20.605Z"
   },
   {
    "duration": 496,
    "start_time": "2021-07-01T07:48:17.437Z"
   },
   {
    "duration": 506,
    "start_time": "2021-07-01T07:48:37.604Z"
   },
   {
    "duration": 6,
    "start_time": "2021-07-01T07:52:19.580Z"
   },
   {
    "duration": 483,
    "start_time": "2021-07-01T07:52:45.043Z"
   },
   {
    "duration": 2227,
    "start_time": "2021-07-01T07:52:58.028Z"
   },
   {
    "duration": 6,
    "start_time": "2021-07-01T07:53:13.644Z"
   },
   {
    "duration": 2269,
    "start_time": "2021-07-01T07:53:15.551Z"
   },
   {
    "duration": 6,
    "start_time": "2021-07-01T07:53:38.076Z"
   },
   {
    "duration": 2383,
    "start_time": "2021-07-01T07:53:39.116Z"
   },
   {
    "duration": 6,
    "start_time": "2021-07-01T07:53:47.748Z"
   },
   {
    "duration": 2442,
    "start_time": "2021-07-01T07:53:48.675Z"
   },
   {
    "duration": 6,
    "start_time": "2021-07-01T07:54:13.556Z"
   },
   {
    "duration": 2733,
    "start_time": "2021-07-01T07:54:15.038Z"
   },
   {
    "duration": 6,
    "start_time": "2021-07-01T07:54:32.860Z"
   },
   {
    "duration": 2813,
    "start_time": "2021-07-01T07:54:33.412Z"
   },
   {
    "duration": 253,
    "start_time": "2021-07-01T07:55:13.912Z"
   },
   {
    "duration": 2664,
    "start_time": "2021-07-01T07:55:14.692Z"
   },
   {
    "duration": 6,
    "start_time": "2021-07-01T07:55:31.044Z"
   },
   {
    "duration": 2784,
    "start_time": "2021-07-01T07:55:31.402Z"
   },
   {
    "duration": 749,
    "start_time": "2021-07-01T08:00:14.364Z"
   },
   {
    "duration": 874,
    "start_time": "2021-07-01T08:00:30.325Z"
   },
   {
    "duration": 78,
    "start_time": "2021-07-01T08:00:38.789Z"
   },
   {
    "duration": 90,
    "start_time": "2021-07-01T08:00:51.579Z"
   },
   {
    "duration": 80,
    "start_time": "2021-07-01T08:00:55.099Z"
   },
   {
    "duration": 552,
    "start_time": "2021-07-01T08:01:22.494Z"
   },
   {
    "duration": 5864,
    "start_time": "2021-07-01T08:01:55.867Z"
   },
   {
    "duration": 614,
    "start_time": "2021-07-01T08:02:43.234Z"
   },
   {
    "duration": 4,
    "start_time": "2021-07-01T08:03:53.773Z"
   },
   {
    "duration": 19,
    "start_time": "2021-07-01T08:03:53.962Z"
   },
   {
    "duration": 9,
    "start_time": "2021-07-01T08:03:54.162Z"
   },
   {
    "duration": 9,
    "start_time": "2021-07-01T08:03:54.332Z"
   },
   {
    "duration": 20,
    "start_time": "2021-07-01T08:03:54.507Z"
   },
   {
    "duration": 14,
    "start_time": "2021-07-01T08:03:54.684Z"
   },
   {
    "duration": 8,
    "start_time": "2021-07-01T08:03:54.861Z"
   },
   {
    "duration": 5,
    "start_time": "2021-07-01T08:03:55.031Z"
   },
   {
    "duration": 8,
    "start_time": "2021-07-01T08:03:55.196Z"
   },
   {
    "duration": 18,
    "start_time": "2021-07-01T08:03:55.378Z"
   },
   {
    "duration": 11,
    "start_time": "2021-07-01T08:03:55.706Z"
   },
   {
    "duration": 10,
    "start_time": "2021-07-01T08:03:55.891Z"
   },
   {
    "duration": 561,
    "start_time": "2021-07-01T08:03:56.267Z"
   },
   {
    "duration": 7,
    "start_time": "2021-07-01T08:03:56.831Z"
   },
   {
    "duration": 3041,
    "start_time": "2021-07-01T08:03:57.037Z"
   },
   {
    "duration": 639,
    "start_time": "2021-07-01T08:04:00.081Z"
   },
   {
    "duration": 90,
    "start_time": "2021-07-01T08:25:25.633Z"
   },
   {
    "duration": 4,
    "start_time": "2021-07-01T08:57:53.147Z"
   },
   {
    "duration": 19,
    "start_time": "2021-07-01T08:57:53.324Z"
   },
   {
    "duration": 9,
    "start_time": "2021-07-01T08:57:53.460Z"
   },
   {
    "duration": 8,
    "start_time": "2021-07-01T08:57:53.628Z"
   },
   {
    "duration": 21,
    "start_time": "2021-07-01T08:57:53.796Z"
   },
   {
    "duration": 13,
    "start_time": "2021-07-01T08:57:53.940Z"
   },
   {
    "duration": 8,
    "start_time": "2021-07-01T08:57:54.108Z"
   },
   {
    "duration": 4,
    "start_time": "2021-07-01T08:57:54.277Z"
   },
   {
    "duration": 8,
    "start_time": "2021-07-01T08:57:54.467Z"
   },
   {
    "duration": 19,
    "start_time": "2021-07-01T08:57:54.625Z"
   },
   {
    "duration": 11,
    "start_time": "2021-07-01T08:57:55.123Z"
   },
   {
    "duration": 10,
    "start_time": "2021-07-01T08:57:55.308Z"
   },
   {
    "duration": 605,
    "start_time": "2021-07-01T08:57:55.681Z"
   },
   {
    "duration": 6,
    "start_time": "2021-07-01T08:57:56.288Z"
   },
   {
    "duration": 2987,
    "start_time": "2021-07-01T08:57:56.371Z"
   },
   {
    "duration": 673,
    "start_time": "2021-07-01T08:57:59.361Z"
   },
   {
    "duration": 1420,
    "start_time": "2021-07-01T12:09:47.569Z"
   },
   {
    "duration": 21,
    "start_time": "2021-07-01T12:09:48.991Z"
   },
   {
    "duration": 16,
    "start_time": "2021-07-01T12:09:49.016Z"
   },
   {
    "duration": 27,
    "start_time": "2021-07-01T12:09:49.035Z"
   },
   {
    "duration": 18,
    "start_time": "2021-07-01T12:09:49.065Z"
   },
   {
    "duration": 16,
    "start_time": "2021-07-01T12:09:49.085Z"
   },
   {
    "duration": 12,
    "start_time": "2021-07-01T12:09:49.104Z"
   },
   {
    "duration": 5,
    "start_time": "2021-07-01T12:09:49.120Z"
   },
   {
    "duration": 35,
    "start_time": "2021-07-01T12:09:49.128Z"
   },
   {
    "duration": 18,
    "start_time": "2021-07-01T12:09:49.166Z"
   },
   {
    "duration": 9,
    "start_time": "2021-07-01T12:09:49.187Z"
   },
   {
    "duration": 13,
    "start_time": "2021-07-01T12:09:49.199Z"
   },
   {
    "duration": 589,
    "start_time": "2021-07-01T12:09:49.214Z"
   },
   {
    "duration": 6,
    "start_time": "2021-07-01T12:09:49.805Z"
   },
   {
    "duration": 2833,
    "start_time": "2021-07-01T12:09:49.813Z"
   },
   {
    "duration": 583,
    "start_time": "2021-07-01T12:09:52.649Z"
   },
   {
    "duration": 139,
    "start_time": "2021-07-02T11:11:31.092Z"
   },
   {
    "duration": 1495,
    "start_time": "2021-07-02T11:16:54.801Z"
   },
   {
    "duration": 19,
    "start_time": "2021-07-02T11:16:56.301Z"
   },
   {
    "duration": 16,
    "start_time": "2021-07-02T11:16:56.324Z"
   },
   {
    "duration": 9,
    "start_time": "2021-07-02T11:16:56.343Z"
   },
   {
    "duration": 19,
    "start_time": "2021-07-02T11:16:56.355Z"
   },
   {
    "duration": 44,
    "start_time": "2021-07-02T11:16:56.377Z"
   },
   {
    "duration": 8,
    "start_time": "2021-07-02T11:16:56.423Z"
   },
   {
    "duration": 6,
    "start_time": "2021-07-02T11:16:56.435Z"
   },
   {
    "duration": 11,
    "start_time": "2021-07-02T11:16:56.443Z"
   },
   {
    "duration": 20,
    "start_time": "2021-07-02T11:16:56.456Z"
   },
   {
    "duration": 31,
    "start_time": "2021-07-02T11:16:56.478Z"
   },
   {
    "duration": 19,
    "start_time": "2021-07-02T11:16:56.512Z"
   },
   {
    "duration": 559,
    "start_time": "2021-07-02T11:16:56.534Z"
   },
   {
    "duration": 6,
    "start_time": "2021-07-02T11:16:57.100Z"
   },
   {
    "duration": 2656,
    "start_time": "2021-07-02T11:16:57.108Z"
   },
   {
    "duration": 578,
    "start_time": "2021-07-02T11:16:59.768Z"
   },
   {
    "duration": 17,
    "start_time": "2021-07-02T11:17:15.338Z"
   },
   {
    "duration": 9,
    "start_time": "2021-07-02T11:19:33.219Z"
   },
   {
    "duration": 8,
    "start_time": "2021-07-02T11:21:02.784Z"
   },
   {
    "duration": 6,
    "start_time": "2021-07-02T11:22:20.234Z"
   },
   {
    "duration": 11,
    "start_time": "2021-07-02T11:23:44.897Z"
   },
   {
    "duration": 542,
    "start_time": "2021-07-02T11:27:42.954Z"
   },
   {
    "duration": 293,
    "start_time": "2021-07-02T11:28:12.090Z"
   },
   {
    "duration": 281,
    "start_time": "2021-07-02T11:28:27.026Z"
   },
   {
    "duration": 39,
    "start_time": "2021-07-02T11:28:31.118Z"
   },
   {
    "duration": 10,
    "start_time": "2021-07-02T11:29:29.176Z"
   },
   {
    "duration": 32,
    "start_time": "2021-07-02T11:29:29.377Z"
   },
   {
    "duration": 4,
    "start_time": "2021-07-02T11:30:55.440Z"
   },
   {
    "duration": 19,
    "start_time": "2021-07-02T11:30:55.662Z"
   },
   {
    "duration": 10,
    "start_time": "2021-07-02T11:30:55.840Z"
   },
   {
    "duration": 8,
    "start_time": "2021-07-02T11:30:56.062Z"
   },
   {
    "duration": 18,
    "start_time": "2021-07-02T11:30:56.256Z"
   },
   {
    "duration": 8,
    "start_time": "2021-07-02T11:30:56.484Z"
   },
   {
    "duration": 8,
    "start_time": "2021-07-02T11:30:56.665Z"
   },
   {
    "duration": 5,
    "start_time": "2021-07-02T11:30:56.816Z"
   },
   {
    "duration": 10,
    "start_time": "2021-07-02T11:30:57.000Z"
   },
   {
    "duration": 32,
    "start_time": "2021-07-02T11:30:57.188Z"
   },
   {
    "duration": 18,
    "start_time": "2021-07-02T11:30:58.042Z"
   },
   {
    "duration": 14,
    "start_time": "2021-07-02T11:30:58.209Z"
   },
   {
    "duration": 8,
    "start_time": "2021-07-02T11:30:58.407Z"
   },
   {
    "duration": 5,
    "start_time": "2021-07-02T11:30:58.592Z"
   },
   {
    "duration": 8,
    "start_time": "2021-07-02T11:30:58.783Z"
   },
   {
    "duration": 17,
    "start_time": "2021-07-02T11:30:59.296Z"
   },
   {
    "duration": 10,
    "start_time": "2021-07-02T11:31:01.719Z"
   },
   {
    "duration": 33,
    "start_time": "2021-07-02T11:32:05.666Z"
   },
   {
    "duration": 9,
    "start_time": "2021-07-02T11:37:53.616Z"
   },
   {
    "duration": 8,
    "start_time": "2021-07-02T11:37:56.704Z"
   },
   {
    "duration": 287,
    "start_time": "2021-07-02T11:38:04.392Z"
   },
   {
    "duration": 34,
    "start_time": "2021-07-02T11:38:12.048Z"
   },
   {
    "duration": 10,
    "start_time": "2021-07-02T11:38:15.559Z"
   },
   {
    "duration": 52,
    "start_time": "2021-07-02T11:38:15.744Z"
   },
   {
    "duration": 476,
    "start_time": "2021-07-02T11:38:53.094Z"
   },
   {
    "duration": 38,
    "start_time": "2021-07-02T11:38:59.991Z"
   },
   {
    "duration": 6,
    "start_time": "2021-07-02T11:41:04.264Z"
   },
   {
    "duration": 12,
    "start_time": "2021-07-02T11:41:07.990Z"
   },
   {
    "duration": 6,
    "start_time": "2021-07-02T11:41:08.160Z"
   },
   {
    "duration": 7,
    "start_time": "2021-07-02T11:41:15.274Z"
   },
   {
    "duration": 10,
    "start_time": "2021-07-02T11:41:36.039Z"
   },
   {
    "duration": 25,
    "start_time": "2021-07-02T11:41:43.831Z"
   },
   {
    "duration": 21,
    "start_time": "2021-07-02T11:41:46.854Z"
   },
   {
    "duration": 31,
    "start_time": "2021-07-02T11:42:03.208Z"
   },
   {
    "duration": 33,
    "start_time": "2021-07-02T11:46:27.710Z"
   },
   {
    "duration": 4,
    "start_time": "2021-07-02T11:49:18.404Z"
   },
   {
    "duration": 17,
    "start_time": "2021-07-02T11:49:18.558Z"
   },
   {
    "duration": 10,
    "start_time": "2021-07-02T11:49:18.719Z"
   },
   {
    "duration": 8,
    "start_time": "2021-07-02T11:49:18.878Z"
   },
   {
    "duration": 17,
    "start_time": "2021-07-02T11:49:19.030Z"
   },
   {
    "duration": 36,
    "start_time": "2021-07-02T11:49:19.335Z"
   },
   {
    "duration": 19,
    "start_time": "2021-07-02T11:49:19.822Z"
   },
   {
    "duration": 13,
    "start_time": "2021-07-02T11:49:19.991Z"
   },
   {
    "duration": 8,
    "start_time": "2021-07-02T11:49:20.174Z"
   },
   {
    "duration": 5,
    "start_time": "2021-07-02T11:49:20.428Z"
   },
   {
    "duration": 8,
    "start_time": "2021-07-02T11:49:20.625Z"
   },
   {
    "duration": 16,
    "start_time": "2021-07-02T11:49:20.797Z"
   },
   {
    "duration": 34,
    "start_time": "2021-07-02T11:49:20.975Z"
   },
   {
    "duration": 9,
    "start_time": "2021-07-02T11:55:04.974Z"
   },
   {
    "duration": 7,
    "start_time": "2021-07-02T11:55:12.942Z"
   },
   {
    "duration": 7,
    "start_time": "2021-07-02T11:55:22.366Z"
   },
   {
    "duration": 8,
    "start_time": "2021-07-02T11:55:27.848Z"
   },
   {
    "duration": 4,
    "start_time": "2021-07-02T11:55:37.632Z"
   },
   {
    "duration": 18,
    "start_time": "2021-07-02T11:55:37.822Z"
   },
   {
    "duration": 9,
    "start_time": "2021-07-02T11:55:38.022Z"
   },
   {
    "duration": 8,
    "start_time": "2021-07-02T11:55:38.240Z"
   },
   {
    "duration": 16,
    "start_time": "2021-07-02T11:55:38.397Z"
   },
   {
    "duration": 7,
    "start_time": "2021-07-02T11:55:38.590Z"
   },
   {
    "duration": 32,
    "start_time": "2021-07-02T11:55:39.033Z"
   },
   {
    "duration": 17,
    "start_time": "2021-07-02T11:55:39.541Z"
   },
   {
    "duration": 12,
    "start_time": "2021-07-02T11:55:39.767Z"
   },
   {
    "duration": 8,
    "start_time": "2021-07-02T11:55:39.991Z"
   },
   {
    "duration": 5,
    "start_time": "2021-07-02T11:55:40.197Z"
   },
   {
    "duration": 8,
    "start_time": "2021-07-02T11:55:40.439Z"
   },
   {
    "duration": 16,
    "start_time": "2021-07-02T11:55:40.661Z"
   },
   {
    "duration": 7,
    "start_time": "2021-07-02T11:55:40.867Z"
   },
   {
    "duration": 33,
    "start_time": "2021-07-02T11:55:41.039Z"
   },
   {
    "duration": 103,
    "start_time": "2021-07-02T11:55:41.596Z"
   },
   {
    "duration": 9,
    "start_time": "2021-07-02T11:55:42.029Z"
   },
   {
    "duration": 12,
    "start_time": "2021-07-02T11:55:42.198Z"
   },
   {
    "duration": 555,
    "start_time": "2021-07-02T11:55:42.696Z"
   },
   {
    "duration": 100,
    "start_time": "2021-07-02T12:25:40.910Z"
   },
   {
    "duration": 90,
    "start_time": "2021-07-02T14:39:07.388Z"
   },
   {
    "duration": 280,
    "start_time": "2021-07-02T14:39:22.009Z"
   },
   {
    "duration": 650,
    "start_time": "2021-07-02T14:42:51.633Z"
   },
   {
    "duration": 1085,
    "start_time": "2021-07-04T07:06:52.501Z"
   },
   {
    "duration": 15,
    "start_time": "2021-07-04T07:06:53.588Z"
   },
   {
    "duration": 15,
    "start_time": "2021-07-04T07:06:53.605Z"
   },
   {
    "duration": 6,
    "start_time": "2021-07-04T07:06:54.311Z"
   },
   {
    "duration": 11,
    "start_time": "2021-07-04T07:06:54.764Z"
   },
   {
    "duration": 5,
    "start_time": "2021-07-04T07:06:55.095Z"
   },
   {
    "duration": 22,
    "start_time": "2021-07-04T07:06:55.598Z"
   },
   {
    "duration": 16,
    "start_time": "2021-07-04T07:06:56.623Z"
   },
   {
    "duration": 9,
    "start_time": "2021-07-04T07:06:56.946Z"
   },
   {
    "duration": 5,
    "start_time": "2021-07-04T07:06:57.287Z"
   },
   {
    "duration": 5,
    "start_time": "2021-07-04T07:06:57.526Z"
   },
   {
    "duration": 5,
    "start_time": "2021-07-04T07:06:57.743Z"
   },
   {
    "duration": 10,
    "start_time": "2021-07-04T07:06:57.936Z"
   },
   {
    "duration": 5,
    "start_time": "2021-07-04T07:06:58.133Z"
   },
   {
    "duration": 18,
    "start_time": "2021-07-04T07:06:58.331Z"
   },
   {
    "duration": 7,
    "start_time": "2021-07-04T07:06:59.518Z"
   },
   {
    "duration": 7,
    "start_time": "2021-07-04T07:06:59.717Z"
   },
   {
    "duration": 299,
    "start_time": "2021-07-04T07:07:00.269Z"
   },
   {
    "duration": 4,
    "start_time": "2021-07-04T07:07:01.451Z"
   },
   {
    "duration": 1489,
    "start_time": "2021-07-04T07:07:01.681Z"
   },
   {
    "duration": 312,
    "start_time": "2021-07-04T07:07:03.172Z"
   },
   {
    "duration": 81,
    "start_time": "2021-07-04T07:26:15.429Z"
   },
   {
    "duration": 82,
    "start_time": "2021-07-04T07:26:24.766Z"
   },
   {
    "duration": 3,
    "start_time": "2021-07-04T07:41:07.273Z"
   },
   {
    "duration": 16,
    "start_time": "2021-07-04T07:41:07.432Z"
   },
   {
    "duration": 6,
    "start_time": "2021-07-04T07:41:07.653Z"
   },
   {
    "duration": 5,
    "start_time": "2021-07-04T07:41:07.836Z"
   },
   {
    "duration": 11,
    "start_time": "2021-07-04T07:41:08.026Z"
   },
   {
    "duration": 5,
    "start_time": "2021-07-04T07:41:08.291Z"
   },
   {
    "duration": 19,
    "start_time": "2021-07-04T07:41:08.673Z"
   },
   {
    "duration": 15,
    "start_time": "2021-07-04T07:41:09.216Z"
   },
   {
    "duration": 8,
    "start_time": "2021-07-04T07:41:09.387Z"
   },
   {
    "duration": 5,
    "start_time": "2021-07-04T07:41:09.560Z"
   },
   {
    "duration": 4,
    "start_time": "2021-07-04T07:41:09.735Z"
   },
   {
    "duration": 5,
    "start_time": "2021-07-04T07:41:09.908Z"
   },
   {
    "duration": 11,
    "start_time": "2021-07-04T07:41:10.094Z"
   },
   {
    "duration": 5,
    "start_time": "2021-07-04T07:41:10.280Z"
   },
   {
    "duration": 18,
    "start_time": "2021-07-04T07:41:10.461Z"
   },
   {
    "duration": 7,
    "start_time": "2021-07-04T07:41:11.573Z"
   },
   {
    "duration": 6,
    "start_time": "2021-07-04T07:41:11.767Z"
   },
   {
    "duration": 283,
    "start_time": "2021-07-04T07:41:12.309Z"
   },
   {
    "duration": 4,
    "start_time": "2021-07-04T07:41:13.441Z"
   },
   {
    "duration": 1528,
    "start_time": "2021-07-04T07:41:13.601Z"
   },
   {
    "duration": 312,
    "start_time": "2021-07-04T07:41:15.130Z"
   }
  ],
  "kernelspec": {
   "display_name": "Python 3",
   "language": "python",
   "name": "python3"
  },
  "language_info": {
   "codemirror_mode": {
    "name": "ipython",
    "version": 3
   },
   "file_extension": ".py",
   "mimetype": "text/x-python",
   "name": "python",
   "nbconvert_exporter": "python",
   "pygments_lexer": "ipython3",
   "version": "3.7.8"
  },
  "toc": {
   "base_numbering": 1,
   "nav_menu": {},
   "number_sections": true,
   "sideBar": true,
   "skip_h1_title": true,
   "title_cell": "Table of Contents",
   "title_sidebar": "Contents",
   "toc_cell": false,
   "toc_position": {},
   "toc_section_display": true,
   "toc_window_display": false
  }
 },
 "nbformat": 4,
 "nbformat_minor": 2
}
